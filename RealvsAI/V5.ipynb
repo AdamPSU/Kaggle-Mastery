{
 "cells": [
  {
   "cell_type": "code",
   "execution_count": 1,
   "id": "0c3d8395",
   "metadata": {
    "_cell_guid": "b1076dfc-b9ad-4769-8c92-a6c4dae69d19",
    "_uuid": "8f2839f25d086af736a60e9eeb907d3b93b6e0e5",
    "execution": {
     "iopub.execute_input": "2025-03-08T05:23:26.103569Z",
     "iopub.status.busy": "2025-03-08T05:23:26.103177Z",
     "iopub.status.idle": "2025-03-08T05:23:43.317238Z",
     "shell.execute_reply": "2025-03-08T05:23:43.316283Z"
    },
    "papermill": {
     "duration": 17.219496,
     "end_time": "2025-03-08T05:23:43.318922",
     "exception": false,
     "start_time": "2025-03-08T05:23:26.099426",
     "status": "completed"
    },
    "tags": []
   },
   "outputs": [],
   "source": [
    "import random\n",
    "import pandas as pd \n",
    "import numpy as np \n",
    "\n",
    "import torch\n",
    "import torch.nn as nn\n",
    "import torch.optim as optim \n",
    "\n",
    "from torchmetrics.classification import BinaryF1Score\n",
    "from torchvision import transforms as T\n",
    "import torchvision.models as models\n",
    "from torch.utils.data import Dataset, DataLoader, Subset\n",
    "from sklearn.metrics import f1_score\n",
    "from sklearn.model_selection import GroupKFold\n",
    "from PIL import Image\n",
    "from tqdm import tqdm\n",
    "\n",
    "DEBUGGING = False"
   ]
  },
  {
   "cell_type": "code",
   "execution_count": 2,
   "id": "6c23b921",
   "metadata": {
    "execution": {
     "iopub.execute_input": "2025-03-08T05:23:43.324933Z",
     "iopub.status.busy": "2025-03-08T05:23:43.324495Z",
     "iopub.status.idle": "2025-03-08T05:23:43.492426Z",
     "shell.execute_reply": "2025-03-08T05:23:43.491647Z"
    },
    "papermill": {
     "duration": 0.17237,
     "end_time": "2025-03-08T05:23:43.494017",
     "exception": false,
     "start_time": "2025-03-08T05:23:43.321647",
     "status": "completed"
    },
    "tags": []
   },
   "outputs": [],
   "source": [
    "train_df = pd.read_csv(\"/kaggle/input/ai-vs-human-generated-dataset/train.csv\")\n",
    "test_df = pd.read_csv(\"/kaggle/input/ai-vs-human-generated-dataset/test.csv\")\n",
    "\n",
    "train_df[\"group\"] = np.arange(len(train_df)) // 2 # Create groups: Assign the same group number to each pair"
   ]
  },
  {
   "cell_type": "code",
   "execution_count": 3,
   "id": "08dc5fdb",
   "metadata": {
    "execution": {
     "iopub.execute_input": "2025-03-08T05:23:43.499499Z",
     "iopub.status.busy": "2025-03-08T05:23:43.499253Z",
     "iopub.status.idle": "2025-03-08T05:23:43.504625Z",
     "shell.execute_reply": "2025-03-08T05:23:43.503999Z"
    },
    "papermill": {
     "duration": 0.009451,
     "end_time": "2025-03-08T05:23:43.505879",
     "exception": false,
     "start_time": "2025-03-08T05:23:43.496428",
     "status": "completed"
    },
    "tags": []
   },
   "outputs": [],
   "source": [
    "class DeepfakeDataset(Dataset): \n",
    "    def __init__(self, df, root_dir, transform, train=bool): \n",
    "        self.data = df\n",
    "        self.root = root_dir \n",
    "        self.transform = transform\n",
    "        self.train = train\n",
    "\n",
    "    def __len__(self):\n",
    "        return len(self.data) \n",
    "\n",
    "    def __getitem__(self, idx): \n",
    "        if self.train: \n",
    "            img_path = self.root + self.data.iloc[idx, 1]\n",
    "            \n",
    "            image = Image.open(img_path).convert(\"RGB\") \n",
    "            image = self.transform(image) \n",
    "            \n",
    "            label = self.data.iloc[idx, 2]\n",
    "\n",
    "            return image, torch.tensor(label)\n",
    "        else:\n",
    "            img_path = self.root + self.data.iloc[idx, 0]\n",
    "            image = Image.open(img_path).convert(\"RGB\") \n",
    "            image = self.transform(image) \n",
    "\n",
    "            return image"
   ]
  },
  {
   "cell_type": "code",
   "execution_count": 4,
   "id": "3a50b823",
   "metadata": {
    "execution": {
     "iopub.execute_input": "2025-03-08T05:23:43.511178Z",
     "iopub.status.busy": "2025-03-08T05:23:43.510973Z",
     "iopub.status.idle": "2025-03-08T05:23:43.526651Z",
     "shell.execute_reply": "2025-03-08T05:23:43.526094Z"
    },
    "papermill": {
     "duration": 0.019913,
     "end_time": "2025-03-08T05:23:43.528064",
     "exception": false,
     "start_time": "2025-03-08T05:23:43.508151",
     "status": "completed"
    },
    "tags": []
   },
   "outputs": [],
   "source": [
    "class DeepfakeTrainer:\n",
    "    def __init__(self, train_dataset, test_dataset, model_class=None, \n",
    "                 k_folds=3, batch_size=64, lr=0.001, \n",
    "                 criterion=nn.CrossEntropyLoss(), random_state=42):\n",
    "        \n",
    "        self.model_class = model_class\n",
    "        self.train_dataset = train_dataset\n",
    "        self.test_dataset = test_dataset\n",
    "  \n",
    "        self.device = torch.device(\"cuda\" if torch.cuda.is_available() else \"cpu\")\n",
    "        self.criterion = criterion\n",
    "        \n",
    "        self.k_folds = k_folds\n",
    "        self.batch_size = batch_size\n",
    "        self.lr = lr\n",
    "        self.random_state = random_state\n",
    "        \n",
    "        # Metrics\n",
    "        self.train_scores = []\n",
    "        self.val_scores = []\n",
    "    \n",
    "    def train_epoch(self, model, train_loader, optimizer, f1_metric):\n",
    "        \"\"\"Train for one epoch.\"\"\"\n",
    "        model.train()\n",
    "        f1_metric.reset()\n",
    "        \n",
    "        for img, label in tqdm(train_loader, desc=\"TRAINING\"):\n",
    "            img, label = img.to(self.device), label.to(self.device)\n",
    "            \n",
    "            # Forward pass\n",
    "            optimizer.zero_grad()\n",
    "            outputs = model(img).squeeze()\n",
    "            loss = self.criterion(outputs, label.float())\n",
    "            \n",
    "            # Backward pass\n",
    "            loss.backward()\n",
    "            optimizer.step()\n",
    "            \n",
    "            # Calculate metrics\n",
    "            preds = (outputs > 0.5).int()\n",
    "            f1_metric.update(preds, label.int())\n",
    "            \n",
    "        return f1_metric.compute().item()\n",
    "    \n",
    "    def evaluate(self, model, val_loader, f1_metric):\n",
    "        \"\"\"Evaluate the model.\"\"\"\n",
    "        \n",
    "        model.eval()\n",
    "        f1_metric.reset()\n",
    "        \n",
    "        with torch.no_grad():\n",
    "            for img, label in tqdm(val_loader, desc=\"VALIDATION\"):\n",
    "                img, label = img.to(self.device), label.to(self.device)\n",
    "                \n",
    "                # Forward pass\n",
    "                outputs = model(img).squeeze()\n",
    "                \n",
    "                # Calculate metrics\n",
    "                preds = (outputs > 0.5).int()\n",
    "                f1_metric.update(preds, label.int())\n",
    "                \n",
    "        return f1_metric.compute().item()\n",
    "    \n",
    "    def process_fold(self, train_loader, val_loader, epochs):\n",
    "        \"\"\"Process a single fold.\"\"\"\n",
    "\n",
    "        if self.model_class: \n",
    "            model = self.model_class()\n",
    "        else: \n",
    "            model = models.resnet50(weights=models.ResNet50_Weights.IMAGENET1K_V1)\n",
    "            n_features = model.fc.in_features\n",
    "            model.fc = nn.Linear(n_features, 1)\n",
    "\n",
    "        model = model.to(self.device)\n",
    "        optimizer = optim.Adam(model.parameters(), lr=self.lr)\n",
    "        train_f1_metric = BinaryF1Score().to(self.device)\n",
    "        val_f1_metric = BinaryF1Score().to(self.device)\n",
    "        \n",
    "        train_fold_scores = []\n",
    "        val_fold_scores = []\n",
    "        \n",
    "        for epoch in range(epochs):\n",
    "            # Train\n",
    "            train_epoch_f1 = self.train_epoch(model, train_loader, optimizer, train_f1_metric)\n",
    "            train_fold_scores.append(train_epoch_f1)\n",
    "            \n",
    "            # Validate\n",
    "            val_epoch_f1 = self.evaluate(model, val_loader, val_f1_metric)\n",
    "            val_fold_scores.append(val_epoch_f1)\n",
    "            \n",
    "            print(f\"Epoch {epoch+1}/{epochs} - Train F1 Score: {train_epoch_f1:.3f}, Val F1 Score: {val_epoch_f1:.3f}\")\n",
    "        \n",
    "        train_avg_f1 = sum(train_fold_scores) / len(train_fold_scores)\n",
    "        val_avg_f1 = sum(val_fold_scores) / len(val_fold_scores)\n",
    "        \n",
    "        return model, train_avg_f1, val_avg_f1\n",
    "    \n",
    "    def train(self, epochs, df):\n",
    "        \"\"\"Train with k-fold cross validation.\"\"\"\n",
    "\n",
    "        best_model = None\n",
    "        best_val_score = 0\n",
    "        \n",
    "        gkf = GroupKFold(n_splits=self.k_folds)\n",
    "        splits = list(gkf.split(df, groups=df[\"group\"]))\n",
    "        \n",
    "        for fold, (train_idx, val_idx) in enumerate(splits):\n",
    "            print(f\"\\n{'-'*50}\")\n",
    "            print(f\"FOLD {fold + 1}/{self.k_folds}\")\n",
    "            print(f\"{'-'*50}\\n\")\n",
    "            \n",
    "            # Create data loaders for this fold\n",
    "            train_data = Subset(self.train_dataset, train_idx)\n",
    "            val_data = Subset(self.train_dataset, val_idx)\n",
    "            \n",
    "            train_loader = DataLoader(\n",
    "                train_data, \n",
    "                batch_size=self.batch_size, \n",
    "                shuffle=True\n",
    "            )\n",
    "            val_loader = DataLoader(\n",
    "                val_data, \n",
    "                batch_size=self.batch_size, \n",
    "                shuffle=False\n",
    "            )\n",
    "            \n",
    "            # Process this fold\n",
    "            model, train_fold_f1, val_fold_f1 = self.process_fold(\n",
    "                train_loader, val_loader, epochs\n",
    "            )\n",
    "            \n",
    "            print(f\"\\nFOLD {fold + 1} RESULTS:\")\n",
    "            print(f\"TRAIN F1_SCORE: {train_fold_f1:.3f}, VAL F1_SCORE: {val_fold_f1:.3f}\\n\")\n",
    "            \n",
    "            # Store scores\n",
    "            self.train_scores.append(train_fold_f1)\n",
    "            self.val_scores.append(val_fold_f1)\n",
    "            \n",
    "            # Keep track of best model\n",
    "            if val_fold_f1 > best_val_score:\n",
    "                best_val_score = val_fold_f1\n",
    "                best_model = model\n",
    "        \n",
    "        # Print final results\n",
    "        train_avg_f1 = sum(self.train_scores) / len(self.train_scores)\n",
    "        val_avg_f1 = sum(self.val_scores) / len(self.val_scores)\n",
    "        \n",
    "        print(f\"{'-'*50}\")\n",
    "        print(f\"CROSS-VALIDATION RESULTS:\")\n",
    "        print(f\"AVG TRAIN F1_SCORE: {train_avg_f1:.3f}, AVG VAL F1_SCORE: {val_avg_f1:.3f}\")\n",
    "        print(f\"{'-'*50}\\n\")\n",
    "        \n",
    "        return best_model\n",
    "    \n",
    "    def predict(self, model):\n",
    "        \"\"\"Make predictions with the model.\"\"\"\n",
    "        model.eval()\n",
    "        all_preds = []\n",
    "\n",
    "        test_loader = DataLoader(\n",
    "            self.test_dataset, \n",
    "            batch_size=64, \n",
    "            shuffle=False\n",
    "        )\n",
    "        \n",
    "        with torch.no_grad():\n",
    "            for img in tqdm(test_loader, desc=\"PREDICTING\"):\n",
    "                img = img.to(self.device)\n",
    "                outputs = model(img).squeeze()\n",
    "                preds = (outputs > 0.5).int()\n",
    "                all_preds.extend(preds.cpu().numpy())\n",
    "                \n",
    "        return np.array(all_preds)"
   ]
  },
  {
   "cell_type": "code",
   "execution_count": 5,
   "id": "79dbd4af",
   "metadata": {
    "execution": {
     "iopub.execute_input": "2025-03-08T05:23:43.533262Z",
     "iopub.status.busy": "2025-03-08T05:23:43.533053Z",
     "iopub.status.idle": "2025-03-08T05:23:43.538029Z",
     "shell.execute_reply": "2025-03-08T05:23:43.537285Z"
    },
    "papermill": {
     "duration": 0.008942,
     "end_time": "2025-03-08T05:23:43.539234",
     "exception": false,
     "start_time": "2025-03-08T05:23:43.530292",
     "status": "completed"
    },
    "tags": []
   },
   "outputs": [],
   "source": [
    "train_transform = T.Compose([\n",
    "    T.Resize((128, 128)), \n",
    "    \n",
    "    # Human Augments\n",
    "    T.RandomPerspective(\n",
    "        distortion_scale=0.5, \n",
    "        p=0.5\n",
    "    ),\n",
    "    T.RandomRotation(30), \n",
    "    T.GaussianBlur(\n",
    "        kernel_size=5, \n",
    "        sigma=(0.1, 2.0)\n",
    "    ),\n",
    "\n",
    "    # AI Augments \n",
    "    T.ColorJitter(\n",
    "        brightness=0.5, \n",
    "        contrast=0.5, \n",
    "        saturation=0.5,\n",
    "        hue=0.3\n",
    "    ),           \n",
    "    T.ToTensor(), \n",
    "    T.Normalize(\n",
    "        mean=[0.5, 0.5, 0.5], \n",
    "        std=[0.5, 0.5, 0.5]\n",
    "    )  \n",
    "])\n",
    "\n",
    "test_transform = T.Compose([\n",
    "    T.Resize((128, 128)),\n",
    "    T.ToTensor(), \n",
    "    T.Normalize(\n",
    "        mean=[0.5, 0.5, 0.5], \n",
    "        std=[0.5, 0.5, 0.5]\n",
    "    )  \n",
    "])"
   ]
  },
  {
   "cell_type": "code",
   "execution_count": 6,
   "id": "6dd2c1f3",
   "metadata": {
    "execution": {
     "iopub.execute_input": "2025-03-08T05:23:43.544162Z",
     "iopub.status.busy": "2025-03-08T05:23:43.543963Z",
     "iopub.status.idle": "2025-03-08T05:23:43.547565Z",
     "shell.execute_reply": "2025-03-08T05:23:43.546898Z"
    },
    "papermill": {
     "duration": 0.00764,
     "end_time": "2025-03-08T05:23:43.548889",
     "exception": false,
     "start_time": "2025-03-08T05:23:43.541249",
     "status": "completed"
    },
    "tags": []
   },
   "outputs": [],
   "source": [
    "train_data = DeepfakeDataset(\n",
    "    df=train_df, \n",
    "    root_dir=\"/kaggle/input/ai-vs-human-generated-dataset/\",\n",
    "    transform=train_transform,\n",
    "    train=True\n",
    ")\n",
    "\n",
    "test_data = DeepfakeDataset(\n",
    "    df=test_df,\n",
    "    root_dir=\"/kaggle/input/ai-vs-human-generated-dataset/\", \n",
    "    transform=test_transform,\n",
    "    train=False\n",
    ")\n",
    "\n",
    "if DEBUGGING: \n",
    "    indices = list(range(300))\n",
    "    \n",
    "    train_data = Subset(train_data, indices)\n",
    "    train_df = train_df.iloc[indices]"
   ]
  },
  {
   "cell_type": "code",
   "execution_count": 7,
   "id": "feef1882",
   "metadata": {
    "execution": {
     "iopub.execute_input": "2025-03-08T05:23:43.553947Z",
     "iopub.status.busy": "2025-03-08T05:23:43.553743Z",
     "iopub.status.idle": "2025-03-08T09:54:11.148005Z",
     "shell.execute_reply": "2025-03-08T09:54:11.147072Z"
    },
    "papermill": {
     "duration": 16227.598433,
     "end_time": "2025-03-08T09:54:11.149479",
     "exception": false,
     "start_time": "2025-03-08T05:23:43.551046",
     "status": "completed"
    },
    "tags": []
   },
   "outputs": [
    {
     "name": "stdout",
     "output_type": "stream",
     "text": [
      "\n",
      "--------------------------------------------------\n",
      "FOLD 1/3\n",
      "--------------------------------------------------\n",
      "\n"
     ]
    },
    {
     "name": "stderr",
     "output_type": "stream",
     "text": [
      "Downloading: \"https://download.pytorch.org/models/resnet50-0676ba61.pth\" to /root/.cache/torch/hub/checkpoints/resnet50-0676ba61.pth\n",
      "100%|██████████| 97.8M/97.8M [00:00<00:00, 203MB/s]\n",
      "TRAINING: 100%|██████████| 833/833 [17:11<00:00,  1.24s/it]\n",
      "VALIDATION: 100%|██████████| 417/417 [07:47<00:00,  1.12s/it]\n"
     ]
    },
    {
     "name": "stdout",
     "output_type": "stream",
     "text": [
      "Epoch 1/5 - Train F1 Score: 0.390, Val F1 Score: 0.313\n"
     ]
    },
    {
     "name": "stderr",
     "output_type": "stream",
     "text": [
      "TRAINING: 100%|██████████| 833/833 [12:18<00:00,  1.13it/s]\n",
      "VALIDATION: 100%|██████████| 417/417 [05:01<00:00,  1.39it/s]\n"
     ]
    },
    {
     "name": "stdout",
     "output_type": "stream",
     "text": [
      "Epoch 2/5 - Train F1 Score: 0.520, Val F1 Score: 0.745\n"
     ]
    },
    {
     "name": "stderr",
     "output_type": "stream",
     "text": [
      "TRAINING: 100%|██████████| 833/833 [12:01<00:00,  1.15it/s]\n",
      "VALIDATION: 100%|██████████| 417/417 [05:05<00:00,  1.37it/s]\n"
     ]
    },
    {
     "name": "stdout",
     "output_type": "stream",
     "text": [
      "Epoch 3/5 - Train F1 Score: 0.715, Val F1 Score: 0.719\n"
     ]
    },
    {
     "name": "stderr",
     "output_type": "stream",
     "text": [
      "TRAINING: 100%|██████████| 833/833 [12:08<00:00,  1.14it/s]\n",
      "VALIDATION: 100%|██████████| 417/417 [05:07<00:00,  1.36it/s]\n"
     ]
    },
    {
     "name": "stdout",
     "output_type": "stream",
     "text": [
      "Epoch 4/5 - Train F1 Score: 0.805, Val F1 Score: 0.806\n"
     ]
    },
    {
     "name": "stderr",
     "output_type": "stream",
     "text": [
      "TRAINING: 100%|██████████| 833/833 [12:01<00:00,  1.15it/s]\n",
      "VALIDATION: 100%|██████████| 417/417 [05:24<00:00,  1.29it/s]\n"
     ]
    },
    {
     "name": "stdout",
     "output_type": "stream",
     "text": [
      "Epoch 5/5 - Train F1 Score: 0.812, Val F1 Score: 0.831\n",
      "\n",
      "FOLD 1 RESULTS:\n",
      "TRAIN F1_SCORE: 0.648, VAL F1_SCORE: 0.683\n",
      "\n",
      "\n",
      "--------------------------------------------------\n",
      "FOLD 2/3\n",
      "--------------------------------------------------\n",
      "\n"
     ]
    },
    {
     "name": "stderr",
     "output_type": "stream",
     "text": [
      "TRAINING: 100%|██████████| 833/833 [12:18<00:00,  1.13it/s]\n",
      "VALIDATION: 100%|██████████| 417/417 [05:28<00:00,  1.27it/s]\n"
     ]
    },
    {
     "name": "stdout",
     "output_type": "stream",
     "text": [
      "Epoch 1/5 - Train F1 Score: 0.203, Val F1 Score: 0.634\n"
     ]
    },
    {
     "name": "stderr",
     "output_type": "stream",
     "text": [
      "TRAINING: 100%|██████████| 833/833 [12:32<00:00,  1.11it/s]\n",
      "VALIDATION: 100%|██████████| 417/417 [05:25<00:00,  1.28it/s]\n"
     ]
    },
    {
     "name": "stdout",
     "output_type": "stream",
     "text": [
      "Epoch 2/5 - Train F1 Score: 0.231, Val F1 Score: 0.000\n"
     ]
    },
    {
     "name": "stderr",
     "output_type": "stream",
     "text": [
      "TRAINING: 100%|██████████| 833/833 [12:32<00:00,  1.11it/s]\n",
      "VALIDATION: 100%|██████████| 417/417 [05:03<00:00,  1.37it/s]\n"
     ]
    },
    {
     "name": "stdout",
     "output_type": "stream",
     "text": [
      "Epoch 3/5 - Train F1 Score: 0.333, Val F1 Score: 0.645\n"
     ]
    },
    {
     "name": "stderr",
     "output_type": "stream",
     "text": [
      "TRAINING: 100%|██████████| 833/833 [11:45<00:00,  1.18it/s]\n",
      "VALIDATION: 100%|██████████| 417/417 [05:01<00:00,  1.38it/s]\n"
     ]
    },
    {
     "name": "stdout",
     "output_type": "stream",
     "text": [
      "Epoch 4/5 - Train F1 Score: 0.661, Val F1 Score: 0.617\n"
     ]
    },
    {
     "name": "stderr",
     "output_type": "stream",
     "text": [
      "TRAINING: 100%|██████████| 833/833 [12:11<00:00,  1.14it/s]\n",
      "VALIDATION: 100%|██████████| 417/417 [05:26<00:00,  1.28it/s]\n"
     ]
    },
    {
     "name": "stdout",
     "output_type": "stream",
     "text": [
      "Epoch 5/5 - Train F1 Score: 0.782, Val F1 Score: 0.839\n",
      "\n",
      "FOLD 2 RESULTS:\n",
      "TRAIN F1_SCORE: 0.442, VAL F1_SCORE: 0.547\n",
      "\n",
      "\n",
      "--------------------------------------------------\n",
      "FOLD 3/3\n",
      "--------------------------------------------------\n",
      "\n"
     ]
    },
    {
     "name": "stderr",
     "output_type": "stream",
     "text": [
      "TRAINING: 100%|██████████| 833/833 [12:26<00:00,  1.12it/s]\n",
      "VALIDATION: 100%|██████████| 417/417 [05:29<00:00,  1.26it/s]\n"
     ]
    },
    {
     "name": "stdout",
     "output_type": "stream",
     "text": [
      "Epoch 1/5 - Train F1 Score: 0.489, Val F1 Score: 0.719\n"
     ]
    },
    {
     "name": "stderr",
     "output_type": "stream",
     "text": [
      "TRAINING: 100%|██████████| 833/833 [12:22<00:00,  1.12it/s]\n",
      "VALIDATION: 100%|██████████| 417/417 [05:21<00:00,  1.30it/s]\n"
     ]
    },
    {
     "name": "stdout",
     "output_type": "stream",
     "text": [
      "Epoch 2/5 - Train F1 Score: 0.750, Val F1 Score: 0.685\n"
     ]
    },
    {
     "name": "stderr",
     "output_type": "stream",
     "text": [
      "TRAINING: 100%|██████████| 833/833 [12:27<00:00,  1.11it/s]\n",
      "VALIDATION: 100%|██████████| 417/417 [05:28<00:00,  1.27it/s]\n"
     ]
    },
    {
     "name": "stdout",
     "output_type": "stream",
     "text": [
      "Epoch 3/5 - Train F1 Score: 0.820, Val F1 Score: 0.834\n"
     ]
    },
    {
     "name": "stderr",
     "output_type": "stream",
     "text": [
      "TRAINING: 100%|██████████| 833/833 [12:15<00:00,  1.13it/s]\n",
      "VALIDATION: 100%|██████████| 417/417 [05:14<00:00,  1.33it/s]\n"
     ]
    },
    {
     "name": "stdout",
     "output_type": "stream",
     "text": [
      "Epoch 4/5 - Train F1 Score: 0.847, Val F1 Score: 0.827\n"
     ]
    },
    {
     "name": "stderr",
     "output_type": "stream",
     "text": [
      "TRAINING: 100%|██████████| 833/833 [12:09<00:00,  1.14it/s]\n",
      "VALIDATION: 100%|██████████| 417/417 [05:18<00:00,  1.31it/s]"
     ]
    },
    {
     "name": "stdout",
     "output_type": "stream",
     "text": [
      "Epoch 5/5 - Train F1 Score: 0.849, Val F1 Score: 0.834\n",
      "\n",
      "FOLD 3 RESULTS:\n",
      "TRAIN F1_SCORE: 0.751, VAL F1_SCORE: 0.780\n",
      "\n",
      "--------------------------------------------------\n",
      "CROSS-VALIDATION RESULTS:\n",
      "AVG TRAIN F1_SCORE: 0.614, AVG VAL F1_SCORE: 0.670\n",
      "--------------------------------------------------\n",
      "\n"
     ]
    },
    {
     "name": "stderr",
     "output_type": "stream",
     "text": [
      "\n"
     ]
    }
   ],
   "source": [
    "device = torch.device(\"cuda\" if torch.cuda.is_available() else \"cpu\")\n",
    "\n",
    "cv_trainer = DeepfakeTrainer(\n",
    "    train_dataset=train_data,  \n",
    "    test_dataset=test_data,\n",
    "    model_class=None,  \n",
    "    k_folds=3,            \n",
    "    batch_size=64,         \n",
    "    lr=0.001,\n",
    ")\n",
    "\n",
    "model = cv_trainer.train(epochs=5, df=train_df)"
   ]
  },
  {
   "cell_type": "code",
   "execution_count": 8,
   "id": "7d779c48",
   "metadata": {
    "execution": {
     "iopub.execute_input": "2025-03-08T09:54:12.933502Z",
     "iopub.status.busy": "2025-03-08T09:54:12.932972Z",
     "iopub.status.idle": "2025-03-08T09:58:32.453625Z",
     "shell.execute_reply": "2025-03-08T09:58:32.452708Z"
    },
    "papermill": {
     "duration": 260.372204,
     "end_time": "2025-03-08T09:58:32.455104",
     "exception": false,
     "start_time": "2025-03-08T09:54:12.082900",
     "status": "completed"
    },
    "tags": []
   },
   "outputs": [
    {
     "name": "stderr",
     "output_type": "stream",
     "text": [
      "PREDICTING: 100%|██████████| 87/87 [04:19<00:00,  2.98s/it]\n"
     ]
    }
   ],
   "source": [
    "ids = test_df[\"id\"]\n",
    "preds = cv_trainer.predict(model)\n",
    "\n",
    "submission = pd.DataFrame({\n",
    "    \"id\": ids,\n",
    "    \"label\": preds\n",
    "})\n",
    "\n",
    "submission.to_csv(\"/kaggle/working/V5.csv\", index=False)"
   ]
  }
 ],
 "metadata": {
  "kaggle": {
   "accelerator": "nvidiaTeslaT4",
   "dataSources": [
    {
     "datasetId": 6412205,
     "sourceId": 10550636,
     "sourceType": "datasetVersion"
    }
   ],
   "dockerImageVersionId": 30918,
   "isGpuEnabled": true,
   "isInternetEnabled": true,
   "language": "python",
   "sourceType": "notebook"
  },
  "kernelspec": {
   "display_name": "Python 3",
   "language": "python",
   "name": "python3"
  },
  "language_info": {
   "codemirror_mode": {
    "name": "ipython",
    "version": 3
   },
   "file_extension": ".py",
   "mimetype": "text/x-python",
   "name": "python",
   "nbconvert_exporter": "python",
   "pygments_lexer": "ipython3",
   "version": "3.10.12"
  },
  "papermill": {
   "default_parameters": {},
   "duration": 16513.880369,
   "end_time": "2025-03-08T09:58:36.320792",
   "environment_variables": {},
   "exception": null,
   "input_path": "__notebook__.ipynb",
   "output_path": "__notebook__.ipynb",
   "parameters": {},
   "start_time": "2025-03-08T05:23:22.440423",
   "version": "2.6.0"
  }
 },
 "nbformat": 4,
 "nbformat_minor": 5
}
