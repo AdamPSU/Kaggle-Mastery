{
 "cells": [
  {
   "cell_type": "code",
   "execution_count": 1,
   "id": "0cd026ad",
   "metadata": {
    "_cell_guid": "b1076dfc-b9ad-4769-8c92-a6c4dae69d19",
    "_uuid": "8f2839f25d086af736a60e9eeb907d3b93b6e0e5",
    "execution": {
     "iopub.execute_input": "2025-03-02T05:56:11.932124Z",
     "iopub.status.busy": "2025-03-02T05:56:11.931852Z",
     "iopub.status.idle": "2025-03-02T05:56:23.610593Z",
     "shell.execute_reply": "2025-03-02T05:56:23.609901Z"
    },
    "papermill": {
     "duration": 11.684199,
     "end_time": "2025-03-02T05:56:23.612146",
     "exception": false,
     "start_time": "2025-03-02T05:56:11.927947",
     "status": "completed"
    },
    "tags": []
   },
   "outputs": [],
   "source": [
    "import random\n",
    "import pandas as pd \n",
    "import numpy as np \n",
    "\n",
    "import torch\n",
    "import torch.nn as nn\n",
    "import torch.optim as optim \n",
    "\n",
    "from torchmetrics.classification import BinaryF1Score\n",
    "from torchvision import transforms as T\n",
    "from torch.utils.data import Dataset, DataLoader, Subset\n",
    "from sklearn.metrics import f1_score\n",
    "from sklearn.model_selection import GroupKFold\n",
    "from PIL import Image\n",
    "from tqdm import tqdm\n",
    "\n",
    "DEBUGGING = False"
   ]
  },
  {
   "cell_type": "code",
   "execution_count": 2,
   "id": "525fa157",
   "metadata": {
    "execution": {
     "iopub.execute_input": "2025-03-02T05:56:23.618210Z",
     "iopub.status.busy": "2025-03-02T05:56:23.617842Z",
     "iopub.status.idle": "2025-03-02T05:56:23.764962Z",
     "shell.execute_reply": "2025-03-02T05:56:23.764250Z"
    },
    "papermill": {
     "duration": 0.151505,
     "end_time": "2025-03-02T05:56:23.766501",
     "exception": false,
     "start_time": "2025-03-02T05:56:23.614996",
     "status": "completed"
    },
    "tags": []
   },
   "outputs": [],
   "source": [
    "train_df = pd.read_csv(\"/kaggle/input/ai-vs-human-generated-dataset/train.csv\")\n",
    "test_df = pd.read_csv(\"/kaggle/input/ai-vs-human-generated-dataset/test.csv\")\n",
    "\n",
    "# Create groups: Assign the same group number to each pair\n",
    "train_df[\"group\"] = np.arange(len(train_df)) // 2"
   ]
  },
  {
   "cell_type": "code",
   "execution_count": 3,
   "id": "0fe7e790",
   "metadata": {
    "execution": {
     "iopub.execute_input": "2025-03-02T05:56:23.772639Z",
     "iopub.status.busy": "2025-03-02T05:56:23.772391Z",
     "iopub.status.idle": "2025-03-02T05:56:23.777815Z",
     "shell.execute_reply": "2025-03-02T05:56:23.777223Z"
    },
    "papermill": {
     "duration": 0.009601,
     "end_time": "2025-03-02T05:56:23.779078",
     "exception": false,
     "start_time": "2025-03-02T05:56:23.769477",
     "status": "completed"
    },
    "tags": []
   },
   "outputs": [],
   "source": [
    "class DeepfakeDataset(Dataset): \n",
    "    def __init__(self, df, root_dir, transform, train=bool): \n",
    "        self.data = df\n",
    "        self.root = root_dir \n",
    "        self.transform = transform\n",
    "        self.train = train\n",
    "\n",
    "    def get_indices_and_labels(self):\n",
    "        if self.train: \n",
    "            indices = list(range(len(self)))\n",
    "            labels = self.data[\"label\"].to_list()\n",
    "            return indices, labels\n",
    "            \n",
    "    def __len__(self):\n",
    "        return len(self.data) \n",
    "\n",
    "    def __getitem__(self, idx): \n",
    "        if self.train: \n",
    "            img_path = self.root + self.data.iloc[idx, 1]\n",
    "            \n",
    "            image = Image.open(img_path).convert(\"RGB\") \n",
    "            image = self.transform(image) \n",
    "            \n",
    "            label = self.data.iloc[idx, 2]\n",
    "\n",
    "            return image, torch.tensor(label)\n",
    "        else:\n",
    "            img_path = self.root + self.data.iloc[idx, 0]\n",
    "            image = Image.open(img_path).convert(\"RGB\") \n",
    "            image = self.transform(image) \n",
    "\n",
    "            return image"
   ]
  },
  {
   "cell_type": "code",
   "execution_count": 4,
   "id": "930390fa",
   "metadata": {
    "execution": {
     "iopub.execute_input": "2025-03-02T05:56:23.784472Z",
     "iopub.status.busy": "2025-03-02T05:56:23.784251Z",
     "iopub.status.idle": "2025-03-02T05:56:23.789566Z",
     "shell.execute_reply": "2025-03-02T05:56:23.788801Z"
    },
    "papermill": {
     "duration": 0.009132,
     "end_time": "2025-03-02T05:56:23.790722",
     "exception": false,
     "start_time": "2025-03-02T05:56:23.781590",
     "status": "completed"
    },
    "tags": []
   },
   "outputs": [],
   "source": [
    "img_width = (128) // (2*2)\n",
    "img_height = (128) // (2*2)\n",
    "\n",
    "class AIDetector(nn.Module):\n",
    "    def __init__(self): \n",
    "        super().__init__()\n",
    "\n",
    "        self.conv_block = nn.Sequential(\n",
    "            nn.Conv2d(3, 16, 3, padding=1),\n",
    "            nn.BatchNorm2d(16),\n",
    "            nn.ReLU(), \n",
    "            nn.MaxPool2d(2, 2),\n",
    "            \n",
    "            nn.Conv2d(16, 32, 3, padding=1),\n",
    "            nn.BatchNorm2d(32), \n",
    "            nn.ReLU(), \n",
    "            nn.AvgPool2d(2, 2), \n",
    "        )\n",
    "\n",
    "        self.fc = nn.Sequential(\n",
    "            nn.Flatten(), \n",
    "            \n",
    "            nn.Linear(32 * img_width * img_height, 512),\n",
    "            nn.ReLU(),\n",
    "            nn.Dropout(0.5), \n",
    "\n",
    "            nn.Linear(512, 64),\n",
    "            nn.ReLU(), \n",
    "            nn.Dropout(0.5), \n",
    "\n",
    "            nn.Linear(64, 1),\n",
    "            nn.Sigmoid()\n",
    "        )\n",
    "\n",
    "    def forward(self, x): \n",
    "        x = self.conv_block(x)\n",
    "        x = self.fc(x) \n",
    "\n",
    "        return x "
   ]
  },
  {
   "cell_type": "code",
   "execution_count": 5,
   "id": "1555d711",
   "metadata": {
    "execution": {
     "iopub.execute_input": "2025-03-02T05:56:23.795834Z",
     "iopub.status.busy": "2025-03-02T05:56:23.795612Z",
     "iopub.status.idle": "2025-03-02T05:56:23.810663Z",
     "shell.execute_reply": "2025-03-02T05:56:23.809894Z"
    },
    "papermill": {
     "duration": 0.018999,
     "end_time": "2025-03-02T05:56:23.811872",
     "exception": false,
     "start_time": "2025-03-02T05:56:23.792873",
     "status": "completed"
    },
    "tags": []
   },
   "outputs": [],
   "source": [
    "class DeepfakeTrainer:\n",
    "    def __init__(self, model_class, train_dataset, test_dataset, \n",
    "                 k_folds=3, batch_size=64, lr=0.001, \n",
    "                 criterion=nn.BCELoss(), random_state=42):\n",
    "        \"\"\"\n",
    "        Initialize the KFoldTrainer.\n",
    "        \n",
    "        Args:\n",
    "            model_class: Class to instantiate for each fold\n",
    "            dataset: Dataset to use for training and validation\n",
    "            device: Device to use for training (cuda or cpu)\n",
    "            k_folds: Number of folds for cross-validation\n",
    "            batch_size: Batch size for training\n",
    "            lr: Learning rate for optimizer\n",
    "            criterion: Loss function\n",
    "            random_state: Random seed for reproducibility\n",
    "        \"\"\"\n",
    "        \n",
    "        self.model_class = model_class\n",
    "        self.train_dataset = train_dataset\n",
    "        self.test_dataset = test_dataset\n",
    "  \n",
    "        self.device = torch.device(\"cuda\" if torch.cuda.is_available() else \"cpu\")\n",
    "        self.criterion = criterion\n",
    "        \n",
    "        self.k_folds = k_folds\n",
    "        self.batch_size = batch_size\n",
    "        self.lr = lr\n",
    "        self.random_state = random_state\n",
    "        \n",
    "        # Metrics\n",
    "        self.train_scores = []\n",
    "        self.val_scores = []\n",
    "    \n",
    "    def train_epoch(self, model, train_loader, optimizer, f1_metric):\n",
    "        \"\"\"Train for one epoch.\"\"\"\n",
    "        model.train()\n",
    "        f1_metric.reset()\n",
    "        \n",
    "        for img, label in tqdm(train_loader, desc=\"TRAINING\"):\n",
    "            img, label = img.to(self.device), label.to(self.device)\n",
    "            \n",
    "            # Forward pass\n",
    "            optimizer.zero_grad()\n",
    "            outputs = model(img).squeeze()\n",
    "            loss = self.criterion(outputs, label.float())\n",
    "            \n",
    "            # Backward pass\n",
    "            loss.backward()\n",
    "            optimizer.step()\n",
    "            \n",
    "            # Calculate metrics\n",
    "            preds = (outputs > 0.5).int()\n",
    "            f1_metric.update(preds, label.int())\n",
    "            \n",
    "        return f1_metric.compute().item()\n",
    "    \n",
    "    def evaluate(self, model, val_loader, f1_metric):\n",
    "        \"\"\"Evaluate the model.\"\"\"\n",
    "        \n",
    "        model.eval()\n",
    "        f1_metric.reset()\n",
    "        \n",
    "        with torch.no_grad():\n",
    "            for img, label in tqdm(val_loader, desc=\"VALIDATION\"):\n",
    "                img, label = img.to(self.device), label.to(self.device)\n",
    "                \n",
    "                # Forward pass\n",
    "                outputs = model(img).squeeze()\n",
    "                \n",
    "                # Calculate metrics\n",
    "                preds = (outputs > 0.5).int()\n",
    "                f1_metric.update(preds, label.int())\n",
    "                \n",
    "        return f1_metric.compute().item()\n",
    "    \n",
    "    def process_fold(self, train_loader, val_loader, epochs):\n",
    "        \"\"\"Process a single fold.\"\"\"\n",
    "        model = self.model_class().to(self.device)\n",
    "        optimizer = optim.Adam(model.parameters(), lr=self.lr)\n",
    "        \n",
    "        train_f1_metric = BinaryF1Score().to(self.device)\n",
    "        val_f1_metric = BinaryF1Score().to(self.device)\n",
    "        \n",
    "        train_fold_scores = []\n",
    "        val_fold_scores = []\n",
    "        \n",
    "        for epoch in range(epochs):\n",
    "            # Train\n",
    "            train_epoch_f1 = self.train_epoch(model, train_loader, optimizer, train_f1_metric)\n",
    "            train_fold_scores.append(train_epoch_f1)\n",
    "            \n",
    "            # Validate\n",
    "            val_epoch_f1 = self.evaluate(model, val_loader, val_f1_metric)\n",
    "            val_fold_scores.append(val_epoch_f1)\n",
    "            \n",
    "            print(f\"Epoch {epoch+1}/{epochs} - Train F1 Score: {train_epoch_f1:.3f}, Val F1 Score: {val_epoch_f1:.3f}\")\n",
    "        \n",
    "        train_avg_f1 = sum(train_fold_scores) / len(train_fold_scores)\n",
    "        val_avg_f1 = sum(val_fold_scores) / len(val_fold_scores)\n",
    "        \n",
    "        return model, train_avg_f1, val_avg_f1\n",
    "    \n",
    "    def train(self, epochs, df):\n",
    "        \"\"\"Train with k-fold cross validation.\"\"\"\n",
    "\n",
    "        best_model = None\n",
    "        best_val_score = 0\n",
    "        \n",
    "        gkf = GroupKFold(n_splits=self.k_folds)\n",
    "        splits = list(gkf.split(df, groups=df[\"group\"]))\n",
    "        \n",
    "        for fold, (train_idx, val_idx) in enumerate(splits):\n",
    "            print(f\"\\n{'-'*50}\")\n",
    "            print(f\"FOLD {fold + 1}/{self.k_folds}\")\n",
    "            print(f\"{'-'*50}\\n\")\n",
    "            \n",
    "            # Create data loaders for this fold\n",
    "            train_data = Subset(self.train_dataset, train_idx)\n",
    "            val_data = Subset(self.train_dataset, val_idx)\n",
    "            \n",
    "            train_loader = DataLoader(\n",
    "                train_data, \n",
    "                batch_size=self.batch_size, \n",
    "                shuffle=True\n",
    "            )\n",
    "            val_loader = DataLoader(\n",
    "                val_data, \n",
    "                batch_size=self.batch_size, \n",
    "                shuffle=False\n",
    "            )\n",
    "            \n",
    "            # Process this fold\n",
    "            model, train_fold_f1, val_fold_f1 = self.process_fold(\n",
    "                train_loader, val_loader, epochs\n",
    "            )\n",
    "            \n",
    "            print(f\"\\nFOLD {fold + 1} RESULTS:\")\n",
    "            print(f\"TRAIN F1_SCORE: {train_fold_f1:.3f}, VAL F1_SCORE: {val_fold_f1:.3f}\\n\")\n",
    "            \n",
    "            # Store scores\n",
    "            self.train_scores.append(train_fold_f1)\n",
    "            self.val_scores.append(val_fold_f1)\n",
    "            \n",
    "            # Keep track of best model\n",
    "            if val_fold_f1 > best_val_score:\n",
    "                best_val_score = val_fold_f1\n",
    "                best_model = model\n",
    "        \n",
    "        # Print final results\n",
    "        train_avg_f1 = sum(self.train_scores) / len(self.train_scores)\n",
    "        val_avg_f1 = sum(self.val_scores) / len(self.val_scores)\n",
    "        \n",
    "        print(f\"{'-'*50}\")\n",
    "        print(f\"CROSS-VALIDATION RESULTS:\")\n",
    "        print(f\"AVG TRAIN F1_SCORE: {train_avg_f1:.3f}, AVG VAL F1_SCORE: {val_avg_f1:.3f}\")\n",
    "        print(f\"{'-'*50}\\n\")\n",
    "        \n",
    "        return best_model, train_avg_f1, val_avg_f1\n",
    "    \n",
    "    def predict(self, model):\n",
    "        \"\"\"Make predictions with the model.\"\"\"\n",
    "        model.eval()\n",
    "        all_preds = []\n",
    "\n",
    "        test_loader = DataLoader(\n",
    "            self.test_dataset, \n",
    "            batch_size=64, \n",
    "            shuffle=False\n",
    "        )\n",
    "        \n",
    "        with torch.no_grad():\n",
    "            for img in tqdm(test_loader, desc=\"PREDICTING\"):\n",
    "                img = img.to(self.device)\n",
    "                outputs = model(img).squeeze()\n",
    "                preds = (outputs > 0.5).int()\n",
    "                all_preds.extend(preds.cpu().numpy())\n",
    "                \n",
    "        return np.array(all_preds)"
   ]
  },
  {
   "cell_type": "code",
   "execution_count": 6,
   "id": "39b0ba1e",
   "metadata": {
    "execution": {
     "iopub.execute_input": "2025-03-02T05:56:23.816937Z",
     "iopub.status.busy": "2025-03-02T05:56:23.816712Z",
     "iopub.status.idle": "2025-03-02T05:56:23.821492Z",
     "shell.execute_reply": "2025-03-02T05:56:23.820736Z"
    },
    "papermill": {
     "duration": 0.008721,
     "end_time": "2025-03-02T05:56:23.822787",
     "exception": false,
     "start_time": "2025-03-02T05:56:23.814066",
     "status": "completed"
    },
    "tags": []
   },
   "outputs": [],
   "source": [
    "train_transform = T.Compose([\n",
    "    T.Resize((128, 128)), \n",
    "    \n",
    "    # Human Augments\n",
    "    T.RandomPerspective(\n",
    "        distortion_scale=0.5, \n",
    "        p=0.5\n",
    "    ),\n",
    "    T.RandomRotation(30), \n",
    "    T.GaussianBlur(\n",
    "        kernel_size=5, \n",
    "        sigma=(0.1, 2.0)\n",
    "    ),\n",
    "\n",
    "    # AI Augments \n",
    "    T.ColorJitter(\n",
    "        brightness=0.5, \n",
    "        contrast=0.5, \n",
    "        saturation=0.5,\n",
    "        hue=0.3\n",
    "    ),           \n",
    "    T.ToTensor(), \n",
    "    T.Normalize(\n",
    "        mean=[0.5, 0.5, 0.5], \n",
    "        std=[0.5, 0.5, 0.5]\n",
    "    )  \n",
    "])\n",
    "\n",
    "test_transform = T.Compose([\n",
    "    T.Resize((128, 128)),\n",
    "    T.ToTensor(), \n",
    "    T.Normalize(\n",
    "        mean=[0.5, 0.5, 0.5], \n",
    "        std=[0.5, 0.5, 0.5]\n",
    "    )  \n",
    "])"
   ]
  },
  {
   "cell_type": "code",
   "execution_count": 7,
   "id": "09477b77",
   "metadata": {
    "execution": {
     "iopub.execute_input": "2025-03-02T05:56:23.827996Z",
     "iopub.status.busy": "2025-03-02T05:56:23.827801Z",
     "iopub.status.idle": "2025-03-02T05:56:23.831156Z",
     "shell.execute_reply": "2025-03-02T05:56:23.830629Z"
    },
    "papermill": {
     "duration": 0.007066,
     "end_time": "2025-03-02T05:56:23.832178",
     "exception": false,
     "start_time": "2025-03-02T05:56:23.825112",
     "status": "completed"
    },
    "tags": []
   },
   "outputs": [],
   "source": [
    "train_data = DeepfakeDataset(\n",
    "    df=train_df, \n",
    "    root_dir=\"/kaggle/input/ai-vs-human-generated-dataset/\",\n",
    "    transform=train_transform,\n",
    "    train=True\n",
    ")\n",
    "\n",
    "test_data = DeepfakeDataset(\n",
    "    df=test_df,\n",
    "    root_dir=\"/kaggle/input/ai-vs-human-generated-dataset/\", \n",
    "    transform=test_transform,\n",
    "    train=False\n",
    ")\n",
    "\n",
    "if DEBUGGING: \n",
    "    indices = list(range(1000))\n",
    "    \n",
    "    train_data = Subset(train_data, indices)\n",
    "    train_df = train_df.iloc[indices]"
   ]
  },
  {
   "cell_type": "code",
   "execution_count": 8,
   "id": "723ec471",
   "metadata": {
    "execution": {
     "iopub.execute_input": "2025-03-02T05:56:23.837199Z",
     "iopub.status.busy": "2025-03-02T05:56:23.836987Z",
     "iopub.status.idle": "2025-03-02T09:29:49.782341Z",
     "shell.execute_reply": "2025-03-02T09:29:49.781357Z"
    },
    "papermill": {
     "duration": 12805.949625,
     "end_time": "2025-03-02T09:29:49.784033",
     "exception": false,
     "start_time": "2025-03-02T05:56:23.834408",
     "status": "completed"
    },
    "tags": []
   },
   "outputs": [
    {
     "name": "stdout",
     "output_type": "stream",
     "text": [
      "\n",
      "--------------------------------------------------\n",
      "FOLD 1/3\n",
      "--------------------------------------------------\n",
      "\n"
     ]
    },
    {
     "name": "stderr",
     "output_type": "stream",
     "text": [
      "TRAINING: 100%|██████████| 833/833 [14:16<00:00,  1.03s/it]\n",
      "VALIDATION: 100%|██████████| 417/417 [06:46<00:00,  1.03it/s]\n"
     ]
    },
    {
     "name": "stdout",
     "output_type": "stream",
     "text": [
      "Epoch 1/5 - Train F1 Score: 0.640, Val F1 Score: 0.722\n"
     ]
    },
    {
     "name": "stderr",
     "output_type": "stream",
     "text": [
      "TRAINING: 100%|██████████| 833/833 [09:35<00:00,  1.45it/s]\n",
      "VALIDATION: 100%|██████████| 417/417 [04:39<00:00,  1.49it/s]\n"
     ]
    },
    {
     "name": "stdout",
     "output_type": "stream",
     "text": [
      "Epoch 2/5 - Train F1 Score: 0.708, Val F1 Score: 0.738\n"
     ]
    },
    {
     "name": "stderr",
     "output_type": "stream",
     "text": [
      "TRAINING: 100%|██████████| 833/833 [09:31<00:00,  1.46it/s]\n",
      "VALIDATION: 100%|██████████| 417/417 [04:31<00:00,  1.53it/s]\n"
     ]
    },
    {
     "name": "stdout",
     "output_type": "stream",
     "text": [
      "Epoch 3/5 - Train F1 Score: 0.730, Val F1 Score: 0.756\n"
     ]
    },
    {
     "name": "stderr",
     "output_type": "stream",
     "text": [
      "TRAINING: 100%|██████████| 833/833 [09:23<00:00,  1.48it/s]\n",
      "VALIDATION: 100%|██████████| 417/417 [04:28<00:00,  1.55it/s]\n"
     ]
    },
    {
     "name": "stdout",
     "output_type": "stream",
     "text": [
      "Epoch 4/5 - Train F1 Score: 0.744, Val F1 Score: 0.755\n"
     ]
    },
    {
     "name": "stderr",
     "output_type": "stream",
     "text": [
      "TRAINING: 100%|██████████| 833/833 [09:16<00:00,  1.50it/s]\n",
      "VALIDATION: 100%|██████████| 417/417 [04:30<00:00,  1.54it/s]\n"
     ]
    },
    {
     "name": "stdout",
     "output_type": "stream",
     "text": [
      "Epoch 5/5 - Train F1 Score: 0.755, Val F1 Score: 0.703\n",
      "\n",
      "FOLD 1 RESULTS:\n",
      "TRAIN F1_SCORE: 0.715, VAL F1_SCORE: 0.735\n",
      "\n",
      "\n",
      "--------------------------------------------------\n",
      "FOLD 2/3\n",
      "--------------------------------------------------\n",
      "\n"
     ]
    },
    {
     "name": "stderr",
     "output_type": "stream",
     "text": [
      "TRAINING: 100%|██████████| 833/833 [09:14<00:00,  1.50it/s]\n",
      "VALIDATION: 100%|██████████| 417/417 [04:28<00:00,  1.56it/s]\n"
     ]
    },
    {
     "name": "stdout",
     "output_type": "stream",
     "text": [
      "Epoch 1/5 - Train F1 Score: 0.642, Val F1 Score: 0.727\n"
     ]
    },
    {
     "name": "stderr",
     "output_type": "stream",
     "text": [
      "TRAINING: 100%|██████████| 833/833 [09:17<00:00,  1.49it/s]\n",
      "VALIDATION: 100%|██████████| 417/417 [04:23<00:00,  1.58it/s]\n"
     ]
    },
    {
     "name": "stdout",
     "output_type": "stream",
     "text": [
      "Epoch 2/5 - Train F1 Score: 0.716, Val F1 Score: 0.758\n"
     ]
    },
    {
     "name": "stderr",
     "output_type": "stream",
     "text": [
      "TRAINING: 100%|██████████| 833/833 [09:07<00:00,  1.52it/s]\n",
      "VALIDATION: 100%|██████████| 417/417 [04:27<00:00,  1.56it/s]\n"
     ]
    },
    {
     "name": "stdout",
     "output_type": "stream",
     "text": [
      "Epoch 3/5 - Train F1 Score: 0.741, Val F1 Score: 0.748\n"
     ]
    },
    {
     "name": "stderr",
     "output_type": "stream",
     "text": [
      "TRAINING: 100%|██████████| 833/833 [09:08<00:00,  1.52it/s]\n",
      "VALIDATION: 100%|██████████| 417/417 [04:22<00:00,  1.59it/s]\n"
     ]
    },
    {
     "name": "stdout",
     "output_type": "stream",
     "text": [
      "Epoch 4/5 - Train F1 Score: 0.750, Val F1 Score: 0.772\n"
     ]
    },
    {
     "name": "stderr",
     "output_type": "stream",
     "text": [
      "TRAINING: 100%|██████████| 833/833 [09:11<00:00,  1.51it/s]\n",
      "VALIDATION: 100%|██████████| 417/417 [04:23<00:00,  1.58it/s]\n"
     ]
    },
    {
     "name": "stdout",
     "output_type": "stream",
     "text": [
      "Epoch 5/5 - Train F1 Score: 0.762, Val F1 Score: 0.724\n",
      "\n",
      "FOLD 2 RESULTS:\n",
      "TRAIN F1_SCORE: 0.722, VAL F1_SCORE: 0.746\n",
      "\n",
      "\n",
      "--------------------------------------------------\n",
      "FOLD 3/3\n",
      "--------------------------------------------------\n",
      "\n"
     ]
    },
    {
     "name": "stderr",
     "output_type": "stream",
     "text": [
      "TRAINING: 100%|██████████| 833/833 [09:12<00:00,  1.51it/s]\n",
      "VALIDATION: 100%|██████████| 417/417 [04:27<00:00,  1.56it/s]\n"
     ]
    },
    {
     "name": "stdout",
     "output_type": "stream",
     "text": [
      "Epoch 1/5 - Train F1 Score: 0.671, Val F1 Score: 0.713\n"
     ]
    },
    {
     "name": "stderr",
     "output_type": "stream",
     "text": [
      "TRAINING: 100%|██████████| 833/833 [09:15<00:00,  1.50it/s]\n",
      "VALIDATION: 100%|██████████| 417/417 [04:24<00:00,  1.58it/s]\n"
     ]
    },
    {
     "name": "stdout",
     "output_type": "stream",
     "text": [
      "Epoch 2/5 - Train F1 Score: 0.719, Val F1 Score: 0.738\n"
     ]
    },
    {
     "name": "stderr",
     "output_type": "stream",
     "text": [
      "TRAINING: 100%|██████████| 833/833 [09:14<00:00,  1.50it/s]\n",
      "VALIDATION: 100%|██████████| 417/417 [04:26<00:00,  1.57it/s]\n"
     ]
    },
    {
     "name": "stdout",
     "output_type": "stream",
     "text": [
      "Epoch 3/5 - Train F1 Score: 0.736, Val F1 Score: 0.751\n"
     ]
    },
    {
     "name": "stderr",
     "output_type": "stream",
     "text": [
      "TRAINING: 100%|██████████| 833/833 [09:15<00:00,  1.50it/s]\n",
      "VALIDATION: 100%|██████████| 417/417 [04:26<00:00,  1.56it/s]\n"
     ]
    },
    {
     "name": "stdout",
     "output_type": "stream",
     "text": [
      "Epoch 4/5 - Train F1 Score: 0.748, Val F1 Score: 0.689\n"
     ]
    },
    {
     "name": "stderr",
     "output_type": "stream",
     "text": [
      "TRAINING: 100%|██████████| 833/833 [09:12<00:00,  1.51it/s]\n",
      "VALIDATION: 100%|██████████| 417/417 [04:24<00:00,  1.57it/s]"
     ]
    },
    {
     "name": "stdout",
     "output_type": "stream",
     "text": [
      "Epoch 5/5 - Train F1 Score: 0.756, Val F1 Score: 0.781\n",
      "\n",
      "FOLD 3 RESULTS:\n",
      "TRAIN F1_SCORE: 0.726, VAL F1_SCORE: 0.734\n",
      "\n",
      "--------------------------------------------------\n",
      "CROSS-VALIDATION RESULTS:\n",
      "AVG TRAIN F1_SCORE: 0.721, AVG VAL F1_SCORE: 0.738\n",
      "--------------------------------------------------\n",
      "\n"
     ]
    },
    {
     "name": "stderr",
     "output_type": "stream",
     "text": [
      "\n"
     ]
    }
   ],
   "source": [
    "device = torch.device(\"cuda\" if torch.cuda.is_available() else \"cpu\")\n",
    "\n",
    "cv_trainer = DeepfakeTrainer(\n",
    "    model_class=AIDetector,  \n",
    "    train_dataset=train_data,  \n",
    "    test_dataset=test_data,\n",
    "    k_folds=3,            \n",
    "    batch_size=64,         \n",
    "    lr=0.001               \n",
    ")\n",
    "\n",
    "model, train_f1, val_f1 = cv_trainer.train(epochs=5, df=train_df)"
   ]
  },
  {
   "cell_type": "code",
   "execution_count": 9,
   "id": "5aaaca7b",
   "metadata": {
    "execution": {
     "iopub.execute_input": "2025-03-02T09:29:51.537876Z",
     "iopub.status.busy": "2025-03-02T09:29:51.537548Z",
     "iopub.status.idle": "2025-03-02T09:33:20.231242Z",
     "shell.execute_reply": "2025-03-02T09:33:20.230293Z"
    },
    "papermill": {
     "duration": 209.604278,
     "end_time": "2025-03-02T09:33:20.232506",
     "exception": false,
     "start_time": "2025-03-02T09:29:50.628228",
     "status": "completed"
    },
    "tags": []
   },
   "outputs": [
    {
     "name": "stderr",
     "output_type": "stream",
     "text": [
      "PREDICTING: 100%|██████████| 87/87 [03:28<00:00,  2.40s/it]\n"
     ]
    }
   ],
   "source": [
    "ids = test_df[\"id\"]\n",
    "preds = cv_trainer.predict(model)\n",
    "\n",
    "submission = pd.DataFrame({\n",
    "    \"id\": ids,\n",
    "    \"label\": preds\n",
    "})\n",
    "\n",
    "submission.to_csv(\"/kaggle/working/V4.csv\", index=False)"
   ]
  }
 ],
 "metadata": {
  "kaggle": {
   "accelerator": "nvidiaTeslaT4",
   "dataSources": [
    {
     "datasetId": 6412205,
     "sourceId": 10550636,
     "sourceType": "datasetVersion"
    }
   ],
   "dockerImageVersionId": 30918,
   "isGpuEnabled": true,
   "isInternetEnabled": true,
   "language": "python",
   "sourceType": "notebook"
  },
  "kernelspec": {
   "display_name": "Python 3",
   "language": "python",
   "name": "python3"
  },
  "language_info": {
   "codemirror_mode": {
    "name": "ipython",
    "version": 3
   },
   "file_extension": ".py",
   "mimetype": "text/x-python",
   "name": "python",
   "nbconvert_exporter": "python",
   "pygments_lexer": "ipython3",
   "version": "3.10.12"
  },
  "papermill": {
   "default_parameters": {},
   "duration": 13034.328879,
   "end_time": "2025-03-02T09:33:23.759610",
   "environment_variables": {},
   "exception": null,
   "input_path": "__notebook__.ipynb",
   "output_path": "__notebook__.ipynb",
   "parameters": {},
   "start_time": "2025-03-02T05:56:09.430731",
   "version": "2.6.0"
  }
 },
 "nbformat": 4,
 "nbformat_minor": 5
}
