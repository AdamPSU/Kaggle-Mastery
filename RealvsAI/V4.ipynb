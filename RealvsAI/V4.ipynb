{
 "cells": [
  {
   "cell_type": "code",
   "execution_count": 1,
   "id": "f059a2fe",
   "metadata": {
    "_cell_guid": "b1076dfc-b9ad-4769-8c92-a6c4dae69d19",
    "_uuid": "8f2839f25d086af736a60e9eeb907d3b93b6e0e5",
    "execution": {
     "iopub.execute_input": "2025-03-02T05:48:25.575660Z",
     "iopub.status.busy": "2025-03-02T05:48:25.575337Z",
     "iopub.status.idle": "2025-03-02T05:48:42.089764Z",
     "shell.execute_reply": "2025-03-02T05:48:42.088778Z"
    },
    "papermill": {
     "duration": 16.519943,
     "end_time": "2025-03-02T05:48:42.091538",
     "exception": false,
     "start_time": "2025-03-02T05:48:25.571595",
     "status": "completed"
    },
    "tags": []
   },
   "outputs": [],
   "source": [
    "import random\n",
    "import pandas as pd \n",
    "import numpy as np \n",
    "\n",
    "import torch\n",
    "import torch.nn as nn\n",
    "import torch.optim as optim \n",
    "\n",
    "from torchmetrics.classification import BinaryF1Score\n",
    "from torchvision import transforms as T\n",
    "from torch.utils.data import Dataset, DataLoader, Subset\n",
    "from sklearn.metrics import f1_score\n",
    "from sklearn.model_selection import GroupKFold\n",
    "from PIL import Image\n",
    "from tqdm import tqdm\n",
    "\n",
    "DEBUGGING = True"
   ]
  },
  {
   "cell_type": "code",
   "execution_count": 2,
   "id": "73f7238c",
   "metadata": {
    "execution": {
     "iopub.execute_input": "2025-03-02T05:48:42.098588Z",
     "iopub.status.busy": "2025-03-02T05:48:42.098159Z",
     "iopub.status.idle": "2025-03-02T05:48:42.262278Z",
     "shell.execute_reply": "2025-03-02T05:48:42.261302Z"
    },
    "papermill": {
     "duration": 0.16912,
     "end_time": "2025-03-02T05:48:42.263882",
     "exception": false,
     "start_time": "2025-03-02T05:48:42.094762",
     "status": "completed"
    },
    "tags": []
   },
   "outputs": [],
   "source": [
    "train_df = pd.read_csv(\"/kaggle/input/ai-vs-human-generated-dataset/train.csv\")\n",
    "test_df = pd.read_csv(\"/kaggle/input/ai-vs-human-generated-dataset/test.csv\")\n",
    "\n",
    "# Create groups: Assign the same group number to each pair\n",
    "train_df[\"group\"] = np.arange(len(train_df)) // 2"
   ]
  },
  {
   "cell_type": "code",
   "execution_count": 3,
   "id": "f954744a",
   "metadata": {
    "execution": {
     "iopub.execute_input": "2025-03-02T05:48:42.269815Z",
     "iopub.status.busy": "2025-03-02T05:48:42.269577Z",
     "iopub.status.idle": "2025-03-02T05:48:42.275090Z",
     "shell.execute_reply": "2025-03-02T05:48:42.274483Z"
    },
    "papermill": {
     "duration": 0.009863,
     "end_time": "2025-03-02T05:48:42.276368",
     "exception": false,
     "start_time": "2025-03-02T05:48:42.266505",
     "status": "completed"
    },
    "tags": []
   },
   "outputs": [],
   "source": [
    "class DeepfakeDataset(Dataset): \n",
    "    def __init__(self, df, root_dir, transform, train=bool): \n",
    "        self.data = df\n",
    "        self.root = root_dir \n",
    "        self.transform = transform\n",
    "        self.train = train\n",
    "\n",
    "    def get_indices_and_labels(self):\n",
    "        if self.train: \n",
    "            indices = list(range(len(self)))\n",
    "            labels = self.data[\"label\"].to_list()\n",
    "            return indices, labels\n",
    "            \n",
    "    def __len__(self):\n",
    "        return len(self.data) \n",
    "\n",
    "    def __getitem__(self, idx): \n",
    "        if self.train: \n",
    "            img_path = self.root + self.data.iloc[idx, 1]\n",
    "            \n",
    "            image = Image.open(img_path).convert(\"RGB\") \n",
    "            image = self.transform(image) \n",
    "            \n",
    "            label = self.data.iloc[idx, 2]\n",
    "\n",
    "            return image, torch.tensor(label)\n",
    "        else:\n",
    "            img_path = self.root + self.data.iloc[idx, 0]\n",
    "            image = Image.open(img_path).convert(\"RGB\") \n",
    "            image = self.transform(image) \n",
    "\n",
    "            return image"
   ]
  },
  {
   "cell_type": "code",
   "execution_count": 4,
   "id": "6bf447ae",
   "metadata": {
    "execution": {
     "iopub.execute_input": "2025-03-02T05:48:42.281550Z",
     "iopub.status.busy": "2025-03-02T05:48:42.281342Z",
     "iopub.status.idle": "2025-03-02T05:48:42.286631Z",
     "shell.execute_reply": "2025-03-02T05:48:42.286032Z"
    },
    "papermill": {
     "duration": 0.008994,
     "end_time": "2025-03-02T05:48:42.287679",
     "exception": false,
     "start_time": "2025-03-02T05:48:42.278685",
     "status": "completed"
    },
    "tags": []
   },
   "outputs": [],
   "source": [
    "img_width = (128) // (2*2)\n",
    "img_height = (128) // (2*2)\n",
    "\n",
    "class AIDetector(nn.Module):\n",
    "    def __init__(self): \n",
    "        super().__init__()\n",
    "\n",
    "        self.conv_block = nn.Sequential(\n",
    "            nn.Conv2d(3, 16, 3, padding=1),\n",
    "            nn.BatchNorm2d(16),\n",
    "            nn.ReLU(), \n",
    "            nn.MaxPool2d(2, 2),\n",
    "            \n",
    "            nn.Conv2d(16, 32, 3, padding=1),\n",
    "            nn.BatchNorm2d(32), \n",
    "            nn.ReLU(), \n",
    "            nn.AvgPool2d(2, 2), \n",
    "        )\n",
    "\n",
    "        self.fc = nn.Sequential(\n",
    "            nn.Flatten(), \n",
    "            \n",
    "            nn.Linear(32 * img_width * img_height, 512),\n",
    "            nn.ReLU(),\n",
    "            nn.Dropout(0.5), \n",
    "\n",
    "            nn.Linear(512, 64),\n",
    "            nn.ReLU(), \n",
    "            nn.Dropout(0.5), \n",
    "\n",
    "            nn.Linear(64, 1),\n",
    "            nn.Sigmoid()\n",
    "        )\n",
    "\n",
    "    def forward(self, x): \n",
    "        x = self.conv_block(x)\n",
    "        x = self.fc(x) \n",
    "\n",
    "        return x "
   ]
  },
  {
   "cell_type": "code",
   "execution_count": 5,
   "id": "69cb9412",
   "metadata": {
    "execution": {
     "iopub.execute_input": "2025-03-02T05:48:42.292793Z",
     "iopub.status.busy": "2025-03-02T05:48:42.292595Z",
     "iopub.status.idle": "2025-03-02T05:48:42.307283Z",
     "shell.execute_reply": "2025-03-02T05:48:42.306662Z"
    },
    "papermill": {
     "duration": 0.018593,
     "end_time": "2025-03-02T05:48:42.308486",
     "exception": false,
     "start_time": "2025-03-02T05:48:42.289893",
     "status": "completed"
    },
    "tags": []
   },
   "outputs": [],
   "source": [
    "class DeepfakeTrainer:\n",
    "    def __init__(self, model_class, train_dataset, test_dataset, \n",
    "                 k_folds=3, batch_size=64, lr=0.001, \n",
    "                 criterion=nn.BCELoss(), random_state=42):\n",
    "        \"\"\"\n",
    "        Initialize the KFoldTrainer.\n",
    "        \n",
    "        Args:\n",
    "            model_class: Class to instantiate for each fold\n",
    "            dataset: Dataset to use for training and validation\n",
    "            device: Device to use for training (cuda or cpu)\n",
    "            k_folds: Number of folds for cross-validation\n",
    "            batch_size: Batch size for training\n",
    "            lr: Learning rate for optimizer\n",
    "            criterion: Loss function\n",
    "            random_state: Random seed for reproducibility\n",
    "        \"\"\"\n",
    "        \n",
    "        self.model_class = model_class\n",
    "        self.train_dataset = train_dataset\n",
    "        self.test_dataset = test_dataset\n",
    "  \n",
    "        self.device = torch.device(\"cuda\" if torch.cuda.is_available() else \"cpu\")\n",
    "        self.criterion = criterion\n",
    "        \n",
    "        self.k_folds = k_folds\n",
    "        self.batch_size = batch_size\n",
    "        self.lr = lr\n",
    "        self.random_state = random_state\n",
    "        \n",
    "        # Metrics\n",
    "        self.train_scores = []\n",
    "        self.val_scores = []\n",
    "    \n",
    "    def train_epoch(self, model, train_loader, optimizer, f1_metric):\n",
    "        \"\"\"Train for one epoch.\"\"\"\n",
    "        model.train()\n",
    "        f1_metric.reset()\n",
    "        \n",
    "        for img, label in tqdm(train_loader, desc=\"TRAINING\"):\n",
    "            img, label = img.to(self.device), label.to(self.device)\n",
    "            \n",
    "            # Forward pass\n",
    "            optimizer.zero_grad()\n",
    "            outputs = model(img).squeeze()\n",
    "            loss = self.criterion(outputs, label.float())\n",
    "            \n",
    "            # Backward pass\n",
    "            loss.backward()\n",
    "            optimizer.step()\n",
    "            \n",
    "            # Calculate metrics\n",
    "            preds = (outputs > 0.5).int()\n",
    "            f1_metric.update(preds, label.int())\n",
    "            \n",
    "        return f1_metric.compute().item()\n",
    "    \n",
    "    def evaluate(self, model, val_loader, f1_metric):\n",
    "        \"\"\"Evaluate the model.\"\"\"\n",
    "        \n",
    "        model.eval()\n",
    "        f1_metric.reset()\n",
    "        \n",
    "        with torch.no_grad():\n",
    "            for img, label in tqdm(val_loader, desc=\"VALIDATION\"):\n",
    "                img, label = img.to(self.device), label.to(self.device)\n",
    "                \n",
    "                # Forward pass\n",
    "                outputs = model(img).squeeze()\n",
    "                \n",
    "                # Calculate metrics\n",
    "                preds = (outputs > 0.5).int()\n",
    "                f1_metric.update(preds, label.int())\n",
    "                \n",
    "        return f1_metric.compute().item()\n",
    "    \n",
    "    def process_fold(self, train_loader, val_loader, epochs):\n",
    "        \"\"\"Process a single fold.\"\"\"\n",
    "        model = self.model_class().to(self.device)\n",
    "        optimizer = optim.Adam(model.parameters(), lr=self.lr)\n",
    "        \n",
    "        train_f1_metric = BinaryF1Score().to(self.device)\n",
    "        val_f1_metric = BinaryF1Score().to(self.device)\n",
    "        \n",
    "        train_fold_scores = []\n",
    "        val_fold_scores = []\n",
    "        \n",
    "        for epoch in range(epochs):\n",
    "            # Train\n",
    "            train_epoch_f1 = self.train_epoch(model, train_loader, optimizer, train_f1_metric)\n",
    "            train_fold_scores.append(train_epoch_f1)\n",
    "            \n",
    "            # Validate\n",
    "            val_epoch_f1 = self.evaluate(model, val_loader, val_f1_metric)\n",
    "            val_fold_scores.append(val_epoch_f1)\n",
    "            \n",
    "            print(f\"Epoch {epoch+1}/{epochs} - Train F1 Score: {train_epoch_f1:.3f}, Val F1 Score: {val_epoch_f1:.3f}\")\n",
    "        \n",
    "        train_avg_f1 = sum(train_fold_scores) / len(train_fold_scores)\n",
    "        val_avg_f1 = sum(val_fold_scores) / len(val_fold_scores)\n",
    "        \n",
    "        return model, train_avg_f1, val_avg_f1\n",
    "    \n",
    "    def train(self, epochs, df):\n",
    "        \"\"\"Train with k-fold cross validation.\"\"\"\n",
    "\n",
    "        best_model = None\n",
    "        best_val_score = 0\n",
    "        \n",
    "        gkf = GroupKFold(n_splits=self.k_folds)\n",
    "        splits = list(gkf.split(df, groups=df[\"group\"]))\n",
    "        \n",
    "        for fold, (train_idx, val_idx) in enumerate(splits):\n",
    "            print(f\"\\n{'-'*50}\")\n",
    "            print(f\"FOLD {fold + 1}/{self.k_folds}\")\n",
    "            print(f\"{'-'*50}\\n\")\n",
    "            \n",
    "            # Create data loaders for this fold\n",
    "            train_data = Subset(self.train_dataset, train_idx)\n",
    "            val_data = Subset(self.train_dataset, val_idx)\n",
    "            \n",
    "            train_loader = DataLoader(\n",
    "                train_data, \n",
    "                batch_size=self.batch_size, \n",
    "                shuffle=True\n",
    "            )\n",
    "            val_loader = DataLoader(\n",
    "                val_data, \n",
    "                batch_size=self.batch_size, \n",
    "                shuffle=False\n",
    "            )\n",
    "            \n",
    "            # Process this fold\n",
    "            model, train_fold_f1, val_fold_f1 = self.process_fold(\n",
    "                train_loader, val_loader, epochs\n",
    "            )\n",
    "            \n",
    "            print(f\"\\nFOLD {fold + 1} RESULTS:\")\n",
    "            print(f\"TRAIN F1_SCORE: {train_fold_f1:.3f}, VAL F1_SCORE: {val_fold_f1:.3f}\\n\")\n",
    "            \n",
    "            # Store scores\n",
    "            self.train_scores.append(train_fold_f1)\n",
    "            self.val_scores.append(val_fold_f1)\n",
    "            \n",
    "            # Keep track of best model\n",
    "            if val_fold_f1 > best_val_score:\n",
    "                best_val_score = val_fold_f1\n",
    "                best_model = model\n",
    "        \n",
    "        # Print final results\n",
    "        train_avg_f1 = sum(self.train_scores) / len(self.train_scores)\n",
    "        val_avg_f1 = sum(self.val_scores) / len(self.val_scores)\n",
    "        \n",
    "        print(f\"{'-'*50}\")\n",
    "        print(f\"CROSS-VALIDATION RESULTS:\")\n",
    "        print(f\"AVG TRAIN F1_SCORE: {train_avg_f1:.3f}, AVG VAL F1_SCORE: {val_avg_f1:.3f}\")\n",
    "        print(f\"{'-'*50}\\n\")\n",
    "        \n",
    "        return best_model, train_avg_f1, val_avg_f1\n",
    "    \n",
    "    def predict(self, model):\n",
    "        \"\"\"Make predictions with the model.\"\"\"\n",
    "        model.eval()\n",
    "        all_preds = []\n",
    "\n",
    "        test_loader = DataLoader(\n",
    "            self.test_dataset, \n",
    "            batch_size=64, \n",
    "            shuffle=False\n",
    "        )\n",
    "        \n",
    "        with torch.no_grad():\n",
    "            for img in tqdm(test_loader, desc=\"PREDICTING\"):\n",
    "                img = img.to(self.device)\n",
    "                outputs = model(img).squeeze()\n",
    "                preds = (outputs > 0.5).int()\n",
    "                all_preds.extend(preds.cpu().numpy())\n",
    "                \n",
    "        return np.array(all_preds)"
   ]
  },
  {
   "cell_type": "code",
   "execution_count": 6,
   "id": "3f4254d0",
   "metadata": {
    "execution": {
     "iopub.execute_input": "2025-03-02T05:48:42.313572Z",
     "iopub.status.busy": "2025-03-02T05:48:42.313377Z",
     "iopub.status.idle": "2025-03-02T05:48:42.317899Z",
     "shell.execute_reply": "2025-03-02T05:48:42.317314Z"
    },
    "papermill": {
     "duration": 0.008336,
     "end_time": "2025-03-02T05:48:42.319054",
     "exception": false,
     "start_time": "2025-03-02T05:48:42.310718",
     "status": "completed"
    },
    "tags": []
   },
   "outputs": [],
   "source": [
    "train_transform = T.Compose([\n",
    "    T.Resize((128, 128)), \n",
    "    \n",
    "    # Human Augments\n",
    "    T.RandomPerspective(\n",
    "        distortion_scale=0.5, \n",
    "        p=0.5\n",
    "    ),\n",
    "    T.RandomRotation(30), \n",
    "    T.GaussianBlur(\n",
    "        kernel_size=5, \n",
    "        sigma=(0.1, 2.0)\n",
    "    ),\n",
    "\n",
    "    # AI Augments \n",
    "    T.ColorJitter(\n",
    "        brightness=0.5, \n",
    "        contrast=0.5, \n",
    "        saturation=0.5,\n",
    "        hue=0.3\n",
    "    ),           \n",
    "    T.ToTensor(), \n",
    "    T.Normalize(\n",
    "        mean=[0.5, 0.5, 0.5], \n",
    "        std=[0.5, 0.5, 0.5]\n",
    "    )  \n",
    "])\n",
    "\n",
    "test_transform = T.Compose([\n",
    "    T.Resize((128, 128)),\n",
    "    T.ToTensor(), \n",
    "    T.Normalize(\n",
    "        mean=[0.5, 0.5, 0.5], \n",
    "        std=[0.5, 0.5, 0.5]\n",
    "    )  \n",
    "])"
   ]
  },
  {
   "cell_type": "code",
   "execution_count": 7,
   "id": "8cdb15ba",
   "metadata": {
    "execution": {
     "iopub.execute_input": "2025-03-02T05:48:42.324086Z",
     "iopub.status.busy": "2025-03-02T05:48:42.323886Z",
     "iopub.status.idle": "2025-03-02T05:48:42.337248Z",
     "shell.execute_reply": "2025-03-02T05:48:42.336660Z"
    },
    "papermill": {
     "duration": 0.017177,
     "end_time": "2025-03-02T05:48:42.338419",
     "exception": false,
     "start_time": "2025-03-02T05:48:42.321242",
     "status": "completed"
    },
    "tags": []
   },
   "outputs": [],
   "source": [
    "train_data = DeepfakeDataset(\n",
    "    df=train_df, \n",
    "    root_dir=\"/kaggle/input/ai-vs-human-generated-dataset/\",\n",
    "    transform=train_transform,\n",
    "    train=True\n",
    ")\n",
    "\n",
    "test_data = DeepfakeDataset(\n",
    "    df=test_df,\n",
    "    root_dir=\"/kaggle/input/ai-vs-human-generated-dataset/\", \n",
    "    transform=test_transform,\n",
    "    train=False\n",
    ")\n",
    "\n",
    "if DEBUGGING: \n",
    "    indices = list(range(1000))\n",
    "    \n",
    "    train_data = Subset(train_data, indices)\n",
    "    train_df = train_df.iloc[indices]"
   ]
  },
  {
   "cell_type": "code",
   "execution_count": 8,
   "id": "7173d8d6",
   "metadata": {
    "execution": {
     "iopub.execute_input": "2025-03-02T05:48:42.343293Z",
     "iopub.status.busy": "2025-03-02T05:48:42.343104Z",
     "iopub.status.idle": "2025-03-02T05:51:16.749973Z",
     "shell.execute_reply": "2025-03-02T05:51:16.748792Z"
    },
    "papermill": {
     "duration": 154.410784,
     "end_time": "2025-03-02T05:51:16.751347",
     "exception": false,
     "start_time": "2025-03-02T05:48:42.340563",
     "status": "completed"
    },
    "tags": []
   },
   "outputs": [
    {
     "name": "stdout",
     "output_type": "stream",
     "text": [
      "\n",
      "--------------------------------------------------\n",
      "FOLD 1/3\n",
      "--------------------------------------------------\n",
      "\n"
     ]
    },
    {
     "name": "stderr",
     "output_type": "stream",
     "text": [
      "TRAINING: 100%|██████████| 11/11 [00:11<00:00,  1.04s/it]\n",
      "VALIDATION: 100%|██████████| 6/6 [00:04<00:00,  1.30it/s]\n"
     ]
    },
    {
     "name": "stdout",
     "output_type": "stream",
     "text": [
      "Epoch 1/5 - Train F1 Score: 0.508, Val F1 Score: 0.653\n"
     ]
    },
    {
     "name": "stderr",
     "output_type": "stream",
     "text": [
      "TRAINING: 100%|██████████| 11/11 [00:07<00:00,  1.53it/s]\n",
      "VALIDATION: 100%|██████████| 6/6 [00:03<00:00,  1.80it/s]\n"
     ]
    },
    {
     "name": "stdout",
     "output_type": "stream",
     "text": [
      "Epoch 2/5 - Train F1 Score: 0.544, Val F1 Score: 0.668\n"
     ]
    },
    {
     "name": "stderr",
     "output_type": "stream",
     "text": [
      "TRAINING: 100%|██████████| 11/11 [00:06<00:00,  1.61it/s]\n",
      "VALIDATION: 100%|██████████| 6/6 [00:03<00:00,  1.73it/s]\n"
     ]
    },
    {
     "name": "stdout",
     "output_type": "stream",
     "text": [
      "Epoch 3/5 - Train F1 Score: 0.535, Val F1 Score: 0.580\n"
     ]
    },
    {
     "name": "stderr",
     "output_type": "stream",
     "text": [
      "TRAINING: 100%|██████████| 11/11 [00:06<00:00,  1.67it/s]\n",
      "VALIDATION: 100%|██████████| 6/6 [00:03<00:00,  1.95it/s]\n"
     ]
    },
    {
     "name": "stdout",
     "output_type": "stream",
     "text": [
      "Epoch 4/5 - Train F1 Score: 0.559, Val F1 Score: 0.660\n"
     ]
    },
    {
     "name": "stderr",
     "output_type": "stream",
     "text": [
      "TRAINING: 100%|██████████| 11/11 [00:06<00:00,  1.62it/s]\n",
      "VALIDATION: 100%|██████████| 6/6 [00:03<00:00,  1.90it/s]\n"
     ]
    },
    {
     "name": "stdout",
     "output_type": "stream",
     "text": [
      "Epoch 5/5 - Train F1 Score: 0.648, Val F1 Score: 0.693\n",
      "\n",
      "FOLD 1 RESULTS:\n",
      "TRAIN F1_SCORE: 0.559, VAL F1_SCORE: 0.651\n",
      "\n",
      "\n",
      "--------------------------------------------------\n",
      "FOLD 2/3\n",
      "--------------------------------------------------\n",
      "\n"
     ]
    },
    {
     "name": "stderr",
     "output_type": "stream",
     "text": [
      "TRAINING: 100%|██████████| 11/11 [00:06<00:00,  1.72it/s]\n",
      "VALIDATION: 100%|██████████| 6/6 [00:03<00:00,  1.89it/s]\n"
     ]
    },
    {
     "name": "stdout",
     "output_type": "stream",
     "text": [
      "Epoch 1/5 - Train F1 Score: 0.544, Val F1 Score: 0.272\n"
     ]
    },
    {
     "name": "stderr",
     "output_type": "stream",
     "text": [
      "TRAINING: 100%|██████████| 11/11 [00:06<00:00,  1.71it/s]\n",
      "VALIDATION: 100%|██████████| 6/6 [00:03<00:00,  1.91it/s]\n"
     ]
    },
    {
     "name": "stdout",
     "output_type": "stream",
     "text": [
      "Epoch 2/5 - Train F1 Score: 0.518, Val F1 Score: 0.057\n"
     ]
    },
    {
     "name": "stderr",
     "output_type": "stream",
     "text": [
      "TRAINING: 100%|██████████| 11/11 [00:06<00:00,  1.65it/s]\n",
      "VALIDATION: 100%|██████████| 6/6 [00:03<00:00,  1.90it/s]\n"
     ]
    },
    {
     "name": "stdout",
     "output_type": "stream",
     "text": [
      "Epoch 3/5 - Train F1 Score: 0.499, Val F1 Score: 0.259\n"
     ]
    },
    {
     "name": "stderr",
     "output_type": "stream",
     "text": [
      "TRAINING: 100%|██████████| 11/11 [00:06<00:00,  1.66it/s]\n",
      "VALIDATION: 100%|██████████| 6/6 [00:03<00:00,  1.90it/s]\n"
     ]
    },
    {
     "name": "stdout",
     "output_type": "stream",
     "text": [
      "Epoch 4/5 - Train F1 Score: 0.567, Val F1 Score: 0.523\n"
     ]
    },
    {
     "name": "stderr",
     "output_type": "stream",
     "text": [
      "TRAINING: 100%|██████████| 11/11 [00:06<00:00,  1.68it/s]\n",
      "VALIDATION: 100%|██████████| 6/6 [00:03<00:00,  1.91it/s]\n"
     ]
    },
    {
     "name": "stdout",
     "output_type": "stream",
     "text": [
      "Epoch 5/5 - Train F1 Score: 0.597, Val F1 Score: 0.646\n",
      "\n",
      "FOLD 2 RESULTS:\n",
      "TRAIN F1_SCORE: 0.545, VAL F1_SCORE: 0.351\n",
      "\n",
      "\n",
      "--------------------------------------------------\n",
      "FOLD 3/3\n",
      "--------------------------------------------------\n",
      "\n"
     ]
    },
    {
     "name": "stderr",
     "output_type": "stream",
     "text": [
      "TRAINING: 100%|██████████| 11/11 [00:06<00:00,  1.70it/s]\n",
      "VALIDATION: 100%|██████████| 6/6 [00:03<00:00,  1.80it/s]\n"
     ]
    },
    {
     "name": "stdout",
     "output_type": "stream",
     "text": [
      "Epoch 1/5 - Train F1 Score: 0.510, Val F1 Score: 0.390\n"
     ]
    },
    {
     "name": "stderr",
     "output_type": "stream",
     "text": [
      "TRAINING: 100%|██████████| 11/11 [00:06<00:00,  1.71it/s]\n",
      "VALIDATION: 100%|██████████| 6/6 [00:03<00:00,  1.95it/s]\n"
     ]
    },
    {
     "name": "stdout",
     "output_type": "stream",
     "text": [
      "Epoch 2/5 - Train F1 Score: 0.518, Val F1 Score: 0.091\n"
     ]
    },
    {
     "name": "stderr",
     "output_type": "stream",
     "text": [
      "TRAINING: 100%|██████████| 11/11 [00:06<00:00,  1.67it/s]\n",
      "VALIDATION: 100%|██████████| 6/6 [00:03<00:00,  1.96it/s]\n"
     ]
    },
    {
     "name": "stdout",
     "output_type": "stream",
     "text": [
      "Epoch 3/5 - Train F1 Score: 0.464, Val F1 Score: 0.201\n"
     ]
    },
    {
     "name": "stderr",
     "output_type": "stream",
     "text": [
      "TRAINING: 100%|██████████| 11/11 [00:06<00:00,  1.66it/s]\n",
      "VALIDATION: 100%|██████████| 6/6 [00:03<00:00,  1.93it/s]\n"
     ]
    },
    {
     "name": "stdout",
     "output_type": "stream",
     "text": [
      "Epoch 4/5 - Train F1 Score: 0.494, Val F1 Score: 0.102\n"
     ]
    },
    {
     "name": "stderr",
     "output_type": "stream",
     "text": [
      "TRAINING: 100%|██████████| 11/11 [00:06<00:00,  1.67it/s]\n",
      "VALIDATION: 100%|██████████| 6/6 [00:03<00:00,  1.90it/s]"
     ]
    },
    {
     "name": "stdout",
     "output_type": "stream",
     "text": [
      "Epoch 5/5 - Train F1 Score: 0.388, Val F1 Score: 0.294\n",
      "\n",
      "FOLD 3 RESULTS:\n",
      "TRAIN F1_SCORE: 0.475, VAL F1_SCORE: 0.216\n",
      "\n",
      "--------------------------------------------------\n",
      "CROSS-VALIDATION RESULTS:\n",
      "AVG TRAIN F1_SCORE: 0.526, AVG VAL F1_SCORE: 0.406\n",
      "--------------------------------------------------\n",
      "\n"
     ]
    },
    {
     "name": "stderr",
     "output_type": "stream",
     "text": [
      "\n"
     ]
    }
   ],
   "source": [
    "device = torch.device(\"cuda\" if torch.cuda.is_available() else \"cpu\")\n",
    "\n",
    "cv_trainer = DeepfakeTrainer(\n",
    "    model_class=AIDetector,  \n",
    "    train_dataset=train_data,  \n",
    "    test_dataset=test_data,\n",
    "    k_folds=3,            \n",
    "    batch_size=64,         \n",
    "    lr=0.001               \n",
    ")\n",
    "\n",
    "model, train_f1, val_f1 = cv_trainer.train(epochs=5, df=train_df)"
   ]
  },
  {
   "cell_type": "code",
   "execution_count": 9,
   "id": "33b24a71",
   "metadata": {
    "execution": {
     "iopub.execute_input": "2025-03-02T05:51:16.788225Z",
     "iopub.status.busy": "2025-03-02T05:51:16.787993Z",
     "iopub.status.idle": "2025-03-02T05:54:49.317425Z",
     "shell.execute_reply": "2025-03-02T05:54:49.316314Z"
    },
    "papermill": {
     "duration": 212.548697,
     "end_time": "2025-03-02T05:54:49.318624",
     "exception": false,
     "start_time": "2025-03-02T05:51:16.769927",
     "status": "completed"
    },
    "tags": []
   },
   "outputs": [
    {
     "name": "stderr",
     "output_type": "stream",
     "text": [
      "PREDICTING: 100%|██████████| 87/87 [03:32<00:00,  2.44s/it]\n"
     ]
    }
   ],
   "source": [
    "ids = test_df[\"id\"]\n",
    "preds = cv_trainer.predict(model)\n",
    "\n",
    "submission = pd.DataFrame({\n",
    "    \"id\": ids,\n",
    "    \"label\": preds\n",
    "})\n",
    "\n",
    "submission.to_csv(\"/kaggle/working/V4.csv\", index=False)"
   ]
  }
 ],
 "metadata": {
  "kaggle": {
   "accelerator": "nvidiaTeslaT4",
   "dataSources": [
    {
     "datasetId": 6412205,
     "sourceId": 10550636,
     "sourceType": "datasetVersion"
    }
   ],
   "dockerImageVersionId": 30918,
   "isGpuEnabled": true,
   "isInternetEnabled": true,
   "language": "python",
   "sourceType": "notebook"
  },
  "kernelspec": {
   "display_name": "Python 3",
   "language": "python",
   "name": "python3"
  },
  "language_info": {
   "codemirror_mode": {
    "name": "ipython",
    "version": 3
   },
   "file_extension": ".py",
   "mimetype": "text/x-python",
   "name": "python",
   "nbconvert_exporter": "python",
   "pygments_lexer": "ipython3",
   "version": "3.10.12"
  },
  "papermill": {
   "default_parameters": {},
   "duration": 390.336259,
   "end_time": "2025-03-02T05:54:52.553138",
   "environment_variables": {},
   "exception": null,
   "input_path": "__notebook__.ipynb",
   "output_path": "__notebook__.ipynb",
   "parameters": {},
   "start_time": "2025-03-02T05:48:22.216879",
   "version": "2.6.0"
  }
 },
 "nbformat": 4,
 "nbformat_minor": 5
}
