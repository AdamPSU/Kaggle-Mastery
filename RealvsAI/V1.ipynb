{
 "cells": [
  {
   "cell_type": "code",
   "execution_count": 1,
   "id": "5d9cd3cf",
   "metadata": {
    "_cell_guid": "b1076dfc-b9ad-4769-8c92-a6c4dae69d19",
    "_uuid": "8f2839f25d086af736a60e9eeb907d3b93b6e0e5",
    "execution": {
     "iopub.execute_input": "2025-02-22T04:53:04.485218Z",
     "iopub.status.busy": "2025-02-22T04:53:04.484841Z",
     "iopub.status.idle": "2025-02-22T04:53:16.383961Z",
     "shell.execute_reply": "2025-02-22T04:53:16.382778Z"
    },
    "papermill": {
     "duration": 11.90497,
     "end_time": "2025-02-22T04:53:16.386153",
     "exception": false,
     "start_time": "2025-02-22T04:53:04.481183",
     "status": "completed"
    },
    "tags": []
   },
   "outputs": [],
   "source": [
    "import re\n",
    "import pandas as pd \n",
    "from PIL import Image\n",
    "\n",
    "import torch\n",
    "from torchvision import transforms\n",
    "from torch.utils.data import Dataset, DataLoader"
   ]
  },
  {
   "cell_type": "code",
   "execution_count": 2,
   "id": "1b91d84c",
   "metadata": {
    "execution": {
     "iopub.execute_input": "2025-02-22T04:53:16.391801Z",
     "iopub.status.busy": "2025-02-22T04:53:16.391279Z",
     "iopub.status.idle": "2025-02-22T04:53:16.398162Z",
     "shell.execute_reply": "2025-02-22T04:53:16.396830Z"
    },
    "papermill": {
     "duration": 0.011585,
     "end_time": "2025-02-22T04:53:16.400171",
     "exception": false,
     "start_time": "2025-02-22T04:53:16.388586",
     "status": "completed"
    },
    "tags": []
   },
   "outputs": [],
   "source": [
    "class DeepfakeDataset(Dataset): \n",
    "    def __init__(self, csv_file, root_dir, transform=None): \n",
    "        self.data = pd.read_csv(csv_file) \n",
    "        self.root_dir = root_dir \n",
    "        self.transform = transform\n",
    "        \n",
    "\n",
    "    def __len__(self): \n",
    "        return len(self.data)\n",
    "\n",
    "    def __getitem__(self, idx):\n",
    "        img_path = self.root_dir + self.data.iloc[idx, 1]\n",
    "        image = Image.open(img_path).convert(\"RGB\")\n",
    "        label = self.data.iloc[idx, 2]\n",
    "        image = self.transform(image)\n",
    "\n",
    "        return image, torch.tensor(label)"
   ]
  },
  {
   "cell_type": "code",
   "execution_count": 3,
   "id": "8ca98050",
   "metadata": {
    "execution": {
     "iopub.execute_input": "2025-02-22T04:53:16.405563Z",
     "iopub.status.busy": "2025-02-22T04:53:16.405185Z",
     "iopub.status.idle": "2025-02-22T04:53:16.567359Z",
     "shell.execute_reply": "2025-02-22T04:53:16.566261Z"
    },
    "papermill": {
     "duration": 0.16753,
     "end_time": "2025-02-22T04:53:16.569784",
     "exception": false,
     "start_time": "2025-02-22T04:53:16.402254",
     "status": "completed"
    },
    "tags": []
   },
   "outputs": [],
   "source": [
    "transform = transforms.Compose([\n",
    "    transforms.Resize((128, 128)), \n",
    "    transforms.ToTensor()\n",
    "])\n",
    "\n",
    "dataset = DeepfakeDataset(\n",
    "    csv_file=\"/kaggle/input/ai-vs-human-generated-dataset/train.csv\", \n",
    "    root_dir=\"/kaggle/input/ai-vs-human-generated-dataset/\",\n",
    "    transform=transform\n",
    ")\n",
    "\n",
    "train_loader = DataLoader(\n",
    "    dataset, \n",
    "    batch_size=32, \n",
    "    shuffle=True,    \n",
    ")"
   ]
  }
 ],
 "metadata": {
  "kaggle": {
   "accelerator": "none",
   "dataSources": [
    {
     "datasetId": 6412205,
     "sourceId": 10550636,
     "sourceType": "datasetVersion"
    }
   ],
   "dockerImageVersionId": 30918,
   "isGpuEnabled": false,
   "isInternetEnabled": true,
   "language": "python",
   "sourceType": "notebook"
  },
  "kernelspec": {
   "display_name": "Python 3",
   "language": "python",
   "name": "python3"
  },
  "language_info": {
   "codemirror_mode": {
    "name": "ipython",
    "version": 3
   },
   "file_extension": ".py",
   "mimetype": "text/x-python",
   "name": "python",
   "nbconvert_exporter": "python",
   "pygments_lexer": "ipython3",
   "version": "3.10.12"
  },
  "papermill": {
   "default_parameters": {},
   "duration": 17.627795,
   "end_time": "2025-02-22T04:53:19.167284",
   "environment_variables": {},
   "exception": null,
   "input_path": "__notebook__.ipynb",
   "output_path": "__notebook__.ipynb",
   "parameters": {},
   "start_time": "2025-02-22T04:53:01.539489",
   "version": "2.6.0"
  }
 },
 "nbformat": 4,
 "nbformat_minor": 5
}
