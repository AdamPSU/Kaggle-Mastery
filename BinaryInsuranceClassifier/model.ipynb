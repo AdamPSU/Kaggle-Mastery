{
 "cells": [
  {
   "cell_type": "code",
   "execution_count": 1,
   "id": "e67d6a79",
   "metadata": {
    "execution": {
     "iopub.execute_input": "2024-07-25T23:58:30.515673Z",
     "iopub.status.busy": "2024-07-25T23:58:30.515200Z",
     "iopub.status.idle": "2024-07-25T23:58:33.536774Z",
     "shell.execute_reply": "2024-07-25T23:58:33.535431Z"
    },
    "papermill": {
     "duration": 3.0338,
     "end_time": "2024-07-25T23:58:33.539408",
     "exception": false,
     "start_time": "2024-07-25T23:58:30.505608",
     "status": "completed"
    },
    "tags": []
   },
   "outputs": [
    {
     "name": "stdout",
     "output_type": "stream",
     "text": [
      "/kaggle/input/playground-series-s4e7/sample_submission.csv\n",
      "/kaggle/input/playground-series-s4e7/train.csv\n",
      "/kaggle/input/playground-series-s4e7/test.csv\n"
     ]
    }
   ],
   "source": [
    "import numpy as np\n",
    "import pandas as pd\n",
    "import seaborn as sns \n",
    "import matplotlib.pyplot as plt \n",
    "\n",
    "from sklearn.model_selection import train_test_split\n",
    "\n",
    "import os\n",
    "for dirname, _, filenames in os.walk('/kaggle/input'):\n",
    "    for filename in filenames:\n",
    "        print(os.path.join(dirname, filename))\n",
    "        \n",
    "import warnings\n",
    "warnings.filterwarnings('ignore')\n"
   ]
  },
  {
   "cell_type": "code",
   "execution_count": 2,
   "id": "beb3fbb5",
   "metadata": {
    "execution": {
     "iopub.execute_input": "2024-07-25T23:58:33.556424Z",
     "iopub.status.busy": "2024-07-25T23:58:33.555869Z",
     "iopub.status.idle": "2024-07-25T23:59:14.532901Z",
     "shell.execute_reply": "2024-07-25T23:59:14.531758Z"
    },
    "papermill": {
     "duration": 40.988844,
     "end_time": "2024-07-25T23:59:14.535790",
     "exception": false,
     "start_time": "2024-07-25T23:58:33.546946",
     "status": "completed"
    },
    "tags": []
   },
   "outputs": [],
   "source": [
    "train = pd.read_csv(\"/kaggle/input/playground-series-s4e7/train.csv\")\n",
    "test = pd.read_csv(\"/kaggle/input/playground-series-s4e7/test.csv\")"
   ]
  },
  {
   "cell_type": "code",
   "execution_count": 3,
   "id": "ad4cd0fe",
   "metadata": {
    "execution": {
     "iopub.execute_input": "2024-07-25T23:59:14.552382Z",
     "iopub.status.busy": "2024-07-25T23:59:14.551969Z",
     "iopub.status.idle": "2024-07-25T23:59:14.563126Z",
     "shell.execute_reply": "2024-07-25T23:59:14.561945Z"
    },
    "papermill": {
     "duration": 0.022711,
     "end_time": "2024-07-25T23:59:14.565846",
     "exception": false,
     "start_time": "2024-07-25T23:59:14.543135",
     "status": "completed"
    },
    "tags": []
   },
   "outputs": [],
   "source": [
    "def converting_datatypes(df):\n",
    "    df = df.copy()\n",
    "\n",
    "    # Converting data types\n",
    "    df['Gender'] = df['Gender'].astype('category')\n",
    "    df['Vehicle_Age'] = df['Vehicle_Age'].astype('category')\n",
    "    df['Vehicle_Damage'] = df['Vehicle_Damage'].astype('category')\n",
    "    df['Age'] = df['Age'].astype('int8')\n",
    "    df['Driving_License'] = df['Driving_License'].astype('int8')\n",
    "    df['Region_Code'] = df['Region_Code'].astype('int8')\n",
    "    df['Previously_Insured'] = df['Previously_Insured'].astype('int8')\n",
    "    df['Annual_Premium'] = df['Annual_Premium'].astype('int32')\n",
    "    df['Policy_Sales_Channel'] = df['Policy_Sales_Channel'].astype('int16')\n",
    "    df['Vintage'] = df['Vintage'].astype('int16')\n",
    "    df['Response'] = df['Response'].astype('int8')\n",
    "    print(df.info(memory_usage='deep'))\n",
    "    \n",
    "    return df"
   ]
  },
  {
   "cell_type": "code",
   "execution_count": 4,
   "id": "3cc8ceaa",
   "metadata": {
    "execution": {
     "iopub.execute_input": "2024-07-25T23:59:14.582614Z",
     "iopub.status.busy": "2024-07-25T23:59:14.582216Z",
     "iopub.status.idle": "2024-07-25T23:59:19.481346Z",
     "shell.execute_reply": "2024-07-25T23:59:19.479669Z"
    },
    "papermill": {
     "duration": 4.911077,
     "end_time": "2024-07-25T23:59:19.484284",
     "exception": false,
     "start_time": "2024-07-25T23:59:14.573207",
     "status": "completed"
    },
    "tags": []
   },
   "outputs": [
    {
     "name": "stdout",
     "output_type": "stream",
     "text": [
      "<class 'pandas.core.frame.DataFrame'>\n",
      "RangeIndex: 11504798 entries, 0 to 11504797\n",
      "Data columns (total 12 columns):\n",
      " #   Column                Dtype   \n",
      "---  ------                -----   \n",
      " 0   id                    int64   \n",
      " 1   Gender                category\n",
      " 2   Age                   int8    \n",
      " 3   Driving_License       int8    \n",
      " 4   Region_Code           int8    \n",
      " 5   Previously_Insured    int8    \n",
      " 6   Vehicle_Age           category\n",
      " 7   Vehicle_Damage        category\n",
      " 8   Annual_Premium        int32   \n",
      " 9   Policy_Sales_Channel  int16   \n",
      " 10  Vintage               int16   \n",
      " 11  Response              int8    \n",
      "dtypes: category(3), int16(2), int32(1), int64(1), int8(5)\n",
      "memory usage: 263.3 MB\n",
      "None\n"
     ]
    }
   ],
   "source": [
    "train = converting_datatypes(train)"
   ]
  },
  {
   "cell_type": "markdown",
   "id": "a5265d08",
   "metadata": {
    "papermill": {
     "duration": 0.007123,
     "end_time": "2024-07-25T23:59:19.500460",
     "exception": false,
     "start_time": "2024-07-25T23:59:19.493337",
     "status": "completed"
    },
    "tags": []
   },
   "source": [
    "# ***EDA***"
   ]
  },
  {
   "cell_type": "code",
   "execution_count": 5,
   "id": "3b554918",
   "metadata": {
    "execution": {
     "iopub.execute_input": "2024-07-25T23:59:19.517087Z",
     "iopub.status.busy": "2024-07-25T23:59:19.516629Z",
     "iopub.status.idle": "2024-07-25T23:59:19.539467Z",
     "shell.execute_reply": "2024-07-25T23:59:19.538114Z"
    },
    "papermill": {
     "duration": 0.03447,
     "end_time": "2024-07-25T23:59:19.542353",
     "exception": false,
     "start_time": "2024-07-25T23:59:19.507883",
     "status": "completed"
    },
    "tags": []
   },
   "outputs": [
    {
     "data": {
      "text/html": [
       "<div>\n",
       "<style scoped>\n",
       "    .dataframe tbody tr th:only-of-type {\n",
       "        vertical-align: middle;\n",
       "    }\n",
       "\n",
       "    .dataframe tbody tr th {\n",
       "        vertical-align: top;\n",
       "    }\n",
       "\n",
       "    .dataframe thead th {\n",
       "        text-align: right;\n",
       "    }\n",
       "</style>\n",
       "<table border=\"1\" class=\"dataframe\">\n",
       "  <thead>\n",
       "    <tr style=\"text-align: right;\">\n",
       "      <th></th>\n",
       "      <th>id</th>\n",
       "      <th>Gender</th>\n",
       "      <th>Age</th>\n",
       "      <th>Driving_License</th>\n",
       "      <th>Region_Code</th>\n",
       "      <th>Previously_Insured</th>\n",
       "      <th>Vehicle_Age</th>\n",
       "      <th>Vehicle_Damage</th>\n",
       "      <th>Annual_Premium</th>\n",
       "      <th>Policy_Sales_Channel</th>\n",
       "      <th>Vintage</th>\n",
       "      <th>Response</th>\n",
       "    </tr>\n",
       "  </thead>\n",
       "  <tbody>\n",
       "    <tr>\n",
       "      <th>0</th>\n",
       "      <td>0</td>\n",
       "      <td>Male</td>\n",
       "      <td>21</td>\n",
       "      <td>1</td>\n",
       "      <td>35</td>\n",
       "      <td>0</td>\n",
       "      <td>1-2 Year</td>\n",
       "      <td>Yes</td>\n",
       "      <td>65101</td>\n",
       "      <td>124</td>\n",
       "      <td>187</td>\n",
       "      <td>0</td>\n",
       "    </tr>\n",
       "    <tr>\n",
       "      <th>1</th>\n",
       "      <td>1</td>\n",
       "      <td>Male</td>\n",
       "      <td>43</td>\n",
       "      <td>1</td>\n",
       "      <td>28</td>\n",
       "      <td>0</td>\n",
       "      <td>&gt; 2 Years</td>\n",
       "      <td>Yes</td>\n",
       "      <td>58911</td>\n",
       "      <td>26</td>\n",
       "      <td>288</td>\n",
       "      <td>1</td>\n",
       "    </tr>\n",
       "    <tr>\n",
       "      <th>2</th>\n",
       "      <td>2</td>\n",
       "      <td>Female</td>\n",
       "      <td>25</td>\n",
       "      <td>1</td>\n",
       "      <td>14</td>\n",
       "      <td>1</td>\n",
       "      <td>&lt; 1 Year</td>\n",
       "      <td>No</td>\n",
       "      <td>38043</td>\n",
       "      <td>152</td>\n",
       "      <td>254</td>\n",
       "      <td>0</td>\n",
       "    </tr>\n",
       "    <tr>\n",
       "      <th>3</th>\n",
       "      <td>3</td>\n",
       "      <td>Female</td>\n",
       "      <td>35</td>\n",
       "      <td>1</td>\n",
       "      <td>1</td>\n",
       "      <td>0</td>\n",
       "      <td>1-2 Year</td>\n",
       "      <td>Yes</td>\n",
       "      <td>2630</td>\n",
       "      <td>156</td>\n",
       "      <td>76</td>\n",
       "      <td>0</td>\n",
       "    </tr>\n",
       "    <tr>\n",
       "      <th>4</th>\n",
       "      <td>4</td>\n",
       "      <td>Female</td>\n",
       "      <td>36</td>\n",
       "      <td>1</td>\n",
       "      <td>15</td>\n",
       "      <td>1</td>\n",
       "      <td>1-2 Year</td>\n",
       "      <td>No</td>\n",
       "      <td>31951</td>\n",
       "      <td>152</td>\n",
       "      <td>294</td>\n",
       "      <td>0</td>\n",
       "    </tr>\n",
       "  </tbody>\n",
       "</table>\n",
       "</div>"
      ],
      "text/plain": [
       "   id  Gender  Age  Driving_License  Region_Code  Previously_Insured  \\\n",
       "0   0    Male   21                1           35                   0   \n",
       "1   1    Male   43                1           28                   0   \n",
       "2   2  Female   25                1           14                   1   \n",
       "3   3  Female   35                1            1                   0   \n",
       "4   4  Female   36                1           15                   1   \n",
       "\n",
       "  Vehicle_Age Vehicle_Damage  Annual_Premium  Policy_Sales_Channel  Vintage  \\\n",
       "0    1-2 Year            Yes           65101                   124      187   \n",
       "1   > 2 Years            Yes           58911                    26      288   \n",
       "2    < 1 Year             No           38043                   152      254   \n",
       "3    1-2 Year            Yes            2630                   156       76   \n",
       "4    1-2 Year             No           31951                   152      294   \n",
       "\n",
       "   Response  \n",
       "0         0  \n",
       "1         1  \n",
       "2         0  \n",
       "3         0  \n",
       "4         0  "
      ]
     },
     "execution_count": 5,
     "metadata": {},
     "output_type": "execute_result"
    }
   ],
   "source": [
    "train.head()"
   ]
  },
  {
   "cell_type": "code",
   "execution_count": 6,
   "id": "29268613",
   "metadata": {
    "execution": {
     "iopub.execute_input": "2024-07-25T23:59:19.561113Z",
     "iopub.status.busy": "2024-07-25T23:59:19.560611Z",
     "iopub.status.idle": "2024-07-25T23:59:19.573587Z",
     "shell.execute_reply": "2024-07-25T23:59:19.572195Z"
    },
    "papermill": {
     "duration": 0.027665,
     "end_time": "2024-07-25T23:59:19.578658",
     "exception": false,
     "start_time": "2024-07-25T23:59:19.550993",
     "status": "completed"
    },
    "tags": []
   },
   "outputs": [
    {
     "name": "stdout",
     "output_type": "stream",
     "text": [
      "<class 'pandas.core.frame.DataFrame'>\n",
      "RangeIndex: 11504798 entries, 0 to 11504797\n",
      "Data columns (total 12 columns):\n",
      " #   Column                Dtype   \n",
      "---  ------                -----   \n",
      " 0   id                    int64   \n",
      " 1   Gender                category\n",
      " 2   Age                   int8    \n",
      " 3   Driving_License       int8    \n",
      " 4   Region_Code           int8    \n",
      " 5   Previously_Insured    int8    \n",
      " 6   Vehicle_Age           category\n",
      " 7   Vehicle_Damage        category\n",
      " 8   Annual_Premium        int32   \n",
      " 9   Policy_Sales_Channel  int16   \n",
      " 10  Vintage               int16   \n",
      " 11  Response              int8    \n",
      "dtypes: category(3), int16(2), int32(1), int64(1), int8(5)\n",
      "memory usage: 263.3 MB\n"
     ]
    }
   ],
   "source": [
    "train.info()"
   ]
  },
  {
   "cell_type": "code",
   "execution_count": 7,
   "id": "d99eaae9",
   "metadata": {
    "execution": {
     "iopub.execute_input": "2024-07-25T23:59:19.598216Z",
     "iopub.status.busy": "2024-07-25T23:59:19.597803Z",
     "iopub.status.idle": "2024-07-25T23:59:22.853043Z",
     "shell.execute_reply": "2024-07-25T23:59:22.851762Z"
    },
    "papermill": {
     "duration": 3.268606,
     "end_time": "2024-07-25T23:59:22.856046",
     "exception": false,
     "start_time": "2024-07-25T23:59:19.587440",
     "status": "completed"
    },
    "tags": []
   },
   "outputs": [
    {
     "data": {
      "image/png": "[encoded data removed]",
      "text/plain": [
       "<Figure size 640x480 with 2 Axes>"
      ]
     },
     "metadata": {},
     "output_type": "display_data"
    }
   ],
   "source": [
    "num = train.select_dtypes(include=['int8', 'int16', 'int32'])\n",
    "sns.heatmap(num.corr(), cmap='crest', annot=True, annot_kws={\"size\": 6}, fmt=\".2f\")\n",
    "plt.show()"
   ]
  },
  {
   "cell_type": "code",
   "execution_count": 8,
   "id": "8ca04c02",
   "metadata": {
    "execution": {
     "iopub.execute_input": "2024-07-25T23:59:22.876652Z",
     "iopub.status.busy": "2024-07-25T23:59:22.876249Z",
     "iopub.status.idle": "2024-07-25T23:59:22.951803Z",
     "shell.execute_reply": "2024-07-25T23:59:22.950710Z"
    },
    "papermill": {
     "duration": 0.088756,
     "end_time": "2024-07-25T23:59:22.954137",
     "exception": false,
     "start_time": "2024-07-25T23:59:22.865381",
     "status": "completed"
    },
    "tags": []
   },
   "outputs": [
    {
     "data": {
      "text/plain": [
       "Region_Code\n",
       "28    3451062\n",
       "8     1021036\n",
       "46     578208\n",
       "41     557581\n",
       "15     403977\n",
       "Name: count, dtype: int64"
      ]
     },
     "execution_count": 8,
     "metadata": {},
     "output_type": "execute_result"
    }
   ],
   "source": [
    "train['Region_Code'].value_counts().head()"
   ]
  },
  {
   "cell_type": "markdown",
   "id": "b6edbb0e",
   "metadata": {
    "papermill": {
     "duration": 0.008833,
     "end_time": "2024-07-25T23:59:22.972358",
     "exception": false,
     "start_time": "2024-07-25T23:59:22.963525",
     "status": "completed"
    },
    "tags": []
   },
   "source": [
    "# ***PREPROCESSING***"
   ]
  },
  {
   "cell_type": "code",
   "execution_count": 9,
   "id": "2c34d030",
   "metadata": {
    "execution": {
     "iopub.execute_input": "2024-07-25T23:59:22.992624Z",
     "iopub.status.busy": "2024-07-25T23:59:22.991945Z",
     "iopub.status.idle": "2024-07-25T23:59:23.853122Z",
     "shell.execute_reply": "2024-07-25T23:59:23.852057Z"
    },
    "papermill": {
     "duration": 0.874421,
     "end_time": "2024-07-25T23:59:23.855905",
     "exception": false,
     "start_time": "2024-07-25T23:59:22.981484",
     "status": "completed"
    },
    "tags": []
   },
   "outputs": [],
   "source": [
    "cat = train[['Vehicle_Age', 'Vehicle_Damage', 'Gender']]\n",
    "\n",
    "train = pd.get_dummies(train, drop_first=True)"
   ]
  },
  {
   "cell_type": "code",
   "execution_count": 10,
   "id": "a9cb3e78",
   "metadata": {
    "_kg_hide-input": true,
    "execution": {
     "iopub.execute_input": "2024-07-25T23:59:23.876277Z",
     "iopub.status.busy": "2024-07-25T23:59:23.875863Z",
     "iopub.status.idle": "2024-07-25T23:59:27.455419Z",
     "shell.execute_reply": "2024-07-25T23:59:27.454002Z"
    },
    "papermill": {
     "duration": 3.593205,
     "end_time": "2024-07-25T23:59:27.458629",
     "exception": false,
     "start_time": "2024-07-25T23:59:23.865424",
     "status": "completed"
    },
    "tags": []
   },
   "outputs": [],
   "source": [
    "test = pd.get_dummies(test, drop_first=True)"
   ]
  },
  {
   "cell_type": "markdown",
   "id": "e0d00be1",
   "metadata": {
    "papermill": {
     "duration": 0.009341,
     "end_time": "2024-07-25T23:59:27.478355",
     "exception": false,
     "start_time": "2024-07-25T23:59:27.469014",
     "status": "completed"
    },
    "tags": []
   },
   "source": [
    "# ***FEATURE ENGINEERING***"
   ]
  },
  {
   "cell_type": "code",
   "execution_count": 11,
   "id": "95271578",
   "metadata": {
    "execution": {
     "iopub.execute_input": "2024-07-25T23:59:27.499184Z",
     "iopub.status.busy": "2024-07-25T23:59:27.498139Z",
     "iopub.status.idle": "2024-07-25T23:59:37.112926Z",
     "shell.execute_reply": "2024-07-25T23:59:37.111709Z"
    },
    "papermill": {
     "duration": 9.628248,
     "end_time": "2024-07-25T23:59:37.115805",
     "exception": false,
     "start_time": "2024-07-25T23:59:27.487557",
     "status": "completed"
    },
    "tags": []
   },
   "outputs": [],
   "source": [
    "train['Age_log'] = np.log1p(train['Age'])\n",
    "train['Is_Region_28'] = train['Region_Code'].apply(lambda x: 1 if x == 28 else 0)"
   ]
  },
  {
   "cell_type": "code",
   "execution_count": 12,
   "id": "ae3608f8",
   "metadata": {
    "execution": {
     "iopub.execute_input": "2024-07-25T23:59:37.136109Z",
     "iopub.status.busy": "2024-07-25T23:59:37.135716Z",
     "iopub.status.idle": "2024-07-25T23:59:44.065429Z",
     "shell.execute_reply": "2024-07-25T23:59:44.064250Z"
    },
    "papermill": {
     "duration": 6.943447,
     "end_time": "2024-07-25T23:59:44.068483",
     "exception": false,
     "start_time": "2024-07-25T23:59:37.125036",
     "status": "completed"
    },
    "tags": []
   },
   "outputs": [],
   "source": [
    "test['Age_log'] = np.log1p(test['Age'])\n",
    "test['Is_Region_28'] = test['Region_Code'].apply(lambda x: 1 if x == 28 else 0)"
   ]
  },
  {
   "cell_type": "markdown",
   "id": "e6a6646e",
   "metadata": {
    "papermill": {
     "duration": 0.008778,
     "end_time": "2024-07-25T23:59:44.086460",
     "exception": false,
     "start_time": "2024-07-25T23:59:44.077682",
     "status": "completed"
    },
    "tags": []
   },
   "source": [
    "# ***TRAIN***"
   ]
  },
  {
   "cell_type": "code",
   "execution_count": 13,
   "id": "8fe984f1",
   "metadata": {
    "execution": {
     "iopub.execute_input": "2024-07-25T23:59:44.107065Z",
     "iopub.status.busy": "2024-07-25T23:59:44.106612Z",
     "iopub.status.idle": "2024-07-25T23:59:44.350439Z",
     "shell.execute_reply": "2024-07-25T23:59:44.349060Z"
    },
    "papermill": {
     "duration": 0.257679,
     "end_time": "2024-07-25T23:59:44.353469",
     "exception": false,
     "start_time": "2024-07-25T23:59:44.095790",
     "status": "completed"
    },
    "tags": []
   },
   "outputs": [],
   "source": [
    "features_to_drop = ['id', 'Age', 'Annual_Premium', 'Vintage', 'Region_Code', \n",
    "                    'Driving_License', 'Response']\n",
    "\n",
    "X = train.drop(features_to_drop, axis=1)\n",
    "y = train['Response']"
   ]
  },
  {
   "cell_type": "code",
   "execution_count": 14,
   "id": "e256d807",
   "metadata": {
    "execution": {
     "iopub.execute_input": "2024-07-25T23:59:44.373752Z",
     "iopub.status.busy": "2024-07-25T23:59:44.373348Z",
     "iopub.status.idle": "2024-07-25T23:59:44.549524Z",
     "shell.execute_reply": "2024-07-25T23:59:44.548287Z"
    },
    "papermill": {
     "duration": 0.189669,
     "end_time": "2024-07-25T23:59:44.552467",
     "exception": false,
     "start_time": "2024-07-25T23:59:44.362798",
     "status": "completed"
    },
    "tags": []
   },
   "outputs": [],
   "source": [
    "features_to_drop = ['id', 'Age', 'Annual_Premium', 'Vintage', 'Region_Code', \n",
    "                    'Driving_License']\n",
    "\n",
    "test = test.drop(features_to_drop, axis=1)"
   ]
  },
  {
   "cell_type": "code",
   "execution_count": 15,
   "id": "6da383e3",
   "metadata": {
    "execution": {
     "iopub.execute_input": "2024-07-25T23:59:44.573206Z",
     "iopub.status.busy": "2024-07-25T23:59:44.572629Z",
     "iopub.status.idle": "2024-07-25T23:59:47.296960Z",
     "shell.execute_reply": "2024-07-25T23:59:47.295671Z"
    },
    "papermill": {
     "duration": 2.738304,
     "end_time": "2024-07-25T23:59:47.299947",
     "exception": false,
     "start_time": "2024-07-25T23:59:44.561643",
     "status": "completed"
    },
    "tags": []
   },
   "outputs": [],
   "source": [
    "from sklearn.model_selection import train_test_split\n",
    "\n",
    "# Small train size to reduce fit time \n",
    "X_train, X_test, y_train, y_test = train_test_split(X, y, train_size=0.2, random_state=1)"
   ]
  },
  {
   "cell_type": "code",
   "execution_count": 16,
   "id": "d7d2e94d",
   "metadata": {
    "execution": {
     "iopub.execute_input": "2024-07-25T23:59:47.320589Z",
     "iopub.status.busy": "2024-07-25T23:59:47.320201Z",
     "iopub.status.idle": "2024-07-26T00:00:08.966679Z",
     "shell.execute_reply": "2024-07-26T00:00:08.965469Z"
    },
    "papermill": {
     "duration": 21.661477,
     "end_time": "2024-07-26T00:00:08.970742",
     "exception": false,
     "start_time": "2024-07-25T23:59:47.309265",
     "status": "completed"
    },
    "tags": []
   },
   "outputs": [
    {
     "data": {
      "text/html": [
       "<style>#sk-container-id-1 {color: black;background-color: white;}#sk-container-id-1 pre{padding: 0;}#sk-container-id-1 div.sk-toggleable {background-color: white;}#sk-container-id-1 label.sk-toggleable__label {cursor: pointer;display: block;width: 100%;margin-bottom: 0;padding: 0.3em;box-sizing: border-box;text-align: center;}#sk-container-id-1 label.sk-toggleable__label-arrow:before {content: \"▸\";float: left;margin-right: 0.25em;color: #696969;}#sk-container-id-1 label.sk-toggleable__label-arrow:hover:before {color: black;}#sk-container-id-1 div.sk-estimator:hover label.sk-toggleable__label-arrow:before {color: black;}#sk-container-id-1 div.sk-toggleable__content {max-height: 0;max-width: 0;overflow: hidden;text-align: left;background-color: #f0f8ff;}#sk-container-id-1 div.sk-toggleable__content pre {margin: 0.2em;color: black;border-radius: 0.25em;background-color: #f0f8ff;}#sk-container-id-1 input.sk-toggleable__control:checked~div.sk-toggleable__content {max-height: 200px;max-width: 100%;overflow: auto;}#sk-container-id-1 input.sk-toggleable__control:checked~label.sk-toggleable__label-arrow:before {content: \"▾\";}#sk-container-id-1 div.sk-estimator input.sk-toggleable__control:checked~label.sk-toggleable__label {background-color: #d4ebff;}#sk-container-id-1 div.sk-label input.sk-toggleable__control:checked~label.sk-toggleable__label {background-color: #d4ebff;}#sk-container-id-1 input.sk-hidden--visually {border: 0;clip: rect(1px 1px 1px 1px);clip: rect(1px, 1px, 1px, 1px);height: 1px;margin: -1px;overflow: hidden;padding: 0;position: absolute;width: 1px;}#sk-container-id-1 div.sk-estimator {font-family: monospace;background-color: #f0f8ff;border: 1px dotted black;border-radius: 0.25em;box-sizing: border-box;margin-bottom: 0.5em;}#sk-container-id-1 div.sk-estimator:hover {background-color: #d4ebff;}#sk-container-id-1 div.sk-parallel-item::after {content: \"\";width: 100%;border-bottom: 1px solid gray;flex-grow: 1;}#sk-container-id-1 div.sk-label:hover label.sk-toggleable__label {background-color: #d4ebff;}#sk-container-id-1 div.sk-serial::before {content: \"\";position: absolute;border-left: 1px solid gray;box-sizing: border-box;top: 0;bottom: 0;left: 50%;z-index: 0;}#sk-container-id-1 div.sk-serial {display: flex;flex-direction: column;align-items: center;background-color: white;padding-right: 0.2em;padding-left: 0.2em;position: relative;}#sk-container-id-1 div.sk-item {position: relative;z-index: 1;}#sk-container-id-1 div.sk-parallel {display: flex;align-items: stretch;justify-content: center;background-color: white;position: relative;}#sk-container-id-1 div.sk-item::before, #sk-container-id-1 div.sk-parallel-item::before {content: \"\";position: absolute;border-left: 1px solid gray;box-sizing: border-box;top: 0;bottom: 0;left: 50%;z-index: -1;}#sk-container-id-1 div.sk-parallel-item {display: flex;flex-direction: column;z-index: 1;position: relative;background-color: white;}#sk-container-id-1 div.sk-parallel-item:first-child::after {align-self: flex-end;width: 50%;}#sk-container-id-1 div.sk-parallel-item:last-child::after {align-self: flex-start;width: 50%;}#sk-container-id-1 div.sk-parallel-item:only-child::after {width: 0;}#sk-container-id-1 div.sk-dashed-wrapped {border: 1px dashed gray;margin: 0 0.4em 0.5em 0.4em;box-sizing: border-box;padding-bottom: 0.4em;background-color: white;}#sk-container-id-1 div.sk-label label {font-family: monospace;font-weight: bold;display: inline-block;line-height: 1.2em;}#sk-container-id-1 div.sk-label-container {text-align: center;}#sk-container-id-1 div.sk-container {/* jupyter's `normalize.less` sets `[hidden] { display: none; }` but bootstrap.min.css set `[hidden] { display: none !important; }` so we also need the `!important` here to be able to override the default hidden behavior on the sphinx rendered scikit-learn.org. See: https://github.com/scikit-learn/scikit-learn/issues/21755 */display: inline-block !important;position: relative;}#sk-container-id-1 div.sk-text-repr-fallback {display: none;}</style><div id=\"sk-container-id-1\" class=\"sk-top-container\"><div class=\"sk-text-repr-fallback\"><pre>LogisticRegression()</pre><b>In a Jupyter environment, please rerun this cell to show the HTML representation or trust the notebook. <br />On GitHub, the HTML representation is unable to render, please try loading this page with nbviewer.org.</b></div><div class=\"sk-container\" hidden><div class=\"sk-item\"><div class=\"sk-estimator sk-toggleable\"><input class=\"sk-toggleable__control sk-hidden--visually\" id=\"sk-estimator-id-1\" type=\"checkbox\" checked><label for=\"sk-estimator-id-1\" class=\"sk-toggleable__label sk-toggleable__label-arrow\">LogisticRegression</label><div class=\"sk-toggleable__content\"><pre>LogisticRegression()</pre></div></div></div></div></div>"
      ],
      "text/plain": [
       "LogisticRegression()"
      ]
     },
     "execution_count": 16,
     "metadata": {},
     "output_type": "execute_result"
    }
   ],
   "source": [
    "from sklearn.linear_model import LogisticRegression\n",
    "\n",
    "lr = LogisticRegression()\n",
    "lr.fit(X_train, y_train)"
   ]
  },
  {
   "cell_type": "code",
   "execution_count": 17,
   "id": "280b665b",
   "metadata": {
    "execution": {
     "iopub.execute_input": "2024-07-26T00:00:09.013261Z",
     "iopub.status.busy": "2024-07-26T00:00:09.012542Z",
     "iopub.status.idle": "2024-07-26T00:00:16.680424Z",
     "shell.execute_reply": "2024-07-26T00:00:16.678990Z"
    },
    "papermill": {
     "duration": 7.693238,
     "end_time": "2024-07-26T00:00:16.683465",
     "exception": false,
     "start_time": "2024-07-26T00:00:08.990227",
     "status": "completed"
    },
    "tags": []
   },
   "outputs": [
    {
     "data": {
      "image/png": "[encoded data removed]",
      "text/plain": [
       "<Figure size 640x480 with 1 Axes>"
      ]
     },
     "metadata": {},
     "output_type": "display_data"
    }
   ],
   "source": [
    "from sklearn.metrics import roc_curve, roc_auc_score\n",
    "import matplotlib.pyplot as plt\n",
    "\n",
    "y_proba = lr.predict_proba(X_test)[:, 1]\n",
    "fpr, tpr, thresholds = roc_curve(y_test, y_proba)\n",
    "auc = roc_auc_score(y_test, y_proba)\n",
    "\n",
    "plt.plot(fpr, tpr, label=f'AUC = {auc:.2f}')\n",
    "plt.xlabel('Fall-Out')\n",
    "plt.ylabel('Recall')\n",
    "plt.title('ROC Curve')\n",
    "plt.legend()\n",
    "plt.show()"
   ]
  }
 ],
 "metadata": {
  "kaggle": {
   "accelerator": "none",
   "dataSources": [
    {
     "databundleVersionId": 8930475,
     "sourceId": 73291,
     "sourceType": "competition"
    }
   ],
   "dockerImageVersionId": 30746,
   "isGpuEnabled": false,
   "isInternetEnabled": true,
   "language": "python",
   "sourceType": "notebook"
  },
  "kernelspec": {
   "display_name": "Python 3",
   "language": "python",
   "name": "python3"
  },
  "language_info": {
   "codemirror_mode": {
    "name": "ipython",
    "version": 3
   },
   "file_extension": ".py",
   "mimetype": "text/x-python",
   "name": "python",
   "nbconvert_exporter": "python",
   "pygments_lexer": "ipython3",
   "version": "3.10.13"
  },
  "papermill": {
   "default_parameters": {},
   "duration": 110.178297,
   "end_time": "2024-07-26T00:00:17.417768",
   "environment_variables": {},
   "exception": null,
   "input_path": "__notebook__.ipynb",
   "output_path": "__notebook__.ipynb",
   "parameters": {},
   "start_time": "2024-07-25T23:58:27.239471",
   "version": "2.5.0"
  }
 },
 "nbformat": 4,
 "nbformat_minor": 5
}
