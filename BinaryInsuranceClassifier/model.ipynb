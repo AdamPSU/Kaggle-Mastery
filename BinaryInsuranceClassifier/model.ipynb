{
 "cells": [
  {
   "cell_type": "code",
   "execution_count": 1,
   "id": "0599ee1f",
   "metadata": {
    "execution": {
     "iopub.execute_input": "2024-07-21T11:09:51.161343Z",
     "iopub.status.busy": "2024-07-21T11:09:51.160917Z",
     "iopub.status.idle": "2024-07-21T11:09:53.560315Z",
     "shell.execute_reply": "2024-07-21T11:09:53.558789Z"
    },
    "papermill": {
     "duration": 2.411681,
     "end_time": "2024-07-21T11:09:53.562824",
     "exception": false,
     "start_time": "2024-07-21T11:09:51.151143",
     "status": "completed"
    },
    "tags": []
   },
   "outputs": [
    {
     "name": "stdout",
     "output_type": "stream",
     "text": [
      "/kaggle/input/playground-series-s4e7/sample_submission.csv\n",
      "/kaggle/input/playground-series-s4e7/train.csv\n",
      "/kaggle/input/playground-series-s4e7/test.csv\n"
     ]
    }
   ],
   "source": [
    "import numpy as np\n",
    "import pandas as pd\n",
    "import seaborn as sns \n",
    "import matplotlib.pyplot as plt \n",
    "\n",
    "from sklearn.model_selection import train_test_split\n",
    "\n",
    "import os\n",
    "for dirname, _, filenames in os.walk('/kaggle/input'):\n",
    "    for filename in filenames:\n",
    "        print(os.path.join(dirname, filename))\n",
    "        \n",
    "import warnings\n",
    "warnings.filterwarnings('ignore')\n"
   ]
  },
  {
   "cell_type": "code",
   "execution_count": 2,
   "id": "b6369ee8",
   "metadata": {
    "execution": {
     "iopub.execute_input": "2024-07-21T11:09:53.579835Z",
     "iopub.status.busy": "2024-07-21T11:09:53.578418Z",
     "iopub.status.idle": "2024-07-21T11:10:17.604221Z",
     "shell.execute_reply": "2024-07-21T11:10:17.602961Z"
    },
    "papermill": {
     "duration": 24.03708,
     "end_time": "2024-07-21T11:10:17.606974",
     "exception": false,
     "start_time": "2024-07-21T11:09:53.569894",
     "status": "completed"
    },
    "tags": []
   },
   "outputs": [],
   "source": [
    "train = pd.read_csv(\"/kaggle/input/playground-series-s4e7/train.csv\")"
   ]
  },
  {
   "cell_type": "code",
   "execution_count": 3,
   "id": "bb1089a1",
   "metadata": {
    "execution": {
     "iopub.execute_input": "2024-07-21T11:10:17.623360Z",
     "iopub.status.busy": "2024-07-21T11:10:17.622909Z",
     "iopub.status.idle": "2024-07-21T11:10:17.633721Z",
     "shell.execute_reply": "2024-07-21T11:10:17.632533Z"
    },
    "papermill": {
     "duration": 0.021878,
     "end_time": "2024-07-21T11:10:17.636236",
     "exception": false,
     "start_time": "2024-07-21T11:10:17.614358",
     "status": "completed"
    },
    "tags": []
   },
   "outputs": [],
   "source": [
    "def converting_datatypes(df):\n",
    "    df = df.copy()\n",
    "\n",
    "    # Converting data types\n",
    "    df['Gender'] = df['Gender'].astype('category')\n",
    "    df['Vehicle_Age'] = df['Vehicle_Age'].astype('category')\n",
    "    df['Vehicle_Damage'] = df['Vehicle_Damage'].astype('category')\n",
    "    df['Age'] = df['Age'].astype('int8')\n",
    "    df['Driving_License'] = df['Driving_License'].astype('int8')\n",
    "    df['Region_Code'] = df['Region_Code'].astype('int8')\n",
    "    df['Previously_Insured'] = df['Previously_Insured'].astype('int8')\n",
    "    df['Annual_Premium'] = df['Annual_Premium'].astype('int32')\n",
    "    df['Policy_Sales_Channel'] = df['Policy_Sales_Channel'].astype('int16')\n",
    "    df['Vintage'] = df['Vintage'].astype('int16')\n",
    "    df['Response'] = df['Response'].astype('int8')\n",
    "    print(df.info(memory_usage='deep'))\n",
    "    \n",
    "    return df"
   ]
  },
  {
   "cell_type": "code",
   "execution_count": 4,
   "id": "c9f02958",
   "metadata": {
    "execution": {
     "iopub.execute_input": "2024-07-21T11:10:17.652285Z",
     "iopub.status.busy": "2024-07-21T11:10:17.651854Z",
     "iopub.status.idle": "2024-07-21T11:10:22.482900Z",
     "shell.execute_reply": "2024-07-21T11:10:22.481635Z"
    },
    "papermill": {
     "duration": 4.842092,
     "end_time": "2024-07-21T11:10:22.485602",
     "exception": false,
     "start_time": "2024-07-21T11:10:17.643510",
     "status": "completed"
    },
    "tags": []
   },
   "outputs": [
    {
     "name": "stdout",
     "output_type": "stream",
     "text": [
      "<class 'pandas.core.frame.DataFrame'>\n",
      "RangeIndex: 11504798 entries, 0 to 11504797\n",
      "Data columns (total 12 columns):\n",
      " #   Column                Dtype   \n",
      "---  ------                -----   \n",
      " 0   id                    int64   \n",
      " 1   Gender                category\n",
      " 2   Age                   int8    \n",
      " 3   Driving_License       int8    \n",
      " 4   Region_Code           int8    \n",
      " 5   Previously_Insured    int8    \n",
      " 6   Vehicle_Age           category\n",
      " 7   Vehicle_Damage        category\n",
      " 8   Annual_Premium        int32   \n",
      " 9   Policy_Sales_Channel  int16   \n",
      " 10  Vintage               int16   \n",
      " 11  Response              int8    \n",
      "dtypes: category(3), int16(2), int32(1), int64(1), int8(5)\n",
      "memory usage: 263.3 MB\n",
      "None\n"
     ]
    }
   ],
   "source": [
    "train = converting_datatypes(train)"
   ]
  },
  {
   "cell_type": "markdown",
   "id": "d3218f21",
   "metadata": {
    "papermill": {
     "duration": 0.006965,
     "end_time": "2024-07-21T11:10:22.499877",
     "exception": false,
     "start_time": "2024-07-21T11:10:22.492912",
     "status": "completed"
    },
    "tags": []
   },
   "source": [
    "# ***INSPECTION***"
   ]
  },
  {
   "cell_type": "code",
   "execution_count": 5,
   "id": "11671162",
   "metadata": {
    "execution": {
     "iopub.execute_input": "2024-07-21T11:10:22.515806Z",
     "iopub.status.busy": "2024-07-21T11:10:22.515345Z",
     "iopub.status.idle": "2024-07-21T11:10:22.536968Z",
     "shell.execute_reply": "2024-07-21T11:10:22.535803Z"
    },
    "papermill": {
     "duration": 0.032673,
     "end_time": "2024-07-21T11:10:22.539607",
     "exception": false,
     "start_time": "2024-07-21T11:10:22.506934",
     "status": "completed"
    },
    "tags": []
   },
   "outputs": [
    {
     "data": {
      "text/html": [
       "<div>\n",
       "<style scoped>\n",
       "    .dataframe tbody tr th:only-of-type {\n",
       "        vertical-align: middle;\n",
       "    }\n",
       "\n",
       "    .dataframe tbody tr th {\n",
       "        vertical-align: top;\n",
       "    }\n",
       "\n",
       "    .dataframe thead th {\n",
       "        text-align: right;\n",
       "    }\n",
       "</style>\n",
       "<table border=\"1\" class=\"dataframe\">\n",
       "  <thead>\n",
       "    <tr style=\"text-align: right;\">\n",
       "      <th></th>\n",
       "      <th>id</th>\n",
       "      <th>Gender</th>\n",
       "      <th>Age</th>\n",
       "      <th>Driving_License</th>\n",
       "      <th>Region_Code</th>\n",
       "      <th>Previously_Insured</th>\n",
       "      <th>Vehicle_Age</th>\n",
       "      <th>Vehicle_Damage</th>\n",
       "      <th>Annual_Premium</th>\n",
       "      <th>Policy_Sales_Channel</th>\n",
       "      <th>Vintage</th>\n",
       "      <th>Response</th>\n",
       "    </tr>\n",
       "  </thead>\n",
       "  <tbody>\n",
       "    <tr>\n",
       "      <th>0</th>\n",
       "      <td>0</td>\n",
       "      <td>Male</td>\n",
       "      <td>21</td>\n",
       "      <td>1</td>\n",
       "      <td>35</td>\n",
       "      <td>0</td>\n",
       "      <td>1-2 Year</td>\n",
       "      <td>Yes</td>\n",
       "      <td>65101</td>\n",
       "      <td>124</td>\n",
       "      <td>187</td>\n",
       "      <td>0</td>\n",
       "    </tr>\n",
       "    <tr>\n",
       "      <th>1</th>\n",
       "      <td>1</td>\n",
       "      <td>Male</td>\n",
       "      <td>43</td>\n",
       "      <td>1</td>\n",
       "      <td>28</td>\n",
       "      <td>0</td>\n",
       "      <td>&gt; 2 Years</td>\n",
       "      <td>Yes</td>\n",
       "      <td>58911</td>\n",
       "      <td>26</td>\n",
       "      <td>288</td>\n",
       "      <td>1</td>\n",
       "    </tr>\n",
       "    <tr>\n",
       "      <th>2</th>\n",
       "      <td>2</td>\n",
       "      <td>Female</td>\n",
       "      <td>25</td>\n",
       "      <td>1</td>\n",
       "      <td>14</td>\n",
       "      <td>1</td>\n",
       "      <td>&lt; 1 Year</td>\n",
       "      <td>No</td>\n",
       "      <td>38043</td>\n",
       "      <td>152</td>\n",
       "      <td>254</td>\n",
       "      <td>0</td>\n",
       "    </tr>\n",
       "    <tr>\n",
       "      <th>3</th>\n",
       "      <td>3</td>\n",
       "      <td>Female</td>\n",
       "      <td>35</td>\n",
       "      <td>1</td>\n",
       "      <td>1</td>\n",
       "      <td>0</td>\n",
       "      <td>1-2 Year</td>\n",
       "      <td>Yes</td>\n",
       "      <td>2630</td>\n",
       "      <td>156</td>\n",
       "      <td>76</td>\n",
       "      <td>0</td>\n",
       "    </tr>\n",
       "    <tr>\n",
       "      <th>4</th>\n",
       "      <td>4</td>\n",
       "      <td>Female</td>\n",
       "      <td>36</td>\n",
       "      <td>1</td>\n",
       "      <td>15</td>\n",
       "      <td>1</td>\n",
       "      <td>1-2 Year</td>\n",
       "      <td>No</td>\n",
       "      <td>31951</td>\n",
       "      <td>152</td>\n",
       "      <td>294</td>\n",
       "      <td>0</td>\n",
       "    </tr>\n",
       "  </tbody>\n",
       "</table>\n",
       "</div>"
      ],
      "text/plain": [
       "   id  Gender  Age  Driving_License  Region_Code  Previously_Insured  \\\n",
       "0   0    Male   21                1           35                   0   \n",
       "1   1    Male   43                1           28                   0   \n",
       "2   2  Female   25                1           14                   1   \n",
       "3   3  Female   35                1            1                   0   \n",
       "4   4  Female   36                1           15                   1   \n",
       "\n",
       "  Vehicle_Age Vehicle_Damage  Annual_Premium  Policy_Sales_Channel  Vintage  \\\n",
       "0    1-2 Year            Yes           65101                   124      187   \n",
       "1   > 2 Years            Yes           58911                    26      288   \n",
       "2    < 1 Year             No           38043                   152      254   \n",
       "3    1-2 Year            Yes            2630                   156       76   \n",
       "4    1-2 Year             No           31951                   152      294   \n",
       "\n",
       "   Response  \n",
       "0         0  \n",
       "1         1  \n",
       "2         0  \n",
       "3         0  \n",
       "4         0  "
      ]
     },
     "execution_count": 5,
     "metadata": {},
     "output_type": "execute_result"
    }
   ],
   "source": [
    "train.head()"
   ]
  },
  {
   "cell_type": "code",
   "execution_count": 6,
   "id": "7f6d0734",
   "metadata": {
    "execution": {
     "iopub.execute_input": "2024-07-21T11:10:22.557164Z",
     "iopub.status.busy": "2024-07-21T11:10:22.556408Z",
     "iopub.status.idle": "2024-07-21T11:10:22.569478Z",
     "shell.execute_reply": "2024-07-21T11:10:22.568108Z"
    },
    "papermill": {
     "duration": 0.024583,
     "end_time": "2024-07-21T11:10:22.572079",
     "exception": false,
     "start_time": "2024-07-21T11:10:22.547496",
     "status": "completed"
    },
    "tags": []
   },
   "outputs": [
    {
     "name": "stdout",
     "output_type": "stream",
     "text": [
      "<class 'pandas.core.frame.DataFrame'>\n",
      "RangeIndex: 11504798 entries, 0 to 11504797\n",
      "Data columns (total 12 columns):\n",
      " #   Column                Dtype   \n",
      "---  ------                -----   \n",
      " 0   id                    int64   \n",
      " 1   Gender                category\n",
      " 2   Age                   int8    \n",
      " 3   Driving_License       int8    \n",
      " 4   Region_Code           int8    \n",
      " 5   Previously_Insured    int8    \n",
      " 6   Vehicle_Age           category\n",
      " 7   Vehicle_Damage        category\n",
      " 8   Annual_Premium        int32   \n",
      " 9   Policy_Sales_Channel  int16   \n",
      " 10  Vintage               int16   \n",
      " 11  Response              int8    \n",
      "dtypes: category(3), int16(2), int32(1), int64(1), int8(5)\n",
      "memory usage: 263.3 MB\n"
     ]
    }
   ],
   "source": [
    "train.info()"
   ]
  },
  {
   "cell_type": "markdown",
   "id": "777717a3",
   "metadata": {
    "papermill": {
     "duration": 0.008065,
     "end_time": "2024-07-21T11:10:22.588453",
     "exception": false,
     "start_time": "2024-07-21T11:10:22.580388",
     "status": "completed"
    },
    "tags": []
   },
   "source": [
    "# ***PREPROCESSING***"
   ]
  },
  {
   "cell_type": "code",
   "execution_count": 7,
   "id": "205af092",
   "metadata": {
    "execution": {
     "iopub.execute_input": "2024-07-21T11:10:22.606129Z",
     "iopub.status.busy": "2024-07-21T11:10:22.605307Z",
     "iopub.status.idle": "2024-07-21T11:10:23.457991Z",
     "shell.execute_reply": "2024-07-21T11:10:23.456970Z"
    },
    "papermill": {
     "duration": 0.8644,
     "end_time": "2024-07-21T11:10:23.460688",
     "exception": false,
     "start_time": "2024-07-21T11:10:22.596288",
     "status": "completed"
    },
    "tags": []
   },
   "outputs": [],
   "source": [
    "cat = train[['Vehicle_Age', 'Vehicle_Damage', 'Gender']]\n",
    "\n",
    "train = pd.get_dummies(train, drop_first=True)"
   ]
  },
  {
   "cell_type": "markdown",
   "id": "fa77e57c",
   "metadata": {
    "papermill": {
     "duration": 0.007241,
     "end_time": "2024-07-21T11:10:23.475859",
     "exception": false,
     "start_time": "2024-07-21T11:10:23.468618",
     "status": "completed"
    },
    "tags": []
   },
   "source": [
    "# ***EDA***"
   ]
  },
  {
   "cell_type": "code",
   "execution_count": 8,
   "id": "786655db",
   "metadata": {
    "execution": {
     "iopub.execute_input": "2024-07-21T11:10:23.493614Z",
     "iopub.status.busy": "2024-07-21T11:10:23.492511Z",
     "iopub.status.idle": "2024-07-21T11:10:26.576417Z",
     "shell.execute_reply": "2024-07-21T11:10:26.575244Z"
    },
    "papermill": {
     "duration": 3.095842,
     "end_time": "2024-07-21T11:10:26.579319",
     "exception": false,
     "start_time": "2024-07-21T11:10:23.483477",
     "status": "completed"
    },
    "tags": []
   },
   "outputs": [
    {
     "data": {
      "image/png": "[encoded data removed]",
      "text/plain": [
       "<Figure size 640x480 with 2 Axes>"
      ]
     },
     "metadata": {},
     "output_type": "display_data"
    }
   ],
   "source": [
    "num = train.select_dtypes(include=['int8', 'int16', 'int32'])\n",
    "sns.heatmap(num.corr(), cmap='crest', annot=True, annot_kws={\"size\": 6}, fmt=\".2f\")\n",
    "plt.show()"
   ]
  },
  {
   "cell_type": "code",
   "execution_count": 9,
   "id": "5d97ffc1",
   "metadata": {
    "execution": {
     "iopub.execute_input": "2024-07-21T11:10:26.598528Z",
     "iopub.status.busy": "2024-07-21T11:10:26.597814Z",
     "iopub.status.idle": "2024-07-21T11:10:26.673915Z",
     "shell.execute_reply": "2024-07-21T11:10:26.672771Z"
    },
    "papermill": {
     "duration": 0.088792,
     "end_time": "2024-07-21T11:10:26.676673",
     "exception": false,
     "start_time": "2024-07-21T11:10:26.587881",
     "status": "completed"
    },
    "tags": []
   },
   "outputs": [
    {
     "data": {
      "text/plain": [
       "Region_Code\n",
       "28    3451062\n",
       "8     1021036\n",
       "46     578208\n",
       "41     557581\n",
       "15     403977\n",
       "Name: count, dtype: int64"
      ]
     },
     "execution_count": 9,
     "metadata": {},
     "output_type": "execute_result"
    }
   ],
   "source": [
    "train['Region_Code'].value_counts().head()"
   ]
  },
  {
   "cell_type": "markdown",
   "id": "47dc47c9",
   "metadata": {
    "papermill": {
     "duration": 0.010196,
     "end_time": "2024-07-21T11:10:26.699239",
     "exception": false,
     "start_time": "2024-07-21T11:10:26.689043",
     "status": "completed"
    },
    "tags": []
   },
   "source": [
    "# ***FEATURE ENGINEERING***"
   ]
  },
  {
   "cell_type": "code",
   "execution_count": 10,
   "id": "fd29dbc7",
   "metadata": {
    "execution": {
     "iopub.execute_input": "2024-07-21T11:10:26.725992Z",
     "iopub.status.busy": "2024-07-21T11:10:26.725478Z",
     "iopub.status.idle": "2024-07-21T11:10:37.136431Z",
     "shell.execute_reply": "2024-07-21T11:10:37.135354Z"
    },
    "papermill": {
     "duration": 10.427083,
     "end_time": "2024-07-21T11:10:37.139053",
     "exception": false,
     "start_time": "2024-07-21T11:10:26.711970",
     "status": "completed"
    },
    "tags": []
   },
   "outputs": [],
   "source": [
    "train['Age_log'] = np.log1p(train['Age'])\n",
    "train['Is_Region_28'] = train['Region_Code'].apply(lambda x: 1 if x == 28 else 0)\n",
    "\n",
    "train = train[train['Annual_Premium'] < 100_000]"
   ]
  },
  {
   "cell_type": "code",
   "execution_count": 11,
   "id": "01284bde",
   "metadata": {
    "execution": {
     "iopub.execute_input": "2024-07-21T11:10:37.158169Z",
     "iopub.status.busy": "2024-07-21T11:10:37.157738Z",
     "iopub.status.idle": "2024-07-21T11:10:45.093644Z",
     "shell.execute_reply": "2024-07-21T11:10:45.092454Z"
    },
    "papermill": {
     "duration": 7.948728,
     "end_time": "2024-07-21T11:10:45.096512",
     "exception": false,
     "start_time": "2024-07-21T11:10:37.147784",
     "status": "completed"
    },
    "tags": []
   },
   "outputs": [
    {
     "data": {
      "text/html": [
       "<div>\n",
       "<style scoped>\n",
       "    .dataframe tbody tr th:only-of-type {\n",
       "        vertical-align: middle;\n",
       "    }\n",
       "\n",
       "    .dataframe tbody tr th {\n",
       "        vertical-align: top;\n",
       "    }\n",
       "\n",
       "    .dataframe thead th {\n",
       "        text-align: right;\n",
       "    }\n",
       "</style>\n",
       "<table border=\"1\" class=\"dataframe\">\n",
       "  <thead>\n",
       "    <tr style=\"text-align: right;\">\n",
       "      <th></th>\n",
       "      <th>id</th>\n",
       "      <th>Age</th>\n",
       "      <th>Driving_License</th>\n",
       "      <th>Region_Code</th>\n",
       "      <th>Previously_Insured</th>\n",
       "      <th>Annual_Premium</th>\n",
       "      <th>Policy_Sales_Channel</th>\n",
       "      <th>Vintage</th>\n",
       "      <th>Response</th>\n",
       "      <th>Gender_Male</th>\n",
       "      <th>Vehicle_Age_&lt; 1 Year</th>\n",
       "      <th>Vehicle_Age_&gt; 2 Years</th>\n",
       "      <th>Vehicle_Damage_Yes</th>\n",
       "      <th>Age_log</th>\n",
       "      <th>Is_Region_28</th>\n",
       "    </tr>\n",
       "  </thead>\n",
       "  <tbody>\n",
       "    <tr>\n",
       "      <th>id</th>\n",
       "      <td>1.000000</td>\n",
       "      <td>-0.000086</td>\n",
       "      <td>-0.000017</td>\n",
       "      <td>0.000144</td>\n",
       "      <td>0.000214</td>\n",
       "      <td>-0.000168</td>\n",
       "      <td>0.000549</td>\n",
       "      <td>-0.000180</td>\n",
       "      <td>0.000022</td>\n",
       "      <td>-0.000033</td>\n",
       "      <td>0.000095</td>\n",
       "      <td>0.000325</td>\n",
       "      <td>-0.000183</td>\n",
       "      <td>-0.000023</td>\n",
       "      <td>0.000072</td>\n",
       "    </tr>\n",
       "    <tr>\n",
       "      <th>Age</th>\n",
       "      <td>-0.000086</td>\n",
       "      <td>1.000000</td>\n",
       "      <td>-0.078485</td>\n",
       "      <td>0.037051</td>\n",
       "      <td>-0.276245</td>\n",
       "      <td>0.056848</td>\n",
       "      <td>-0.591446</td>\n",
       "      <td>-0.013293</td>\n",
       "      <td>0.122127</td>\n",
       "      <td>0.157666</td>\n",
       "      <td>-0.802715</td>\n",
       "      <td>0.220893</td>\n",
       "      <td>0.287948</td>\n",
       "      <td>0.986941</td>\n",
       "      <td>0.320871</td>\n",
       "    </tr>\n",
       "    <tr>\n",
       "      <th>Driving_License</th>\n",
       "      <td>-0.000017</td>\n",
       "      <td>-0.078485</td>\n",
       "      <td>1.000000</td>\n",
       "      <td>-0.001320</td>\n",
       "      <td>0.013721</td>\n",
       "      <td>-0.007221</td>\n",
       "      <td>0.042934</td>\n",
       "      <td>-0.000692</td>\n",
       "      <td>0.009190</td>\n",
       "      <td>-0.018695</td>\n",
       "      <td>0.039197</td>\n",
       "      <td>-0.006394</td>\n",
       "      <td>-0.015557</td>\n",
       "      <td>-0.068113</td>\n",
       "      <td>-0.013246</td>\n",
       "    </tr>\n",
       "    <tr>\n",
       "      <th>Region_Code</th>\n",
       "      <td>0.000144</td>\n",
       "      <td>0.037051</td>\n",
       "      <td>-0.001320</td>\n",
       "      <td>1.000000</td>\n",
       "      <td>-0.022366</td>\n",
       "      <td>-0.001941</td>\n",
       "      <td>-0.037616</td>\n",
       "      <td>-0.005539</td>\n",
       "      <td>0.012812</td>\n",
       "      <td>-0.000095</td>\n",
       "      <td>-0.039131</td>\n",
       "      <td>0.014385</td>\n",
       "      <td>0.026469</td>\n",
       "      <td>0.037851</td>\n",
       "      <td>0.079672</td>\n",
       "    </tr>\n",
       "    <tr>\n",
       "      <th>Previously_Insured</th>\n",
       "      <td>0.000214</td>\n",
       "      <td>-0.276245</td>\n",
       "      <td>0.013721</td>\n",
       "      <td>-0.022366</td>\n",
       "      <td>1.000000</td>\n",
       "      <td>0.008563</td>\n",
       "      <td>0.236824</td>\n",
       "      <td>0.019442</td>\n",
       "      <td>-0.345917</td>\n",
       "      <td>-0.087613</td>\n",
       "      <td>0.376744</td>\n",
       "      <td>-0.192218</td>\n",
       "      <td>-0.836205</td>\n",
       "      <td>-0.301016</td>\n",
       "      <td>-0.195762</td>\n",
       "    </tr>\n",
       "    <tr>\n",
       "      <th>Annual_Premium</th>\n",
       "      <td>-0.000168</td>\n",
       "      <td>0.056848</td>\n",
       "      <td>-0.007221</td>\n",
       "      <td>-0.001941</td>\n",
       "      <td>0.008563</td>\n",
       "      <td>1.000000</td>\n",
       "      <td>-0.131001</td>\n",
       "      <td>0.003413</td>\n",
       "      <td>0.032311</td>\n",
       "      <td>0.010809</td>\n",
       "      <td>-0.009212</td>\n",
       "      <td>0.055783</td>\n",
       "      <td>0.012275</td>\n",
       "      <td>0.048586</td>\n",
       "      <td>0.370262</td>\n",
       "    </tr>\n",
       "    <tr>\n",
       "      <th>Policy_Sales_Channel</th>\n",
       "      <td>0.000549</td>\n",
       "      <td>-0.591446</td>\n",
       "      <td>0.042934</td>\n",
       "      <td>-0.037616</td>\n",
       "      <td>0.236824</td>\n",
       "      <td>-0.131001</td>\n",
       "      <td>1.000000</td>\n",
       "      <td>0.009003</td>\n",
       "      <td>-0.152718</td>\n",
       "      <td>-0.116054</td>\n",
       "      <td>0.579636</td>\n",
       "      <td>-0.149375</td>\n",
       "      <td>-0.241018</td>\n",
       "      <td>-0.610715</td>\n",
       "      <td>-0.310305</td>\n",
       "    </tr>\n",
       "    <tr>\n",
       "      <th>Vintage</th>\n",
       "      <td>-0.000180</td>\n",
       "      <td>-0.013293</td>\n",
       "      <td>-0.000692</td>\n",
       "      <td>-0.005539</td>\n",
       "      <td>0.019442</td>\n",
       "      <td>0.003413</td>\n",
       "      <td>0.009003</td>\n",
       "      <td>1.000000</td>\n",
       "      <td>-0.015175</td>\n",
       "      <td>-0.009537</td>\n",
       "      <td>0.019127</td>\n",
       "      <td>-0.003726</td>\n",
       "      <td>-0.019403</td>\n",
       "      <td>-0.014925</td>\n",
       "      <td>-0.004186</td>\n",
       "    </tr>\n",
       "    <tr>\n",
       "      <th>Response</th>\n",
       "      <td>0.000022</td>\n",
       "      <td>0.122127</td>\n",
       "      <td>0.009190</td>\n",
       "      <td>0.012812</td>\n",
       "      <td>-0.345917</td>\n",
       "      <td>0.032311</td>\n",
       "      <td>-0.152718</td>\n",
       "      <td>-0.015175</td>\n",
       "      <td>1.000000</td>\n",
       "      <td>0.055212</td>\n",
       "      <td>-0.219510</td>\n",
       "      <td>0.111582</td>\n",
       "      <td>0.359767</td>\n",
       "      <td>0.152249</td>\n",
       "      <td>0.137142</td>\n",
       "    </tr>\n",
       "    <tr>\n",
       "      <th>Gender_Male</th>\n",
       "      <td>-0.000033</td>\n",
       "      <td>0.157666</td>\n",
       "      <td>-0.018695</td>\n",
       "      <td>-0.000095</td>\n",
       "      <td>-0.087613</td>\n",
       "      <td>0.010809</td>\n",
       "      <td>-0.116054</td>\n",
       "      <td>-0.009537</td>\n",
       "      <td>0.055212</td>\n",
       "      <td>1.000000</td>\n",
       "      <td>-0.173272</td>\n",
       "      <td>0.045376</td>\n",
       "      <td>0.096987</td>\n",
       "      <td>0.167656</td>\n",
       "      <td>0.043395</td>\n",
       "    </tr>\n",
       "    <tr>\n",
       "      <th>Vehicle_Age_&lt; 1 Year</th>\n",
       "      <td>0.000095</td>\n",
       "      <td>-0.802715</td>\n",
       "      <td>0.039197</td>\n",
       "      <td>-0.039131</td>\n",
       "      <td>0.376744</td>\n",
       "      <td>-0.009212</td>\n",
       "      <td>0.579636</td>\n",
       "      <td>0.019127</td>\n",
       "      <td>-0.219510</td>\n",
       "      <td>-0.173272</td>\n",
       "      <td>1.000000</td>\n",
       "      <td>-0.183950</td>\n",
       "      <td>-0.386689</td>\n",
       "      <td>-0.856986</td>\n",
       "      <td>-0.345991</td>\n",
       "    </tr>\n",
       "    <tr>\n",
       "      <th>Vehicle_Age_&gt; 2 Years</th>\n",
       "      <td>0.000325</td>\n",
       "      <td>0.220893</td>\n",
       "      <td>-0.006394</td>\n",
       "      <td>0.014385</td>\n",
       "      <td>-0.192218</td>\n",
       "      <td>0.055783</td>\n",
       "      <td>-0.149375</td>\n",
       "      <td>-0.003726</td>\n",
       "      <td>0.111582</td>\n",
       "      <td>0.045376</td>\n",
       "      <td>-0.183950</td>\n",
       "      <td>1.000000</td>\n",
       "      <td>0.206652</td>\n",
       "      <td>0.218189</td>\n",
       "      <td>0.142480</td>\n",
       "    </tr>\n",
       "    <tr>\n",
       "      <th>Vehicle_Damage_Yes</th>\n",
       "      <td>-0.000183</td>\n",
       "      <td>0.287948</td>\n",
       "      <td>-0.015557</td>\n",
       "      <td>0.026469</td>\n",
       "      <td>-0.836205</td>\n",
       "      <td>0.012275</td>\n",
       "      <td>-0.241018</td>\n",
       "      <td>-0.019403</td>\n",
       "      <td>0.359767</td>\n",
       "      <td>0.096987</td>\n",
       "      <td>-0.386689</td>\n",
       "      <td>0.206652</td>\n",
       "      <td>1.000000</td>\n",
       "      <td>0.310674</td>\n",
       "      <td>0.207064</td>\n",
       "    </tr>\n",
       "    <tr>\n",
       "      <th>Age_log</th>\n",
       "      <td>-0.000023</td>\n",
       "      <td>0.986941</td>\n",
       "      <td>-0.068113</td>\n",
       "      <td>0.037851</td>\n",
       "      <td>-0.301016</td>\n",
       "      <td>0.048586</td>\n",
       "      <td>-0.610715</td>\n",
       "      <td>-0.014925</td>\n",
       "      <td>0.152249</td>\n",
       "      <td>0.167656</td>\n",
       "      <td>-0.856986</td>\n",
       "      <td>0.218189</td>\n",
       "      <td>0.310674</td>\n",
       "      <td>1.000000</td>\n",
       "      <td>0.340811</td>\n",
       "    </tr>\n",
       "    <tr>\n",
       "      <th>Is_Region_28</th>\n",
       "      <td>0.000072</td>\n",
       "      <td>0.320871</td>\n",
       "      <td>-0.013246</td>\n",
       "      <td>0.079672</td>\n",
       "      <td>-0.195762</td>\n",
       "      <td>0.370262</td>\n",
       "      <td>-0.310305</td>\n",
       "      <td>-0.004186</td>\n",
       "      <td>0.137142</td>\n",
       "      <td>0.043395</td>\n",
       "      <td>-0.345991</td>\n",
       "      <td>0.142480</td>\n",
       "      <td>0.207064</td>\n",
       "      <td>0.340811</td>\n",
       "      <td>1.000000</td>\n",
       "    </tr>\n",
       "  </tbody>\n",
       "</table>\n",
       "</div>"
      ],
      "text/plain": [
       "                             id       Age  Driving_License  Region_Code  \\\n",
       "id                     1.000000 -0.000086        -0.000017     0.000144   \n",
       "Age                   -0.000086  1.000000        -0.078485     0.037051   \n",
       "Driving_License       -0.000017 -0.078485         1.000000    -0.001320   \n",
       "Region_Code            0.000144  0.037051        -0.001320     1.000000   \n",
       "Previously_Insured     0.000214 -0.276245         0.013721    -0.022366   \n",
       "Annual_Premium        -0.000168  0.056848        -0.007221    -0.001941   \n",
       "Policy_Sales_Channel   0.000549 -0.591446         0.042934    -0.037616   \n",
       "Vintage               -0.000180 -0.013293        -0.000692    -0.005539   \n",
       "Response               0.000022  0.122127         0.009190     0.012812   \n",
       "Gender_Male           -0.000033  0.157666        -0.018695    -0.000095   \n",
       "Vehicle_Age_< 1 Year   0.000095 -0.802715         0.039197    -0.039131   \n",
       "Vehicle_Age_> 2 Years  0.000325  0.220893        -0.006394     0.014385   \n",
       "Vehicle_Damage_Yes    -0.000183  0.287948        -0.015557     0.026469   \n",
       "Age_log               -0.000023  0.986941        -0.068113     0.037851   \n",
       "Is_Region_28           0.000072  0.320871        -0.013246     0.079672   \n",
       "\n",
       "                       Previously_Insured  Annual_Premium  \\\n",
       "id                               0.000214       -0.000168   \n",
       "Age                             -0.276245        0.056848   \n",
       "Driving_License                  0.013721       -0.007221   \n",
       "Region_Code                     -0.022366       -0.001941   \n",
       "Previously_Insured               1.000000        0.008563   \n",
       "Annual_Premium                   0.008563        1.000000   \n",
       "Policy_Sales_Channel             0.236824       -0.131001   \n",
       "Vintage                          0.019442        0.003413   \n",
       "Response                        -0.345917        0.032311   \n",
       "Gender_Male                     -0.087613        0.010809   \n",
       "Vehicle_Age_< 1 Year             0.376744       -0.009212   \n",
       "Vehicle_Age_> 2 Years           -0.192218        0.055783   \n",
       "Vehicle_Damage_Yes              -0.836205        0.012275   \n",
       "Age_log                         -0.301016        0.048586   \n",
       "Is_Region_28                    -0.195762        0.370262   \n",
       "\n",
       "                       Policy_Sales_Channel   Vintage  Response  Gender_Male  \\\n",
       "id                                 0.000549 -0.000180  0.000022    -0.000033   \n",
       "Age                               -0.591446 -0.013293  0.122127     0.157666   \n",
       "Driving_License                    0.042934 -0.000692  0.009190    -0.018695   \n",
       "Region_Code                       -0.037616 -0.005539  0.012812    -0.000095   \n",
       "Previously_Insured                 0.236824  0.019442 -0.345917    -0.087613   \n",
       "Annual_Premium                    -0.131001  0.003413  0.032311     0.010809   \n",
       "Policy_Sales_Channel               1.000000  0.009003 -0.152718    -0.116054   \n",
       "Vintage                            0.009003  1.000000 -0.015175    -0.009537   \n",
       "Response                          -0.152718 -0.015175  1.000000     0.055212   \n",
       "Gender_Male                       -0.116054 -0.009537  0.055212     1.000000   \n",
       "Vehicle_Age_< 1 Year               0.579636  0.019127 -0.219510    -0.173272   \n",
       "Vehicle_Age_> 2 Years             -0.149375 -0.003726  0.111582     0.045376   \n",
       "Vehicle_Damage_Yes                -0.241018 -0.019403  0.359767     0.096987   \n",
       "Age_log                           -0.610715 -0.014925  0.152249     0.167656   \n",
       "Is_Region_28                      -0.310305 -0.004186  0.137142     0.043395   \n",
       "\n",
       "                       Vehicle_Age_< 1 Year  Vehicle_Age_> 2 Years  \\\n",
       "id                                 0.000095               0.000325   \n",
       "Age                               -0.802715               0.220893   \n",
       "Driving_License                    0.039197              -0.006394   \n",
       "Region_Code                       -0.039131               0.014385   \n",
       "Previously_Insured                 0.376744              -0.192218   \n",
       "Annual_Premium                    -0.009212               0.055783   \n",
       "Policy_Sales_Channel               0.579636              -0.149375   \n",
       "Vintage                            0.019127              -0.003726   \n",
       "Response                          -0.219510               0.111582   \n",
       "Gender_Male                       -0.173272               0.045376   \n",
       "Vehicle_Age_< 1 Year               1.000000              -0.183950   \n",
       "Vehicle_Age_> 2 Years             -0.183950               1.000000   \n",
       "Vehicle_Damage_Yes                -0.386689               0.206652   \n",
       "Age_log                           -0.856986               0.218189   \n",
       "Is_Region_28                      -0.345991               0.142480   \n",
       "\n",
       "                       Vehicle_Damage_Yes   Age_log  Is_Region_28  \n",
       "id                              -0.000183 -0.000023      0.000072  \n",
       "Age                              0.287948  0.986941      0.320871  \n",
       "Driving_License                 -0.015557 -0.068113     -0.013246  \n",
       "Region_Code                      0.026469  0.037851      0.079672  \n",
       "Previously_Insured              -0.836205 -0.301016     -0.195762  \n",
       "Annual_Premium                   0.012275  0.048586      0.370262  \n",
       "Policy_Sales_Channel            -0.241018 -0.610715     -0.310305  \n",
       "Vintage                         -0.019403 -0.014925     -0.004186  \n",
       "Response                         0.359767  0.152249      0.137142  \n",
       "Gender_Male                      0.096987  0.167656      0.043395  \n",
       "Vehicle_Age_< 1 Year            -0.386689 -0.856986     -0.345991  \n",
       "Vehicle_Age_> 2 Years            0.206652  0.218189      0.142480  \n",
       "Vehicle_Damage_Yes               1.000000  0.310674      0.207064  \n",
       "Age_log                          0.310674  1.000000      0.340811  \n",
       "Is_Region_28                     0.207064  0.340811      1.000000  "
      ]
     },
     "execution_count": 11,
     "metadata": {},
     "output_type": "execute_result"
    }
   ],
   "source": [
    "train.corr()"
   ]
  },
  {
   "cell_type": "markdown",
   "id": "04e2580b",
   "metadata": {
    "papermill": {
     "duration": 0.009617,
     "end_time": "2024-07-21T11:10:45.115903",
     "exception": false,
     "start_time": "2024-07-21T11:10:45.106286",
     "status": "completed"
    },
    "tags": []
   },
   "source": [
    "# ***TRAIN***"
   ]
  },
  {
   "cell_type": "code",
   "execution_count": 12,
   "id": "1911f0d5",
   "metadata": {
    "execution": {
     "iopub.execute_input": "2024-07-21T11:10:45.136750Z",
     "iopub.status.busy": "2024-07-21T11:10:45.136325Z",
     "iopub.status.idle": "2024-07-21T11:10:45.338655Z",
     "shell.execute_reply": "2024-07-21T11:10:45.337594Z"
    },
    "papermill": {
     "duration": 0.215911,
     "end_time": "2024-07-21T11:10:45.341381",
     "exception": false,
     "start_time": "2024-07-21T11:10:45.125470",
     "status": "completed"
    },
    "tags": []
   },
   "outputs": [],
   "source": [
    "features_to_drop = ['id', 'Age', 'Annual_Premium', 'Vintage', 'Region_Code', \n",
    "                    'Driving_License', 'Response']\n",
    "\n",
    "X = train.drop(features_to_drop, axis=1)\n",
    "y = train['Response']"
   ]
  },
  {
   "cell_type": "code",
   "execution_count": 13,
   "id": "9f784fe1",
   "metadata": {
    "execution": {
     "iopub.execute_input": "2024-07-21T11:10:45.362933Z",
     "iopub.status.busy": "2024-07-21T11:10:45.362489Z",
     "iopub.status.idle": "2024-07-21T11:10:47.927641Z",
     "shell.execute_reply": "2024-07-21T11:10:47.926543Z"
    },
    "papermill": {
     "duration": 2.578669,
     "end_time": "2024-07-21T11:10:47.930166",
     "exception": false,
     "start_time": "2024-07-21T11:10:45.351497",
     "status": "completed"
    },
    "tags": []
   },
   "outputs": [
    {
     "data": {
      "text/plain": [
       "Previously_Insured       3.367061\n",
       "Policy_Sales_Channel     1.652772\n",
       "Gender_Male              1.034478\n",
       "Vehicle_Age_< 1 Year     4.133078\n",
       "Vehicle_Age_> 2 Years    1.081277\n",
       "Vehicle_Damage_Yes       3.416792\n",
       "Age_log                  4.153045\n",
       "Is_Region_28             1.177294\n",
       "Name: VIF, dtype: float64"
      ]
     },
     "execution_count": 13,
     "metadata": {},
     "output_type": "execute_result"
    }
   ],
   "source": [
    "pd.Series(np.linalg.pinv(X.corr().to_numpy()).diagonal(), index=X.columns, name='VIF')"
   ]
  },
  {
   "cell_type": "code",
   "execution_count": 14,
   "id": "ff383191",
   "metadata": {
    "execution": {
     "iopub.execute_input": "2024-07-21T11:10:47.951499Z",
     "iopub.status.busy": "2024-07-21T11:10:47.951081Z",
     "iopub.status.idle": "2024-07-21T11:10:50.265702Z",
     "shell.execute_reply": "2024-07-21T11:10:50.264501Z"
    },
    "papermill": {
     "duration": 2.32844,
     "end_time": "2024-07-21T11:10:50.268570",
     "exception": false,
     "start_time": "2024-07-21T11:10:47.940130",
     "status": "completed"
    },
    "tags": []
   },
   "outputs": [],
   "source": [
    "from sklearn.model_selection import train_test_split\n",
    "\n",
    "X_train, X_test, y_train, y_test = train_test_split(X, y, train_size=0.8, random_state=1)"
   ]
  },
  {
   "cell_type": "code",
   "execution_count": 15,
   "id": "61ab00e8",
   "metadata": {
    "execution": {
     "iopub.execute_input": "2024-07-21T11:10:50.290987Z",
     "iopub.status.busy": "2024-07-21T11:10:50.290560Z",
     "iopub.status.idle": "2024-07-21T11:11:49.152866Z",
     "shell.execute_reply": "2024-07-21T11:11:49.151308Z"
    },
    "papermill": {
     "duration": 58.898535,
     "end_time": "2024-07-21T11:11:49.177690",
     "exception": false,
     "start_time": "2024-07-21T11:10:50.279155",
     "status": "completed"
    },
    "tags": []
   },
   "outputs": [
    {
     "data": {
      "text/html": [
       "<style>#sk-container-id-1 {color: black;background-color: white;}#sk-container-id-1 pre{padding: 0;}#sk-container-id-1 div.sk-toggleable {background-color: white;}#sk-container-id-1 label.sk-toggleable__label {cursor: pointer;display: block;width: 100%;margin-bottom: 0;padding: 0.3em;box-sizing: border-box;text-align: center;}#sk-container-id-1 label.sk-toggleable__label-arrow:before {content: \"▸\";float: left;margin-right: 0.25em;color: #696969;}#sk-container-id-1 label.sk-toggleable__label-arrow:hover:before {color: black;}#sk-container-id-1 div.sk-estimator:hover label.sk-toggleable__label-arrow:before {color: black;}#sk-container-id-1 div.sk-toggleable__content {max-height: 0;max-width: 0;overflow: hidden;text-align: left;background-color: #f0f8ff;}#sk-container-id-1 div.sk-toggleable__content pre {margin: 0.2em;color: black;border-radius: 0.25em;background-color: #f0f8ff;}#sk-container-id-1 input.sk-toggleable__control:checked~div.sk-toggleable__content {max-height: 200px;max-width: 100%;overflow: auto;}#sk-container-id-1 input.sk-toggleable__control:checked~label.sk-toggleable__label-arrow:before {content: \"▾\";}#sk-container-id-1 div.sk-estimator input.sk-toggleable__control:checked~label.sk-toggleable__label {background-color: #d4ebff;}#sk-container-id-1 div.sk-label input.sk-toggleable__control:checked~label.sk-toggleable__label {background-color: #d4ebff;}#sk-container-id-1 input.sk-hidden--visually {border: 0;clip: rect(1px 1px 1px 1px);clip: rect(1px, 1px, 1px, 1px);height: 1px;margin: -1px;overflow: hidden;padding: 0;position: absolute;width: 1px;}#sk-container-id-1 div.sk-estimator {font-family: monospace;background-color: #f0f8ff;border: 1px dotted black;border-radius: 0.25em;box-sizing: border-box;margin-bottom: 0.5em;}#sk-container-id-1 div.sk-estimator:hover {background-color: #d4ebff;}#sk-container-id-1 div.sk-parallel-item::after {content: \"\";width: 100%;border-bottom: 1px solid gray;flex-grow: 1;}#sk-container-id-1 div.sk-label:hover label.sk-toggleable__label {background-color: #d4ebff;}#sk-container-id-1 div.sk-serial::before {content: \"\";position: absolute;border-left: 1px solid gray;box-sizing: border-box;top: 0;bottom: 0;left: 50%;z-index: 0;}#sk-container-id-1 div.sk-serial {display: flex;flex-direction: column;align-items: center;background-color: white;padding-right: 0.2em;padding-left: 0.2em;position: relative;}#sk-container-id-1 div.sk-item {position: relative;z-index: 1;}#sk-container-id-1 div.sk-parallel {display: flex;align-items: stretch;justify-content: center;background-color: white;position: relative;}#sk-container-id-1 div.sk-item::before, #sk-container-id-1 div.sk-parallel-item::before {content: \"\";position: absolute;border-left: 1px solid gray;box-sizing: border-box;top: 0;bottom: 0;left: 50%;z-index: -1;}#sk-container-id-1 div.sk-parallel-item {display: flex;flex-direction: column;z-index: 1;position: relative;background-color: white;}#sk-container-id-1 div.sk-parallel-item:first-child::after {align-self: flex-end;width: 50%;}#sk-container-id-1 div.sk-parallel-item:last-child::after {align-self: flex-start;width: 50%;}#sk-container-id-1 div.sk-parallel-item:only-child::after {width: 0;}#sk-container-id-1 div.sk-dashed-wrapped {border: 1px dashed gray;margin: 0 0.4em 0.5em 0.4em;box-sizing: border-box;padding-bottom: 0.4em;background-color: white;}#sk-container-id-1 div.sk-label label {font-family: monospace;font-weight: bold;display: inline-block;line-height: 1.2em;}#sk-container-id-1 div.sk-label-container {text-align: center;}#sk-container-id-1 div.sk-container {/* jupyter's `normalize.less` sets `[hidden] { display: none; }` but bootstrap.min.css set `[hidden] { display: none !important; }` so we also need the `!important` here to be able to override the default hidden behavior on the sphinx rendered scikit-learn.org. See: https://github.com/scikit-learn/scikit-learn/issues/21755 */display: inline-block !important;position: relative;}#sk-container-id-1 div.sk-text-repr-fallback {display: none;}</style><div id=\"sk-container-id-1\" class=\"sk-top-container\"><div class=\"sk-text-repr-fallback\"><pre>LogisticRegression()</pre><b>In a Jupyter environment, please rerun this cell to show the HTML representation or trust the notebook. <br />On GitHub, the HTML representation is unable to render, please try loading this page with nbviewer.org.</b></div><div class=\"sk-container\" hidden><div class=\"sk-item\"><div class=\"sk-estimator sk-toggleable\"><input class=\"sk-toggleable__control sk-hidden--visually\" id=\"sk-estimator-id-1\" type=\"checkbox\" checked><label for=\"sk-estimator-id-1\" class=\"sk-toggleable__label sk-toggleable__label-arrow\">LogisticRegression</label><div class=\"sk-toggleable__content\"><pre>LogisticRegression()</pre></div></div></div></div></div>"
      ],
      "text/plain": [
       "LogisticRegression()"
      ]
     },
     "execution_count": 15,
     "metadata": {},
     "output_type": "execute_result"
    }
   ],
   "source": [
    "from sklearn.linear_model import LogisticRegression\n",
    "\n",
    "lr = LogisticRegression()\n",
    "lr.fit(X_train, y_train)"
   ]
  },
  {
   "cell_type": "code",
   "execution_count": 16,
   "id": "88200dfd",
   "metadata": {
    "execution": {
     "iopub.execute_input": "2024-07-21T11:11:49.221106Z",
     "iopub.status.busy": "2024-07-21T11:11:49.220397Z",
     "iopub.status.idle": "2024-07-21T11:11:51.026891Z",
     "shell.execute_reply": "2024-07-21T11:11:51.025638Z"
    },
    "papermill": {
     "duration": 1.831188,
     "end_time": "2024-07-21T11:11:51.029339",
     "exception": false,
     "start_time": "2024-07-21T11:11:49.198151",
     "status": "completed"
    },
    "tags": []
   },
   "outputs": [
    {
     "data": {
      "image/png": "[encoded data removed]",
      "text/plain": [
       "<Figure size 640x480 with 1 Axes>"
      ]
     },
     "metadata": {},
     "output_type": "display_data"
    }
   ],
   "source": [
    "from sklearn.metrics import roc_curve, roc_auc_score\n",
    "import matplotlib.pyplot as plt\n",
    "\n",
    "y_proba = lr.predict_proba(X_test)[:, 1]\n",
    "fpr, tpr, thresholds = roc_curve(y_test, y_proba)\n",
    "auc = roc_auc_score(y_test, y_proba)\n",
    "\n",
    "plt.plot(fpr, tpr, label=f'AUC = {auc:.2f}')\n",
    "plt.xlabel('Fall-Out')\n",
    "plt.ylabel('Recall')\n",
    "plt.title('ROC Curve')\n",
    "plt.legend()\n",
    "plt.show()"
   ]
  }
 ],
 "metadata": {
  "kaggle": {
   "accelerator": "none",
   "dataSources": [
    {
     "databundleVersionId": 8930475,
     "sourceId": 73291,
     "sourceType": "competition"
    }
   ],
   "dockerImageVersionId": 30746,
   "isGpuEnabled": false,
   "isInternetEnabled": true,
   "language": "python",
   "sourceType": "notebook"
  },
  "kernelspec": {
   "display_name": "Python 3",
   "language": "python",
   "name": "python3"
  },
  "language_info": {
   "codemirror_mode": {
    "name": "ipython",
    "version": 3
   },
   "file_extension": ".py",
   "mimetype": "text/x-python",
   "name": "python",
   "nbconvert_exporter": "python",
   "pygments_lexer": "ipython3",
   "version": "3.10.13"
  },
  "papermill": {
   "default_parameters": {},
   "duration": 123.520313,
   "end_time": "2024-07-21T11:11:51.660968",
   "environment_variables": {},
   "exception": null,
   "input_path": "__notebook__.ipynb",
   "output_path": "__notebook__.ipynb",
   "parameters": {},
   "start_time": "2024-07-21T11:09:48.140655",
   "version": "2.5.0"
  }
 },
 "nbformat": 4,
 "nbformat_minor": 5
}
