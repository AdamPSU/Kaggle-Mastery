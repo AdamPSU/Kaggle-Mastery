{
 "cells": [
  {
   "cell_type": "code",
   "execution_count": 1,
   "id": "7dc695dc",
   "metadata": {
    "_cell_guid": "b1076dfc-b9ad-4769-8c92-a6c4dae69d19",
    "_uuid": "8f2839f25d086af736a60e9eeb907d3b93b6e0e5",
    "execution": {
     "iopub.execute_input": "2024-10-18T03:53:02.320724Z",
     "iopub.status.busy": "2024-10-18T03:53:02.319553Z",
     "iopub.status.idle": "2024-10-18T03:53:03.268745Z",
     "shell.execute_reply": "2024-10-18T03:53:03.267333Z"
    },
    "papermill": {
     "duration": 0.956177,
     "end_time": "2024-10-18T03:53:03.271473",
     "exception": false,
     "start_time": "2024-10-18T03:53:02.315296",
     "status": "completed"
    },
    "tags": []
   },
   "outputs": [
    {
     "name": "stdout",
     "output_type": "stream",
     "text": [
      "/kaggle/input/jane-street-real-time-market-data-forecasting/responders.csv\n",
      "/kaggle/input/jane-street-real-time-market-data-forecasting/sample_submission.csv\n",
      "/kaggle/input/jane-street-real-time-market-data-forecasting/features.csv\n",
      "/kaggle/input/jane-street-real-time-market-data-forecasting/train.parquet/partition_id=4/part-0.parquet\n",
      "/kaggle/input/jane-street-real-time-market-data-forecasting/train.parquet/partition_id=5/part-0.parquet\n",
      "/kaggle/input/jane-street-real-time-market-data-forecasting/train.parquet/partition_id=6/part-0.parquet\n",
      "/kaggle/input/jane-street-real-time-market-data-forecasting/train.parquet/partition_id=3/part-0.parquet\n",
      "/kaggle/input/jane-street-real-time-market-data-forecasting/train.parquet/partition_id=1/part-0.parquet\n",
      "/kaggle/input/jane-street-real-time-market-data-forecasting/train.parquet/partition_id=8/part-0.parquet\n",
      "/kaggle/input/jane-street-real-time-market-data-forecasting/train.parquet/partition_id=2/part-0.parquet\n",
      "/kaggle/input/jane-street-real-time-market-data-forecasting/train.parquet/partition_id=0/part-0.parquet\n",
      "/kaggle/input/jane-street-real-time-market-data-forecasting/train.parquet/partition_id=7/part-0.parquet\n",
      "/kaggle/input/jane-street-real-time-market-data-forecasting/train.parquet/partition_id=9/part-0.parquet\n",
      "/kaggle/input/jane-street-real-time-market-data-forecasting/lags.parquet/date_id=0/part-0.parquet\n",
      "/kaggle/input/jane-street-real-time-market-data-forecasting/test.parquet/date_id=0/part-0.parquet\n",
      "/kaggle/input/jane-street-real-time-market-data-forecasting/kaggle_evaluation/jane_street_gateway.py\n",
      "/kaggle/input/jane-street-real-time-market-data-forecasting/kaggle_evaluation/jane_street_inference_server.py\n",
      "/kaggle/input/jane-street-real-time-market-data-forecasting/kaggle_evaluation/__init__.py\n",
      "/kaggle/input/jane-street-real-time-market-data-forecasting/kaggle_evaluation/core/templates.py\n",
      "/kaggle/input/jane-street-real-time-market-data-forecasting/kaggle_evaluation/core/base_gateway.py\n",
      "/kaggle/input/jane-street-real-time-market-data-forecasting/kaggle_evaluation/core/relay.py\n",
      "/kaggle/input/jane-street-real-time-market-data-forecasting/kaggle_evaluation/core/kaggle_evaluation.proto\n",
      "/kaggle/input/jane-street-real-time-market-data-forecasting/kaggle_evaluation/core/__init__.py\n",
      "/kaggle/input/jane-street-real-time-market-data-forecasting/kaggle_evaluation/core/generated/kaggle_evaluation_pb2.py\n",
      "/kaggle/input/jane-street-real-time-market-data-forecasting/kaggle_evaluation/core/generated/kaggle_evaluation_pb2_grpc.py\n",
      "/kaggle/input/jane-street-real-time-market-data-forecasting/kaggle_evaluation/core/generated/__init__.py\n"
     ]
    }
   ],
   "source": [
    "import numpy as np \n",
    "import pandas as pd \n",
    "\n",
    "import os\n",
    "for dirname, _, filenames in os.walk('/kaggle/input'):\n",
    "    for filename in filenames:\n",
    "        print(os.path.join(dirname, filename))"
   ]
  },
  {
   "cell_type": "code",
   "execution_count": 2,
   "id": "46206bb4",
   "metadata": {
    "execution": {
     "iopub.execute_input": "2024-10-18T03:53:03.277652Z",
     "iopub.status.busy": "2024-10-18T03:53:03.277058Z",
     "iopub.status.idle": "2024-10-18T03:53:03.607870Z",
     "shell.execute_reply": "2024-10-18T03:53:03.606685Z"
    },
    "papermill": {
     "duration": 0.336841,
     "end_time": "2024-10-18T03:53:03.610565",
     "exception": false,
     "start_time": "2024-10-18T03:53:03.273724",
     "status": "completed"
    },
    "tags": []
   },
   "outputs": [],
   "source": [
    "import polars as pl\n",
    "\n",
    "file_path = f\"/kaggle/input/jane-street-real-time-market-data-forecasting/train.parquet\"\n",
    "\n",
    "train = (pl.scan_parquet(file_path).\n",
    "         select(pl.int_range(pl.len(), dtype=pl.UInt64).alias(\"id\"),\n",
    "                pl.all()))\n"
   ]
  }
 ],
 "metadata": {
  "kaggle": {
   "accelerator": "none",
   "dataSources": [
    {
     "databundleVersionId": 9871156,
     "sourceId": 84493,
     "sourceType": "competition"
    }
   ],
   "dockerImageVersionId": 30786,
   "isGpuEnabled": false,
   "isInternetEnabled": true,
   "language": "python",
   "sourceType": "notebook"
  },
  "kernelspec": {
   "display_name": "Python 3",
   "language": "python",
   "name": "python3"
  },
  "language_info": {
   "codemirror_mode": {
    "name": "ipython",
    "version": 3
   },
   "file_extension": ".py",
   "mimetype": "text/x-python",
   "name": "python",
   "nbconvert_exporter": "python",
   "pygments_lexer": "ipython3",
   "version": "3.10.14"
  },
  "papermill": {
   "default_parameters": {},
   "duration": 5.030108,
   "end_time": "2024-10-18T03:53:04.133237",
   "environment_variables": {},
   "exception": null,
   "input_path": "__notebook__.ipynb",
   "output_path": "__notebook__.ipynb",
   "parameters": {},
   "start_time": "2024-10-18T03:52:59.103129",
   "version": "2.6.0"
  }
 },
 "nbformat": 4,
 "nbformat_minor": 5
}
