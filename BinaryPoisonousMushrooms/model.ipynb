{
 "cells": [
  {
   "cell_type": "code",
   "execution_count": 1,
   "id": "e4e653ef",
   "metadata": {
    "_cell_guid": "b1076dfc-b9ad-4769-8c92-a6c4dae69d19",
    "_uuid": "8f2839f25d086af736a60e9eeb907d3b93b6e0e5",
    "execution": {
     "iopub.execute_input": "2024-08-11T22:07:00.807030Z",
     "iopub.status.busy": "2024-08-11T22:07:00.806658Z",
     "iopub.status.idle": "2024-08-11T22:07:01.765233Z",
     "shell.execute_reply": "2024-08-11T22:07:01.763903Z"
    },
    "papermill": {
     "duration": 0.968284,
     "end_time": "2024-08-11T22:07:01.767918",
     "exception": false,
     "start_time": "2024-08-11T22:07:00.799634",
     "status": "completed"
    },
    "tags": []
   },
   "outputs": [
    {
     "name": "stdout",
     "output_type": "stream",
     "text": [
      "/kaggle/input/playground-series-s4e8/sample_submission.csv\n",
      "/kaggle/input/playground-series-s4e8/train.csv\n",
      "/kaggle/input/playground-series-s4e8/test.csv\n"
     ]
    }
   ],
   "source": [
    "import numpy as np # linear algebra\n",
    "import pandas as pd # data processing, CSV file I/O (e.g. pd.read_csv)\n",
    "\n",
    "import warnings\n",
    "warnings.filterwarnings('ignore')\n",
    "\n",
    "import os\n",
    "for dirname, _, filenames in os.walk('/kaggle/input'):\n",
    "    for filename in filenames:\n",
    "        print(os.path.join(dirname, filename))"
   ]
  },
  {
   "cell_type": "code",
   "execution_count": 2,
   "id": "313d7b1a",
   "metadata": {
    "execution": {
     "iopub.execute_input": "2024-08-11T22:07:01.780274Z",
     "iopub.status.busy": "2024-08-11T22:07:01.779168Z",
     "iopub.status.idle": "2024-08-11T22:07:12.716491Z",
     "shell.execute_reply": "2024-08-11T22:07:12.715288Z"
    },
    "papermill": {
     "duration": 10.945963,
     "end_time": "2024-08-11T22:07:12.719075",
     "exception": false,
     "start_time": "2024-08-11T22:07:01.773112",
     "status": "completed"
    },
    "tags": []
   },
   "outputs": [],
   "source": [
    "train = pd.read_csv(\"/kaggle/input/playground-series-s4e8/train.csv\")"
   ]
  },
  {
   "cell_type": "code",
   "execution_count": 3,
   "id": "3a45ee8d",
   "metadata": {
    "execution": {
     "iopub.execute_input": "2024-08-11T22:07:12.730747Z",
     "iopub.status.busy": "2024-08-11T22:07:12.730375Z",
     "iopub.status.idle": "2024-08-11T22:07:18.957056Z",
     "shell.execute_reply": "2024-08-11T22:07:18.956042Z"
    },
    "papermill": {
     "duration": 6.235453,
     "end_time": "2024-08-11T22:07:18.959651",
     "exception": false,
     "start_time": "2024-08-11T22:07:12.724198",
     "status": "completed"
    },
    "tags": []
   },
   "outputs": [],
   "source": [
    "test = pd.read_csv(\"/kaggle/input/playground-series-s4e8/test.csv\")"
   ]
  },
  {
   "cell_type": "markdown",
   "id": "183913c9",
   "metadata": {
    "papermill": {
     "duration": 0.004789,
     "end_time": "2024-08-11T22:07:18.969406",
     "exception": false,
     "start_time": "2024-08-11T22:07:18.964617",
     "status": "completed"
    },
    "tags": []
   },
   "source": [
    "# ***PREPROCESSING***"
   ]
  },
  {
   "cell_type": "code",
   "execution_count": 4,
   "id": "c2ac522e",
   "metadata": {
    "execution": {
     "iopub.execute_input": "2024-08-11T22:07:18.981113Z",
     "iopub.status.busy": "2024-08-11T22:07:18.980726Z",
     "iopub.status.idle": "2024-08-11T22:07:19.820483Z",
     "shell.execute_reply": "2024-08-11T22:07:19.819406Z"
    },
    "papermill": {
     "duration": 0.848443,
     "end_time": "2024-08-11T22:07:19.822997",
     "exception": false,
     "start_time": "2024-08-11T22:07:18.974554",
     "status": "completed"
    },
    "tags": []
   },
   "outputs": [],
   "source": [
    "features_to_drop = ['veil-type', 'id']\n",
    "train = train.drop(features_to_drop, axis=1)"
   ]
  },
  {
   "cell_type": "code",
   "execution_count": 5,
   "id": "be2f7275",
   "metadata": {
    "execution": {
     "iopub.execute_input": "2024-08-11T22:07:19.834397Z",
     "iopub.status.busy": "2024-08-11T22:07:19.833997Z",
     "iopub.status.idle": "2024-08-11T22:07:20.236267Z",
     "shell.execute_reply": "2024-08-11T22:07:20.235230Z"
    },
    "papermill": {
     "duration": 0.411097,
     "end_time": "2024-08-11T22:07:20.238960",
     "exception": false,
     "start_time": "2024-08-11T22:07:19.827863",
     "status": "completed"
    },
    "tags": []
   },
   "outputs": [],
   "source": [
    "test_sub = test.drop(features_to_drop, axis=1)"
   ]
  },
  {
   "cell_type": "code",
   "execution_count": 6,
   "id": "02b988e1",
   "metadata": {
    "execution": {
     "iopub.execute_input": "2024-08-11T22:07:20.251021Z",
     "iopub.status.busy": "2024-08-11T22:07:20.250624Z",
     "iopub.status.idle": "2024-08-11T22:07:21.444436Z",
     "shell.execute_reply": "2024-08-11T22:07:21.443396Z"
    },
    "papermill": {
     "duration": 1.202936,
     "end_time": "2024-08-11T22:07:21.447286",
     "exception": false,
     "start_time": "2024-08-11T22:07:20.244350",
     "status": "completed"
    },
    "tags": []
   },
   "outputs": [],
   "source": [
    "# Binarize the class labels\n",
    "train['class'] = train['class'].apply(lambda x: 0 if x == 'e' else 1)"
   ]
  },
  {
   "cell_type": "markdown",
   "id": "ba2162e7",
   "metadata": {
    "papermill": {
     "duration": 0.004859,
     "end_time": "2024-08-11T22:07:21.457101",
     "exception": false,
     "start_time": "2024-08-11T22:07:21.452242",
     "status": "completed"
    },
    "tags": []
   },
   "source": [
    "# ***FEATURE ENGINEERING***"
   ]
  },
  {
   "cell_type": "code",
   "execution_count": 7,
   "id": "520ae20b",
   "metadata": {
    "execution": {
     "iopub.execute_input": "2024-08-11T22:07:21.468664Z",
     "iopub.status.busy": "2024-08-11T22:07:21.468249Z",
     "iopub.status.idle": "2024-08-11T22:07:22.051222Z",
     "shell.execute_reply": "2024-08-11T22:07:22.050105Z"
    },
    "papermill": {
     "duration": 0.591617,
     "end_time": "2024-08-11T22:07:22.053723",
     "exception": false,
     "start_time": "2024-08-11T22:07:21.462106",
     "status": "completed"
    },
    "tags": []
   },
   "outputs": [],
   "source": [
    "X = train.drop('class', axis=1)\n",
    "y = train['class']"
   ]
  },
  {
   "cell_type": "code",
   "execution_count": 8,
   "id": "f0d6535e",
   "metadata": {
    "execution": {
     "iopub.execute_input": "2024-08-11T22:07:22.065294Z",
     "iopub.status.busy": "2024-08-11T22:07:22.064930Z",
     "iopub.status.idle": "2024-08-11T22:07:24.165088Z",
     "shell.execute_reply": "2024-08-11T22:07:24.163846Z"
    },
    "papermill": {
     "duration": 2.10961,
     "end_time": "2024-08-11T22:07:24.168198",
     "exception": false,
     "start_time": "2024-08-11T22:07:22.058588",
     "status": "completed"
    },
    "tags": []
   },
   "outputs": [],
   "source": [
    "from sklearn.pipeline import Pipeline \n",
    "from sklearn.impute import SimpleImputer\n",
    "from sklearn.compose import ColumnTransformer\n",
    "from sklearn.preprocessing import OneHotEncoder\n",
    "\n",
    "# Select numerical features \n",
    "num_features = X.select_dtypes(include='float64').columns\n",
    "# Select categorical features \n",
    "cat_features = X.select_dtypes(include='object').columns\n",
    "\n",
    "\n",
    "# Impute median to all numerical features \n",
    "num_pipeline = Pipeline(steps = [\n",
    "    (\"imputer\", SimpleImputer(strategy='median')),\n",
    "])\n",
    "\n",
    "# Impute most frequent category to all categorical features\n",
    "cat_pipeline = Pipeline(steps = [\n",
    "    (\"imputer\", SimpleImputer(strategy='most_frequent')),\n",
    "    (\"encoder\", OneHotEncoder(drop='first', min_frequency=300))\n",
    "])\n",
    "\n",
    "preprocessor = ColumnTransformer(\n",
    "    transformers=[\n",
    "        ('num', num_pipeline, num_features),\n",
    "        ('cat', cat_pipeline, cat_features)\n",
    "    ]\n",
    ")"
   ]
  },
  {
   "cell_type": "code",
   "execution_count": 9,
   "id": "333488ea",
   "metadata": {
    "execution": {
     "iopub.execute_input": "2024-08-11T22:07:24.185532Z",
     "iopub.status.busy": "2024-08-11T22:07:24.185112Z",
     "iopub.status.idle": "2024-08-11T22:08:25.582041Z",
     "shell.execute_reply": "2024-08-11T22:08:25.580828Z"
    },
    "papermill": {
     "duration": 61.40882,
     "end_time": "2024-08-11T22:08:25.584878",
     "exception": false,
     "start_time": "2024-08-11T22:07:24.176058",
     "status": "completed"
    },
    "tags": []
   },
   "outputs": [],
   "source": [
    "X = preprocessor.fit_transform(X)"
   ]
  },
  {
   "cell_type": "code",
   "execution_count": 10,
   "id": "2a14b779",
   "metadata": {
    "execution": {
     "iopub.execute_input": "2024-08-11T22:08:25.596523Z",
     "iopub.status.busy": "2024-08-11T22:08:25.596116Z",
     "iopub.status.idle": "2024-08-11T22:09:06.535924Z",
     "shell.execute_reply": "2024-08-11T22:09:06.534619Z"
    },
    "papermill": {
     "duration": 40.949169,
     "end_time": "2024-08-11T22:09:06.539087",
     "exception": false,
     "start_time": "2024-08-11T22:08:25.589918",
     "status": "completed"
    },
    "tags": []
   },
   "outputs": [],
   "source": [
    "test_sub = preprocessor.fit_transform(test_sub)"
   ]
  },
  {
   "cell_type": "markdown",
   "id": "3a879917",
   "metadata": {
    "papermill": {
     "duration": 0.004669,
     "end_time": "2024-08-11T22:09:06.549909",
     "exception": false,
     "start_time": "2024-08-11T22:09:06.545240",
     "status": "completed"
    },
    "tags": []
   },
   "source": [
    "# ***MODEL PERFORMANCE***"
   ]
  },
  {
   "cell_type": "code",
   "execution_count": 11,
   "id": "6513739b",
   "metadata": {
    "execution": {
     "iopub.execute_input": "2024-08-11T22:09:06.561473Z",
     "iopub.status.busy": "2024-08-11T22:09:06.560963Z",
     "iopub.status.idle": "2024-08-11T22:10:10.699458Z",
     "shell.execute_reply": "2024-08-11T22:10:10.698178Z"
    },
    "papermill": {
     "duration": 64.14744,
     "end_time": "2024-08-11T22:10:10.702199",
     "exception": false,
     "start_time": "2024-08-11T22:09:06.554759",
     "status": "completed"
    },
    "tags": []
   },
   "outputs": [],
   "source": [
    "from xgboost import XGBClassifier\n",
    "from sklearn.model_selection import StratifiedKFold\n",
    "from sklearn.metrics import matthews_corrcoef\n",
    "\n",
    "model = XGBClassifier() \n",
    "\n",
    "folds = 3\n",
    "skfolds = StratifiedKFold(n_splits=folds)\n",
    "\n",
    "total_mcc = []\n",
    "\n",
    "for train_index, test_index, in skfolds.split(X, y):\n",
    "    X_train_folds, y_train_folds = X[train_index], y[train_index]\n",
    "    X_test_folds, y_test_folds = X[test_index], y[test_index]\n",
    "    \n",
    "    model.fit(X_train_folds, y_train_folds)\n",
    "    y_pred_folds = model.predict(X_test_folds)\n",
    "    \n",
    "    mcc = matthews_corrcoef(y_test_folds, y_pred_folds)\n",
    "    total_mcc.append(mcc)"
   ]
  },
  {
   "cell_type": "code",
   "execution_count": 12,
   "id": "fec1d5bf",
   "metadata": {
    "execution": {
     "iopub.execute_input": "2024-08-11T22:10:10.714154Z",
     "iopub.status.busy": "2024-08-11T22:10:10.713757Z",
     "iopub.status.idle": "2024-08-11T22:10:10.721875Z",
     "shell.execute_reply": "2024-08-11T22:10:10.720729Z"
    },
    "papermill": {
     "duration": 0.016703,
     "end_time": "2024-08-11T22:10:10.724278",
     "exception": false,
     "start_time": "2024-08-11T22:10:10.707575",
     "status": "completed"
    },
    "tags": []
   },
   "outputs": [
    {
     "data": {
      "text/plain": [
       "0.9792387916580999"
      ]
     },
     "execution_count": 12,
     "metadata": {},
     "output_type": "execute_result"
    }
   ],
   "source": [
    "sum(total_mcc) / len(total_mcc)"
   ]
  },
  {
   "cell_type": "markdown",
   "id": "34c2a742",
   "metadata": {
    "papermill": {
     "duration": 0.004891,
     "end_time": "2024-08-11T22:10:10.734394",
     "exception": false,
     "start_time": "2024-08-11T22:10:10.729503",
     "status": "completed"
    },
    "tags": []
   },
   "source": [
    "# ***SUBMISSION***"
   ]
  },
  {
   "cell_type": "code",
   "execution_count": 13,
   "id": "e0b8a632",
   "metadata": {
    "execution": {
     "iopub.execute_input": "2024-08-11T22:10:10.746039Z",
     "iopub.status.busy": "2024-08-11T22:10:10.745653Z",
     "iopub.status.idle": "2024-08-11T22:10:37.926803Z",
     "shell.execute_reply": "2024-08-11T22:10:37.925701Z"
    },
    "papermill": {
     "duration": 27.189655,
     "end_time": "2024-08-11T22:10:37.929085",
     "exception": false,
     "start_time": "2024-08-11T22:10:10.739430",
     "status": "completed"
    },
    "tags": []
   },
   "outputs": [
    {
     "data": {
      "text/html": [
       "<style>#sk-container-id-1 {color: black;background-color: white;}#sk-container-id-1 pre{padding: 0;}#sk-container-id-1 div.sk-toggleable {background-color: white;}#sk-container-id-1 label.sk-toggleable__label {cursor: pointer;display: block;width: 100%;margin-bottom: 0;padding: 0.3em;box-sizing: border-box;text-align: center;}#sk-container-id-1 label.sk-toggleable__label-arrow:before {content: \"▸\";float: left;margin-right: 0.25em;color: #696969;}#sk-container-id-1 label.sk-toggleable__label-arrow:hover:before {color: black;}#sk-container-id-1 div.sk-estimator:hover label.sk-toggleable__label-arrow:before {color: black;}#sk-container-id-1 div.sk-toggleable__content {max-height: 0;max-width: 0;overflow: hidden;text-align: left;background-color: #f0f8ff;}#sk-container-id-1 div.sk-toggleable__content pre {margin: 0.2em;color: black;border-radius: 0.25em;background-color: #f0f8ff;}#sk-container-id-1 input.sk-toggleable__control:checked~div.sk-toggleable__content {max-height: 200px;max-width: 100%;overflow: auto;}#sk-container-id-1 input.sk-toggleable__control:checked~label.sk-toggleable__label-arrow:before {content: \"▾\";}#sk-container-id-1 div.sk-estimator input.sk-toggleable__control:checked~label.sk-toggleable__label {background-color: #d4ebff;}#sk-container-id-1 div.sk-label input.sk-toggleable__control:checked~label.sk-toggleable__label {background-color: #d4ebff;}#sk-container-id-1 input.sk-hidden--visually {border: 0;clip: rect(1px 1px 1px 1px);clip: rect(1px, 1px, 1px, 1px);height: 1px;margin: -1px;overflow: hidden;padding: 0;position: absolute;width: 1px;}#sk-container-id-1 div.sk-estimator {font-family: monospace;background-color: #f0f8ff;border: 1px dotted black;border-radius: 0.25em;box-sizing: border-box;margin-bottom: 0.5em;}#sk-container-id-1 div.sk-estimator:hover {background-color: #d4ebff;}#sk-container-id-1 div.sk-parallel-item::after {content: \"\";width: 100%;border-bottom: 1px solid gray;flex-grow: 1;}#sk-container-id-1 div.sk-label:hover label.sk-toggleable__label {background-color: #d4ebff;}#sk-container-id-1 div.sk-serial::before {content: \"\";position: absolute;border-left: 1px solid gray;box-sizing: border-box;top: 0;bottom: 0;left: 50%;z-index: 0;}#sk-container-id-1 div.sk-serial {display: flex;flex-direction: column;align-items: center;background-color: white;padding-right: 0.2em;padding-left: 0.2em;position: relative;}#sk-container-id-1 div.sk-item {position: relative;z-index: 1;}#sk-container-id-1 div.sk-parallel {display: flex;align-items: stretch;justify-content: center;background-color: white;position: relative;}#sk-container-id-1 div.sk-item::before, #sk-container-id-1 div.sk-parallel-item::before {content: \"\";position: absolute;border-left: 1px solid gray;box-sizing: border-box;top: 0;bottom: 0;left: 50%;z-index: -1;}#sk-container-id-1 div.sk-parallel-item {display: flex;flex-direction: column;z-index: 1;position: relative;background-color: white;}#sk-container-id-1 div.sk-parallel-item:first-child::after {align-self: flex-end;width: 50%;}#sk-container-id-1 div.sk-parallel-item:last-child::after {align-self: flex-start;width: 50%;}#sk-container-id-1 div.sk-parallel-item:only-child::after {width: 0;}#sk-container-id-1 div.sk-dashed-wrapped {border: 1px dashed gray;margin: 0 0.4em 0.5em 0.4em;box-sizing: border-box;padding-bottom: 0.4em;background-color: white;}#sk-container-id-1 div.sk-label label {font-family: monospace;font-weight: bold;display: inline-block;line-height: 1.2em;}#sk-container-id-1 div.sk-label-container {text-align: center;}#sk-container-id-1 div.sk-container {/* jupyter's `normalize.less` sets `[hidden] { display: none; }` but bootstrap.min.css set `[hidden] { display: none !important; }` so we also need the `!important` here to be able to override the default hidden behavior on the sphinx rendered scikit-learn.org. See: https://github.com/scikit-learn/scikit-learn/issues/21755 */display: inline-block !important;position: relative;}#sk-container-id-1 div.sk-text-repr-fallback {display: none;}</style><div id=\"sk-container-id-1\" class=\"sk-top-container\"><div class=\"sk-text-repr-fallback\"><pre>XGBClassifier(base_score=None, booster=None, callbacks=None,\n",
       "              colsample_bylevel=None, colsample_bynode=None,\n",
       "              colsample_bytree=None, device=None, early_stopping_rounds=None,\n",
       "              enable_categorical=False, eval_metric=None, feature_types=None,\n",
       "              gamma=None, grow_policy=None, importance_type=None,\n",
       "              interaction_constraints=None, learning_rate=None, max_bin=None,\n",
       "              max_cat_threshold=None, max_cat_to_onehot=None,\n",
       "              max_delta_step=None, max_depth=None, max_leaves=None,\n",
       "              min_child_weight=None, missing=nan, monotone_constraints=None,\n",
       "              multi_strategy=None, n_estimators=None, n_jobs=None,\n",
       "              num_parallel_tree=None, random_state=None, ...)</pre><b>In a Jupyter environment, please rerun this cell to show the HTML representation or trust the notebook. <br />On GitHub, the HTML representation is unable to render, please try loading this page with nbviewer.org.</b></div><div class=\"sk-container\" hidden><div class=\"sk-item\"><div class=\"sk-estimator sk-toggleable\"><input class=\"sk-toggleable__control sk-hidden--visually\" id=\"sk-estimator-id-1\" type=\"checkbox\" checked><label for=\"sk-estimator-id-1\" class=\"sk-toggleable__label sk-toggleable__label-arrow\">XGBClassifier</label><div class=\"sk-toggleable__content\"><pre>XGBClassifier(base_score=None, booster=None, callbacks=None,\n",
       "              colsample_bylevel=None, colsample_bynode=None,\n",
       "              colsample_bytree=None, device=None, early_stopping_rounds=None,\n",
       "              enable_categorical=False, eval_metric=None, feature_types=None,\n",
       "              gamma=None, grow_policy=None, importance_type=None,\n",
       "              interaction_constraints=None, learning_rate=None, max_bin=None,\n",
       "              max_cat_threshold=None, max_cat_to_onehot=None,\n",
       "              max_delta_step=None, max_depth=None, max_leaves=None,\n",
       "              min_child_weight=None, missing=nan, monotone_constraints=None,\n",
       "              multi_strategy=None, n_estimators=None, n_jobs=None,\n",
       "              num_parallel_tree=None, random_state=None, ...)</pre></div></div></div></div></div>"
      ],
      "text/plain": [
       "XGBClassifier(base_score=None, booster=None, callbacks=None,\n",
       "              colsample_bylevel=None, colsample_bynode=None,\n",
       "              colsample_bytree=None, device=None, early_stopping_rounds=None,\n",
       "              enable_categorical=False, eval_metric=None, feature_types=None,\n",
       "              gamma=None, grow_policy=None, importance_type=None,\n",
       "              interaction_constraints=None, learning_rate=None, max_bin=None,\n",
       "              max_cat_threshold=None, max_cat_to_onehot=None,\n",
       "              max_delta_step=None, max_depth=None, max_leaves=None,\n",
       "              min_child_weight=None, missing=nan, monotone_constraints=None,\n",
       "              multi_strategy=None, n_estimators=None, n_jobs=None,\n",
       "              num_parallel_tree=None, random_state=None, ...)"
      ]
     },
     "execution_count": 13,
     "metadata": {},
     "output_type": "execute_result"
    }
   ],
   "source": [
    "model.fit(X, y)"
   ]
  },
  {
   "cell_type": "code",
   "execution_count": 14,
   "id": "3fcf9072",
   "metadata": {
    "execution": {
     "iopub.execute_input": "2024-08-11T22:10:37.941509Z",
     "iopub.status.busy": "2024-08-11T22:10:37.941089Z",
     "iopub.status.idle": "2024-08-11T22:10:42.846271Z",
     "shell.execute_reply": "2024-08-11T22:10:42.845117Z"
    },
    "papermill": {
     "duration": 4.914699,
     "end_time": "2024-08-11T22:10:42.849124",
     "exception": false,
     "start_time": "2024-08-11T22:10:37.934425",
     "status": "completed"
    },
    "tags": []
   },
   "outputs": [],
   "source": [
    "pred_class = model.predict(test_sub)\n",
    "\n",
    "test['class'] = pred_class \n",
    "\n",
    "submission = test[['id', 'class']]"
   ]
  },
  {
   "cell_type": "code",
   "execution_count": 15,
   "id": "299abdd8",
   "metadata": {
    "execution": {
     "iopub.execute_input": "2024-08-11T22:10:42.861385Z",
     "iopub.status.busy": "2024-08-11T22:10:42.860951Z",
     "iopub.status.idle": "2024-08-11T22:10:44.526401Z",
     "shell.execute_reply": "2024-08-11T22:10:44.525078Z"
    },
    "papermill": {
     "duration": 1.674556,
     "end_time": "2024-08-11T22:10:44.529043",
     "exception": false,
     "start_time": "2024-08-11T22:10:42.854487",
     "status": "completed"
    },
    "tags": []
   },
   "outputs": [],
   "source": [
    "submission.to_csv('submission.csv', index=False)"
   ]
  }
 ],
 "metadata": {
  "kaggle": {
   "accelerator": "none",
   "dataSources": [
    {
     "databundleVersionId": 9045607,
     "sourceId": 76727,
     "sourceType": "competition"
    }
   ],
   "dockerImageVersionId": 30746,
   "isGpuEnabled": false,
   "isInternetEnabled": true,
   "language": "python",
   "sourceType": "notebook"
  },
  "kernelspec": {
   "display_name": "Python 3",
   "language": "python",
   "name": "python3"
  },
  "language_info": {
   "codemirror_mode": {
    "name": "ipython",
    "version": 3
   },
   "file_extension": ".py",
   "mimetype": "text/x-python",
   "name": "python",
   "nbconvert_exporter": "python",
   "pygments_lexer": "ipython3",
   "version": "3.10.13"
  },
  "papermill": {
   "default_parameters": {},
   "duration": 227.557582,
   "end_time": "2024-08-11T22:10:45.457946",
   "environment_variables": {},
   "exception": null,
   "input_path": "__notebook__.ipynb",
   "output_path": "__notebook__.ipynb",
   "parameters": {},
   "start_time": "2024-08-11T22:06:57.900364",
   "version": "2.5.0"
  }
 },
 "nbformat": 4,
 "nbformat_minor": 5
}
