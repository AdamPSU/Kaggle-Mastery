{
 "cells": [
  {
   "cell_type": "code",
   "execution_count": 1,
   "id": "3448e43b",
   "metadata": {
    "_cell_guid": "b1076dfc-b9ad-4769-8c92-a6c4dae69d19",
    "_uuid": "8f2839f25d086af736a60e9eeb907d3b93b6e0e5",
    "execution": {
     "iopub.execute_input": "2024-08-13T02:21:35.779250Z",
     "iopub.status.busy": "2024-08-13T02:21:35.778715Z",
     "iopub.status.idle": "2024-08-13T02:21:36.660716Z",
     "shell.execute_reply": "2024-08-13T02:21:36.659278Z"
    },
    "papermill": {
     "duration": 0.893355,
     "end_time": "2024-08-13T02:21:36.663781",
     "exception": false,
     "start_time": "2024-08-13T02:21:35.770426",
     "status": "completed"
    },
    "tags": []
   },
   "outputs": [
    {
     "name": "stdout",
     "output_type": "stream",
     "text": [
      "/kaggle/input/playground-series-s4e8/sample_submission.csv\n",
      "/kaggle/input/playground-series-s4e8/train.csv\n",
      "/kaggle/input/playground-series-s4e8/test.csv\n"
     ]
    }
   ],
   "source": [
    "import numpy as np # linear algebra\n",
    "import pandas as pd # data processing, CSV file I/O (e.g. pd.read_csv)\n",
    "\n",
    "import warnings\n",
    "warnings.filterwarnings('ignore')\n",
    "\n",
    "import os\n",
    "\n",
    "for dirname, _, filenames in os.walk('/kaggle/input'):\n",
    "    for filename in filenames:\n",
    "        print(os.path.join(dirname, filename))"
   ]
  },
  {
   "cell_type": "code",
   "execution_count": 2,
   "id": "897ee677",
   "metadata": {
    "execution": {
     "iopub.execute_input": "2024-08-13T02:21:36.680453Z",
     "iopub.status.busy": "2024-08-13T02:21:36.679946Z",
     "iopub.status.idle": "2024-08-13T02:21:47.858837Z",
     "shell.execute_reply": "2024-08-13T02:21:47.857614Z"
    },
    "papermill": {
     "duration": 11.189661,
     "end_time": "2024-08-13T02:21:47.861660",
     "exception": false,
     "start_time": "2024-08-13T02:21:36.671999",
     "status": "completed"
    },
    "tags": []
   },
   "outputs": [],
   "source": [
    "train = pd.read_csv(\"/kaggle/input/playground-series-s4e8/train.csv\")"
   ]
  },
  {
   "cell_type": "code",
   "execution_count": 3,
   "id": "6647eda4",
   "metadata": {
    "execution": {
     "iopub.execute_input": "2024-08-13T02:21:47.875585Z",
     "iopub.status.busy": "2024-08-13T02:21:47.875197Z",
     "iopub.status.idle": "2024-08-13T02:21:54.488328Z",
     "shell.execute_reply": "2024-08-13T02:21:54.487154Z"
    },
    "papermill": {
     "duration": 6.623782,
     "end_time": "2024-08-13T02:21:54.491658",
     "exception": false,
     "start_time": "2024-08-13T02:21:47.867876",
     "status": "completed"
    },
    "tags": []
   },
   "outputs": [],
   "source": [
    "test = pd.read_csv(\"/kaggle/input/playground-series-s4e8/test.csv\")"
   ]
  },
  {
   "cell_type": "markdown",
   "id": "2fce6841",
   "metadata": {
    "papermill": {
     "duration": 0.008098,
     "end_time": "2024-08-13T02:21:54.508555",
     "exception": false,
     "start_time": "2024-08-13T02:21:54.500457",
     "status": "completed"
    },
    "tags": []
   },
   "source": [
    "# ***PREPROCESSING***"
   ]
  },
  {
   "cell_type": "code",
   "execution_count": 4,
   "id": "61fde80a",
   "metadata": {
    "execution": {
     "iopub.execute_input": "2024-08-13T02:21:54.527434Z",
     "iopub.status.busy": "2024-08-13T02:21:54.526648Z",
     "iopub.status.idle": "2024-08-13T02:21:55.425644Z",
     "shell.execute_reply": "2024-08-13T02:21:55.424564Z"
    },
    "papermill": {
     "duration": 0.911455,
     "end_time": "2024-08-13T02:21:55.428389",
     "exception": false,
     "start_time": "2024-08-13T02:21:54.516934",
     "status": "completed"
    },
    "tags": []
   },
   "outputs": [],
   "source": [
    "features_to_drop = ['id']\n",
    "train = train.drop(features_to_drop, axis=1)"
   ]
  },
  {
   "cell_type": "code",
   "execution_count": 5,
   "id": "2c87024a",
   "metadata": {
    "execution": {
     "iopub.execute_input": "2024-08-13T02:21:55.443319Z",
     "iopub.status.busy": "2024-08-13T02:21:55.442410Z",
     "iopub.status.idle": "2024-08-13T02:21:55.861107Z",
     "shell.execute_reply": "2024-08-13T02:21:55.859949Z"
    },
    "papermill": {
     "duration": 0.429094,
     "end_time": "2024-08-13T02:21:55.863838",
     "exception": false,
     "start_time": "2024-08-13T02:21:55.434744",
     "status": "completed"
    },
    "tags": []
   },
   "outputs": [],
   "source": [
    "test_sub = test.drop(features_to_drop, axis=1)"
   ]
  },
  {
   "cell_type": "code",
   "execution_count": 6,
   "id": "3fe4420a",
   "metadata": {
    "execution": {
     "iopub.execute_input": "2024-08-13T02:21:55.878279Z",
     "iopub.status.busy": "2024-08-13T02:21:55.877259Z",
     "iopub.status.idle": "2024-08-13T02:21:58.243897Z",
     "shell.execute_reply": "2024-08-13T02:21:58.242743Z"
    },
    "papermill": {
     "duration": 2.376552,
     "end_time": "2024-08-13T02:21:58.246662",
     "exception": false,
     "start_time": "2024-08-13T02:21:55.870110",
     "status": "completed"
    },
    "tags": []
   },
   "outputs": [],
   "source": [
    "# Binarize the class labels\n",
    "train['class'] = train['class'].apply(lambda x: 0 if x == 'e' else 1)"
   ]
  },
  {
   "cell_type": "code",
   "execution_count": 7,
   "id": "a41b59dd",
   "metadata": {
    "execution": {
     "iopub.execute_input": "2024-08-13T02:21:58.260661Z",
     "iopub.status.busy": "2024-08-13T02:21:58.260289Z",
     "iopub.status.idle": "2024-08-13T02:21:58.876768Z",
     "shell.execute_reply": "2024-08-13T02:21:58.875867Z"
    },
    "papermill": {
     "duration": 0.626687,
     "end_time": "2024-08-13T02:21:58.879544",
     "exception": false,
     "start_time": "2024-08-13T02:21:58.252857",
     "status": "completed"
    },
    "tags": []
   },
   "outputs": [],
   "source": [
    "X = train.drop('class', axis=1)\n",
    "y = train['class']"
   ]
  },
  {
   "cell_type": "code",
   "execution_count": 8,
   "id": "cf84c998",
   "metadata": {
    "execution": {
     "iopub.execute_input": "2024-08-13T02:21:58.893534Z",
     "iopub.status.busy": "2024-08-13T02:21:58.892888Z",
     "iopub.status.idle": "2024-08-13T02:22:35.053623Z",
     "shell.execute_reply": "2024-08-13T02:22:35.052580Z"
    },
    "papermill": {
     "duration": 36.170709,
     "end_time": "2024-08-13T02:22:35.056392",
     "exception": false,
     "start_time": "2024-08-13T02:21:58.885683",
     "status": "completed"
    },
    "tags": []
   },
   "outputs": [],
   "source": [
    "cat = X.select_dtypes(include='object').columns.tolist()\n",
    "threshold = len(X) * 0.0005\n",
    "\n",
    "for col in cat: \n",
    "    value_counts = X[col].value_counts()\n",
    "    \n",
    "    labels = set(value_counts[value_counts > threshold].index)\n",
    "    \n",
    "    def preprocessor(x):\n",
    "        if x not in labels: \n",
    "            return 'other'\n",
    "        if x is None: \n",
    "            return 'missing'\n",
    "        \n",
    "        return x \n",
    "    \n",
    "    X[col] = X[col].apply(preprocessor)\n",
    "    test_sub[col] = test_sub[col].apply(preprocessor)\n",
    "    "
   ]
  },
  {
   "cell_type": "code",
   "execution_count": 9,
   "id": "4f48b488",
   "metadata": {
    "execution": {
     "iopub.execute_input": "2024-08-13T02:22:35.070759Z",
     "iopub.status.busy": "2024-08-13T02:22:35.069962Z",
     "iopub.status.idle": "2024-08-13T02:22:46.902485Z",
     "shell.execute_reply": "2024-08-13T02:22:46.901308Z"
    },
    "papermill": {
     "duration": 11.842643,
     "end_time": "2024-08-13T02:22:46.905295",
     "exception": false,
     "start_time": "2024-08-13T02:22:35.062652",
     "status": "completed"
    },
    "tags": []
   },
   "outputs": [],
   "source": [
    "X = pd.get_dummies(X, columns=cat, drop_first=True)\n",
    "test_sub = pd.get_dummies(test_sub, columns=cat, drop_first=True)"
   ]
  },
  {
   "cell_type": "markdown",
   "id": "d1270128",
   "metadata": {
    "papermill": {
     "duration": 0.005724,
     "end_time": "2024-08-13T02:22:46.917324",
     "exception": false,
     "start_time": "2024-08-13T02:22:46.911600",
     "status": "completed"
    },
    "tags": []
   },
   "source": [
    "# ***MODEL PERFORMANCE***"
   ]
  },
  {
   "cell_type": "code",
   "execution_count": 10,
   "id": "4e6d722e",
   "metadata": {
    "execution": {
     "iopub.execute_input": "2024-08-13T02:22:46.930679Z",
     "iopub.status.busy": "2024-08-13T02:22:46.930288Z",
     "iopub.status.idle": "2024-08-13T02:23:07.267839Z",
     "shell.execute_reply": "2024-08-13T02:23:07.266732Z"
    },
    "papermill": {
     "duration": 20.347393,
     "end_time": "2024-08-13T02:23:07.270585",
     "exception": false,
     "start_time": "2024-08-13T02:22:46.923192",
     "status": "completed"
    },
    "tags": []
   },
   "outputs": [],
   "source": [
    "X = X.to_numpy()\n",
    "y = y.to_numpy()\n",
    "test_sub = test_sub.to_numpy()"
   ]
  },
  {
   "cell_type": "code",
   "execution_count": 11,
   "id": "4929ba72",
   "metadata": {
    "execution": {
     "iopub.execute_input": "2024-08-13T02:23:07.284606Z",
     "iopub.status.busy": "2024-08-13T02:23:07.283844Z",
     "iopub.status.idle": "2024-08-13T02:27:22.242231Z",
     "shell.execute_reply": "2024-08-13T02:27:22.241087Z"
    },
    "papermill": {
     "duration": 254.973894,
     "end_time": "2024-08-13T02:27:22.250686",
     "exception": false,
     "start_time": "2024-08-13T02:23:07.276792",
     "status": "completed"
    },
    "tags": []
   },
   "outputs": [
    {
     "data": {
      "text/plain": [
       "0.9820015260630216"
      ]
     },
     "execution_count": 11,
     "metadata": {},
     "output_type": "execute_result"
    }
   ],
   "source": [
    "from xgboost import XGBClassifier\n",
    "from sklearn.model_selection import StratifiedKFold\n",
    "from sklearn.metrics import matthews_corrcoef\n",
    "\n",
    "model = XGBClassifier() \n",
    "\n",
    "folds = 3\n",
    "skfolds = StratifiedKFold(n_splits=folds)\n",
    "\n",
    "total_mcc = []\n",
    "\n",
    "for train_index, test_index in skfolds.split(X, y):\n",
    "    X_train_folds, y_train_folds = X[train_index], y[train_index]\n",
    "    X_test_folds, y_test_folds = X[test_index], y[test_index]\n",
    "    \n",
    "    model.fit(X_train_folds, y_train_folds)\n",
    "    y_pred_folds = model.predict(X_test_folds)\n",
    "    \n",
    "    mcc = matthews_corrcoef(y_test_folds, y_pred_folds)\n",
    "    total_mcc.append(mcc)\n",
    "    \n",
    "mcc_cv = sum(total_mcc) / len(total_mcc)\n",
    "mcc_cv"
   ]
  },
  {
   "cell_type": "markdown",
   "id": "4d0d1468",
   "metadata": {
    "papermill": {
     "duration": 0.005742,
     "end_time": "2024-08-13T02:27:22.262445",
     "exception": false,
     "start_time": "2024-08-13T02:27:22.256703",
     "status": "completed"
    },
    "tags": []
   },
   "source": [
    "# ***SUBMISSION***"
   ]
  },
  {
   "cell_type": "code",
   "execution_count": 12,
   "id": "3a0f138c",
   "metadata": {
    "execution": {
     "iopub.execute_input": "2024-08-13T02:27:22.276830Z",
     "iopub.status.busy": "2024-08-13T02:27:22.275881Z",
     "iopub.status.idle": "2024-08-13T02:29:03.111913Z",
     "shell.execute_reply": "2024-08-13T02:29:03.110612Z"
    },
    "papermill": {
     "duration": 100.852568,
     "end_time": "2024-08-13T02:29:03.121051",
     "exception": false,
     "start_time": "2024-08-13T02:27:22.268483",
     "status": "completed"
    },
    "tags": []
   },
   "outputs": [
    {
     "data": {
      "text/html": [
       "<style>#sk-container-id-1 {color: black;background-color: white;}#sk-container-id-1 pre{padding: 0;}#sk-container-id-1 div.sk-toggleable {background-color: white;}#sk-container-id-1 label.sk-toggleable__label {cursor: pointer;display: block;width: 100%;margin-bottom: 0;padding: 0.3em;box-sizing: border-box;text-align: center;}#sk-container-id-1 label.sk-toggleable__label-arrow:before {content: \"▸\";float: left;margin-right: 0.25em;color: #696969;}#sk-container-id-1 label.sk-toggleable__label-arrow:hover:before {color: black;}#sk-container-id-1 div.sk-estimator:hover label.sk-toggleable__label-arrow:before {color: black;}#sk-container-id-1 div.sk-toggleable__content {max-height: 0;max-width: 0;overflow: hidden;text-align: left;background-color: #f0f8ff;}#sk-container-id-1 div.sk-toggleable__content pre {margin: 0.2em;color: black;border-radius: 0.25em;background-color: #f0f8ff;}#sk-container-id-1 input.sk-toggleable__control:checked~div.sk-toggleable__content {max-height: 200px;max-width: 100%;overflow: auto;}#sk-container-id-1 input.sk-toggleable__control:checked~label.sk-toggleable__label-arrow:before {content: \"▾\";}#sk-container-id-1 div.sk-estimator input.sk-toggleable__control:checked~label.sk-toggleable__label {background-color: #d4ebff;}#sk-container-id-1 div.sk-label input.sk-toggleable__control:checked~label.sk-toggleable__label {background-color: #d4ebff;}#sk-container-id-1 input.sk-hidden--visually {border: 0;clip: rect(1px 1px 1px 1px);clip: rect(1px, 1px, 1px, 1px);height: 1px;margin: -1px;overflow: hidden;padding: 0;position: absolute;width: 1px;}#sk-container-id-1 div.sk-estimator {font-family: monospace;background-color: #f0f8ff;border: 1px dotted black;border-radius: 0.25em;box-sizing: border-box;margin-bottom: 0.5em;}#sk-container-id-1 div.sk-estimator:hover {background-color: #d4ebff;}#sk-container-id-1 div.sk-parallel-item::after {content: \"\";width: 100%;border-bottom: 1px solid gray;flex-grow: 1;}#sk-container-id-1 div.sk-label:hover label.sk-toggleable__label {background-color: #d4ebff;}#sk-container-id-1 div.sk-serial::before {content: \"\";position: absolute;border-left: 1px solid gray;box-sizing: border-box;top: 0;bottom: 0;left: 50%;z-index: 0;}#sk-container-id-1 div.sk-serial {display: flex;flex-direction: column;align-items: center;background-color: white;padding-right: 0.2em;padding-left: 0.2em;position: relative;}#sk-container-id-1 div.sk-item {position: relative;z-index: 1;}#sk-container-id-1 div.sk-parallel {display: flex;align-items: stretch;justify-content: center;background-color: white;position: relative;}#sk-container-id-1 div.sk-item::before, #sk-container-id-1 div.sk-parallel-item::before {content: \"\";position: absolute;border-left: 1px solid gray;box-sizing: border-box;top: 0;bottom: 0;left: 50%;z-index: -1;}#sk-container-id-1 div.sk-parallel-item {display: flex;flex-direction: column;z-index: 1;position: relative;background-color: white;}#sk-container-id-1 div.sk-parallel-item:first-child::after {align-self: flex-end;width: 50%;}#sk-container-id-1 div.sk-parallel-item:last-child::after {align-self: flex-start;width: 50%;}#sk-container-id-1 div.sk-parallel-item:only-child::after {width: 0;}#sk-container-id-1 div.sk-dashed-wrapped {border: 1px dashed gray;margin: 0 0.4em 0.5em 0.4em;box-sizing: border-box;padding-bottom: 0.4em;background-color: white;}#sk-container-id-1 div.sk-label label {font-family: monospace;font-weight: bold;display: inline-block;line-height: 1.2em;}#sk-container-id-1 div.sk-label-container {text-align: center;}#sk-container-id-1 div.sk-container {/* jupyter's `normalize.less` sets `[hidden] { display: none; }` but bootstrap.min.css set `[hidden] { display: none !important; }` so we also need the `!important` here to be able to override the default hidden behavior on the sphinx rendered scikit-learn.org. See: https://github.com/scikit-learn/scikit-learn/issues/21755 */display: inline-block !important;position: relative;}#sk-container-id-1 div.sk-text-repr-fallback {display: none;}</style><div id=\"sk-container-id-1\" class=\"sk-top-container\"><div class=\"sk-text-repr-fallback\"><pre>XGBClassifier(base_score=None, booster=None, callbacks=None,\n",
       "              colsample_bylevel=None, colsample_bynode=None,\n",
       "              colsample_bytree=None, device=None, early_stopping_rounds=None,\n",
       "              enable_categorical=False, eval_metric=None, feature_types=None,\n",
       "              gamma=None, grow_policy=None, importance_type=None,\n",
       "              interaction_constraints=None, learning_rate=None, max_bin=None,\n",
       "              max_cat_threshold=None, max_cat_to_onehot=None,\n",
       "              max_delta_step=None, max_depth=None, max_leaves=None,\n",
       "              min_child_weight=None, missing=nan, monotone_constraints=None,\n",
       "              multi_strategy=None, n_estimators=None, n_jobs=None,\n",
       "              num_parallel_tree=None, random_state=None, ...)</pre><b>In a Jupyter environment, please rerun this cell to show the HTML representation or trust the notebook. <br />On GitHub, the HTML representation is unable to render, please try loading this page with nbviewer.org.</b></div><div class=\"sk-container\" hidden><div class=\"sk-item\"><div class=\"sk-estimator sk-toggleable\"><input class=\"sk-toggleable__control sk-hidden--visually\" id=\"sk-estimator-id-1\" type=\"checkbox\" checked><label for=\"sk-estimator-id-1\" class=\"sk-toggleable__label sk-toggleable__label-arrow\">XGBClassifier</label><div class=\"sk-toggleable__content\"><pre>XGBClassifier(base_score=None, booster=None, callbacks=None,\n",
       "              colsample_bylevel=None, colsample_bynode=None,\n",
       "              colsample_bytree=None, device=None, early_stopping_rounds=None,\n",
       "              enable_categorical=False, eval_metric=None, feature_types=None,\n",
       "              gamma=None, grow_policy=None, importance_type=None,\n",
       "              interaction_constraints=None, learning_rate=None, max_bin=None,\n",
       "              max_cat_threshold=None, max_cat_to_onehot=None,\n",
       "              max_delta_step=None, max_depth=None, max_leaves=None,\n",
       "              min_child_weight=None, missing=nan, monotone_constraints=None,\n",
       "              multi_strategy=None, n_estimators=None, n_jobs=None,\n",
       "              num_parallel_tree=None, random_state=None, ...)</pre></div></div></div></div></div>"
      ],
      "text/plain": [
       "XGBClassifier(base_score=None, booster=None, callbacks=None,\n",
       "              colsample_bylevel=None, colsample_bynode=None,\n",
       "              colsample_bytree=None, device=None, early_stopping_rounds=None,\n",
       "              enable_categorical=False, eval_metric=None, feature_types=None,\n",
       "              gamma=None, grow_policy=None, importance_type=None,\n",
       "              interaction_constraints=None, learning_rate=None, max_bin=None,\n",
       "              max_cat_threshold=None, max_cat_to_onehot=None,\n",
       "              max_delta_step=None, max_depth=None, max_leaves=None,\n",
       "              min_child_weight=None, missing=nan, monotone_constraints=None,\n",
       "              multi_strategy=None, n_estimators=None, n_jobs=None,\n",
       "              num_parallel_tree=None, random_state=None, ...)"
      ]
     },
     "execution_count": 12,
     "metadata": {},
     "output_type": "execute_result"
    }
   ],
   "source": [
    "model.fit(X, y)"
   ]
  },
  {
   "cell_type": "code",
   "execution_count": 13,
   "id": "4e562581",
   "metadata": {
    "execution": {
     "iopub.execute_input": "2024-08-13T02:29:03.136538Z",
     "iopub.status.busy": "2024-08-13T02:29:03.135538Z",
     "iopub.status.idle": "2024-08-13T02:29:28.344927Z",
     "shell.execute_reply": "2024-08-13T02:29:28.343839Z"
    },
    "papermill": {
     "duration": 25.220248,
     "end_time": "2024-08-13T02:29:28.347749",
     "exception": false,
     "start_time": "2024-08-13T02:29:03.127501",
     "status": "completed"
    },
    "tags": []
   },
   "outputs": [],
   "source": [
    "pred_class = model.predict(test_sub)\n",
    "\n",
    "test['class'] = pred_class\n",
    "test['class'] = test['class'].apply(lambda x: 'e' if x == 0 else 'p')\n",
    "\n",
    "submission = test[['id', 'class']]"
   ]
  },
  {
   "cell_type": "code",
   "execution_count": 14,
   "id": "b7e5df76",
   "metadata": {
    "execution": {
     "iopub.execute_input": "2024-08-13T02:29:28.362673Z",
     "iopub.status.busy": "2024-08-13T02:29:28.362296Z",
     "iopub.status.idle": "2024-08-13T02:29:32.028834Z",
     "shell.execute_reply": "2024-08-13T02:29:32.027695Z"
    },
    "papermill": {
     "duration": 3.676998,
     "end_time": "2024-08-13T02:29:32.031581",
     "exception": false,
     "start_time": "2024-08-13T02:29:28.354583",
     "status": "completed"
    },
    "tags": []
   },
   "outputs": [],
   "source": [
    "submission.to_csv('/kaggle/working/VER4.csv', index=False)"
   ]
  }
 ],
 "metadata": {
  "kaggle": {
   "accelerator": "none",
   "dataSources": [
    {
     "databundleVersionId": 9045607,
     "sourceId": 76727,
     "sourceType": "competition"
    }
   ],
   "dockerImageVersionId": 30746,
   "isGpuEnabled": false,
   "isInternetEnabled": true,
   "language": "python",
   "sourceType": "notebook"
  },
  "kernelspec": {
   "display_name": "Python 3",
   "language": "python",
   "name": "python3"
  },
  "language_info": {
   "codemirror_mode": {
    "name": "ipython",
    "version": 3
   },
   "file_extension": ".py",
   "mimetype": "text/x-python",
   "name": "python",
   "nbconvert_exporter": "python",
   "pygments_lexer": "ipython3",
   "version": "3.10.13"
  },
  "papermill": {
   "default_parameters": {},
   "duration": 482.124393,
   "end_time": "2024-08-13T02:29:34.961207",
   "environment_variables": {},
   "exception": null,
   "input_path": "__notebook__.ipynb",
   "output_path": "__notebook__.ipynb",
   "parameters": {},
   "start_time": "2024-08-13T02:21:32.836814",
   "version": "2.5.0"
  }
 },
 "nbformat": 4,
 "nbformat_minor": 5
}
