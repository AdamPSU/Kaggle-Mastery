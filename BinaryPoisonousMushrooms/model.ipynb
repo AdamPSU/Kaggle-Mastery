{
 "cells": [
  {
   "cell_type": "code",
   "execution_count": 1,
   "id": "e976ee71",
   "metadata": {
    "_cell_guid": "b1076dfc-b9ad-4769-8c92-a6c4dae69d19",
    "_uuid": "8f2839f25d086af736a60e9eeb907d3b93b6e0e5",
    "execution": {
     "iopub.execute_input": "2024-08-17T08:06:58.031528Z",
     "iopub.status.busy": "2024-08-17T08:06:58.031042Z",
     "iopub.status.idle": "2024-08-17T08:06:59.202806Z",
     "shell.execute_reply": "2024-08-17T08:06:59.201013Z"
    },
    "papermill": {
     "duration": 1.184768,
     "end_time": "2024-08-17T08:06:59.206867",
     "exception": false,
     "start_time": "2024-08-17T08:06:58.022099",
     "status": "completed"
    },
    "tags": []
   },
   "outputs": [
    {
     "name": "stdout",
     "output_type": "stream",
     "text": [
      "/kaggle/input/playground-series-s4e8/sample_submission.csv\n",
      "/kaggle/input/playground-series-s4e8/train.csv\n",
      "/kaggle/input/playground-series-s4e8/test.csv\n"
     ]
    }
   ],
   "source": [
    "import numpy as np # linear algebra\n",
    "import pandas as pd # data processing, CSV file I/O (e.g. pd.read_csv)\n",
    "\n",
    "import warnings\n",
    "warnings.filterwarnings('ignore')\n",
    "\n",
    "import os\n",
    "\n",
    "for dirname, _, filenames in os.walk('/kaggle/input'):\n",
    "    for filename in filenames:\n",
    "        print(os.path.join(dirname, filename))"
   ]
  },
  {
   "cell_type": "code",
   "execution_count": 2,
   "id": "0f68c965",
   "metadata": {
    "execution": {
     "iopub.execute_input": "2024-08-17T08:06:59.223459Z",
     "iopub.status.busy": "2024-08-17T08:06:59.222837Z",
     "iopub.status.idle": "2024-08-17T08:07:12.648918Z",
     "shell.execute_reply": "2024-08-17T08:07:12.647379Z"
    },
    "papermill": {
     "duration": 13.43782,
     "end_time": "2024-08-17T08:07:12.652036",
     "exception": false,
     "start_time": "2024-08-17T08:06:59.214216",
     "status": "completed"
    },
    "tags": []
   },
   "outputs": [],
   "source": [
    "train = pd.read_csv(\"/kaggle/input/playground-series-s4e8/train.csv\")"
   ]
  },
  {
   "cell_type": "code",
   "execution_count": 3,
   "id": "a930c142",
   "metadata": {
    "execution": {
     "iopub.execute_input": "2024-08-17T08:07:12.667309Z",
     "iopub.status.busy": "2024-08-17T08:07:12.666843Z",
     "iopub.status.idle": "2024-08-17T08:07:20.367595Z",
     "shell.execute_reply": "2024-08-17T08:07:20.366180Z"
    },
    "papermill": {
     "duration": 7.711919,
     "end_time": "2024-08-17T08:07:20.370639",
     "exception": false,
     "start_time": "2024-08-17T08:07:12.658720",
     "status": "completed"
    },
    "tags": []
   },
   "outputs": [],
   "source": [
    "test = pd.read_csv(\"/kaggle/input/playground-series-s4e8/test.csv\")"
   ]
  },
  {
   "cell_type": "markdown",
   "id": "ece501ed",
   "metadata": {
    "papermill": {
     "duration": 0.006127,
     "end_time": "2024-08-17T08:07:20.383402",
     "exception": false,
     "start_time": "2024-08-17T08:07:20.377275",
     "status": "completed"
    },
    "tags": []
   },
   "source": [
    "# ***PREPROCESSING***"
   ]
  },
  {
   "cell_type": "code",
   "execution_count": 4,
   "id": "52b003d2",
   "metadata": {
    "execution": {
     "iopub.execute_input": "2024-08-17T08:07:20.398740Z",
     "iopub.status.busy": "2024-08-17T08:07:20.398313Z",
     "iopub.status.idle": "2024-08-17T08:07:21.299069Z",
     "shell.execute_reply": "2024-08-17T08:07:21.297630Z"
    },
    "papermill": {
     "duration": 0.91148,
     "end_time": "2024-08-17T08:07:21.301844",
     "exception": false,
     "start_time": "2024-08-17T08:07:20.390364",
     "status": "completed"
    },
    "tags": []
   },
   "outputs": [],
   "source": [
    "features_to_drop = ['id']\n",
    "train = train.drop(features_to_drop, axis=1)"
   ]
  },
  {
   "cell_type": "code",
   "execution_count": 5,
   "id": "89663cc2",
   "metadata": {
    "execution": {
     "iopub.execute_input": "2024-08-17T08:07:21.317028Z",
     "iopub.status.busy": "2024-08-17T08:07:21.316534Z",
     "iopub.status.idle": "2024-08-17T08:07:21.742639Z",
     "shell.execute_reply": "2024-08-17T08:07:21.741286Z"
    },
    "papermill": {
     "duration": 0.437357,
     "end_time": "2024-08-17T08:07:21.745838",
     "exception": false,
     "start_time": "2024-08-17T08:07:21.308481",
     "status": "completed"
    },
    "tags": []
   },
   "outputs": [],
   "source": [
    "test_sub = test.drop(features_to_drop, axis=1)"
   ]
  },
  {
   "cell_type": "code",
   "execution_count": 6,
   "id": "04ce4c80",
   "metadata": {
    "execution": {
     "iopub.execute_input": "2024-08-17T08:07:21.761790Z",
     "iopub.status.busy": "2024-08-17T08:07:21.761346Z",
     "iopub.status.idle": "2024-08-17T08:07:24.331834Z",
     "shell.execute_reply": "2024-08-17T08:07:24.330425Z"
    },
    "papermill": {
     "duration": 2.582408,
     "end_time": "2024-08-17T08:07:24.334871",
     "exception": false,
     "start_time": "2024-08-17T08:07:21.752463",
     "status": "completed"
    },
    "tags": []
   },
   "outputs": [],
   "source": [
    "# Binarize the class labels\n",
    "train['class'] = train['class'].apply(lambda x: 0 if x == 'e' else 1)"
   ]
  },
  {
   "cell_type": "code",
   "execution_count": 7,
   "id": "427bd936",
   "metadata": {
    "execution": {
     "iopub.execute_input": "2024-08-17T08:07:24.350322Z",
     "iopub.status.busy": "2024-08-17T08:07:24.349851Z",
     "iopub.status.idle": "2024-08-17T08:07:24.977946Z",
     "shell.execute_reply": "2024-08-17T08:07:24.976853Z"
    },
    "papermill": {
     "duration": 0.639434,
     "end_time": "2024-08-17T08:07:24.980830",
     "exception": false,
     "start_time": "2024-08-17T08:07:24.341396",
     "status": "completed"
    },
    "tags": []
   },
   "outputs": [],
   "source": [
    "X = train.drop('class', axis=1)\n",
    "y = train['class']"
   ]
  },
  {
   "cell_type": "code",
   "execution_count": 8,
   "id": "c889bffc",
   "metadata": {
    "execution": {
     "iopub.execute_input": "2024-08-17T08:07:24.995957Z",
     "iopub.status.busy": "2024-08-17T08:07:24.995492Z",
     "iopub.status.idle": "2024-08-17T08:08:00.299160Z",
     "shell.execute_reply": "2024-08-17T08:08:00.297853Z"
    },
    "papermill": {
     "duration": 35.314978,
     "end_time": "2024-08-17T08:08:00.302352",
     "exception": false,
     "start_time": "2024-08-17T08:07:24.987374",
     "status": "completed"
    },
    "tags": []
   },
   "outputs": [],
   "source": [
    "cat = X.select_dtypes(include='object').columns.tolist()\n",
    "threshold = 5000\n",
    "\n",
    "for col in cat: \n",
    "    value_counts = X[col].value_counts()\n",
    "    labels = set(value_counts[value_counts > threshold].index)\n",
    "    \n",
    "    def preprocessor(x):\n",
    "        if x not in labels: \n",
    "            return 'other'\n",
    "        \n",
    "        return x \n",
    "    \n",
    "    X[col] = X[col].apply(preprocessor)\n",
    "    test_sub[col] = test_sub[col].apply(preprocessor)"
   ]
  },
  {
   "cell_type": "code",
   "execution_count": 9,
   "id": "2442a0e4",
   "metadata": {
    "execution": {
     "iopub.execute_input": "2024-08-17T08:08:00.317513Z",
     "iopub.status.busy": "2024-08-17T08:08:00.317066Z",
     "iopub.status.idle": "2024-08-17T08:08:12.421344Z",
     "shell.execute_reply": "2024-08-17T08:08:12.420090Z"
    },
    "papermill": {
     "duration": 12.11535,
     "end_time": "2024-08-17T08:08:12.424403",
     "exception": false,
     "start_time": "2024-08-17T08:08:00.309053",
     "status": "completed"
    },
    "tags": []
   },
   "outputs": [],
   "source": [
    "X = pd.get_dummies(X, columns=cat, drop_first=True)\n",
    "test_sub = pd.get_dummies(test_sub, columns=cat, drop_first=True)"
   ]
  },
  {
   "cell_type": "markdown",
   "id": "144bd016",
   "metadata": {
    "papermill": {
     "duration": 0.006108,
     "end_time": "2024-08-17T08:08:12.437327",
     "exception": false,
     "start_time": "2024-08-17T08:08:12.431219",
     "status": "completed"
    },
    "tags": []
   },
   "source": [
    "# ***MODEL PERFORMANCE***"
   ]
  },
  {
   "cell_type": "code",
   "execution_count": 10,
   "id": "71a69804",
   "metadata": {
    "execution": {
     "iopub.execute_input": "2024-08-17T08:08:12.452104Z",
     "iopub.status.busy": "2024-08-17T08:08:12.451570Z",
     "iopub.status.idle": "2024-08-17T08:08:33.745712Z",
     "shell.execute_reply": "2024-08-17T08:08:33.744328Z"
    },
    "papermill": {
     "duration": 21.30491,
     "end_time": "2024-08-17T08:08:33.748679",
     "exception": false,
     "start_time": "2024-08-17T08:08:12.443769",
     "status": "completed"
    },
    "tags": []
   },
   "outputs": [],
   "source": [
    "X = X.to_numpy()\n",
    "y = y.to_numpy()\n",
    "test_sub = test_sub.to_numpy()"
   ]
  },
  {
   "cell_type": "code",
   "execution_count": 11,
   "id": "8885608f",
   "metadata": {
    "execution": {
     "iopub.execute_input": "2024-08-17T08:08:33.763949Z",
     "iopub.status.busy": "2024-08-17T08:08:33.763483Z",
     "iopub.status.idle": "2024-08-17T08:08:36.009295Z",
     "shell.execute_reply": "2024-08-17T08:08:36.007916Z"
    },
    "papermill": {
     "duration": 2.256697,
     "end_time": "2024-08-17T08:08:36.012175",
     "exception": false,
     "start_time": "2024-08-17T08:08:33.755478",
     "status": "completed"
    },
    "tags": []
   },
   "outputs": [
    {
     "data": {
      "text/plain": [
       "<catboost.core.CatBoostClassifier at 0x7da41b3b64d0>"
      ]
     },
     "execution_count": 11,
     "metadata": {},
     "output_type": "execute_result"
    }
   ],
   "source": [
    "from catboost import CatBoostClassifier\n",
    "\n",
    "param_list = {'bagging_temperature':1.0, 'l2_leaf_reg': 2, 'depth':11, \n",
    "              'learning_rate': 0.29999999999999993, 'random_strength':1e-09}\n",
    "\n",
    "model = CatBoostClassifier(verbose=False)\n",
    "model.set_params(**param_list)"
   ]
  },
  {
   "cell_type": "code",
   "execution_count": 12,
   "id": "2963ffd5",
   "metadata": {
    "execution": {
     "iopub.execute_input": "2024-08-17T08:08:36.028280Z",
     "iopub.status.busy": "2024-08-17T08:08:36.027827Z",
     "iopub.status.idle": "2024-08-17T08:08:36.034522Z",
     "shell.execute_reply": "2024-08-17T08:08:36.033170Z"
    },
    "papermill": {
     "duration": 0.01832,
     "end_time": "2024-08-17T08:08:36.037454",
     "exception": false,
     "start_time": "2024-08-17T08:08:36.019134",
     "status": "completed"
    },
    "tags": []
   },
   "outputs": [],
   "source": [
    "# from catboost import CatBoostClassifier\n",
    "# from sklearn.model_selection import StratifiedKFold\n",
    "# from sklearn.metrics import matthews_corrcoef\n",
    "\n",
    "# param_list = {'bagging_temperature':1.0, 'l2_leaf_reg': 2, 'depth':11, \n",
    "#               'learning_rate': 0.29999999999999993, 'random_strength':1e-09}\n",
    "\n",
    "# model = CatBoostClassifier()\n",
    "# model.set_params(**param_list)\n",
    "\n",
    "# folds = 3\n",
    "# skfolds = StratifiedKFold(n_splits=folds)\n",
    "\n",
    "# total_mcc = []\n",
    "\n",
    "# for train_index, test_index in skfolds.split(X, y):\n",
    "#     X_train_folds, y_train_folds = X[train_index], y[train_index]\n",
    "#     X_test_folds, y_test_folds = X[test_index], y[test_index]\n",
    "    \n",
    "#     model.fit(X_train_folds, y_train_folds)\n",
    "#     y_pred_folds = model.predict(X_test_folds)\n",
    "    \n",
    "#     mcc = matthews_corrcoef(y_test_folds, y_pred_folds)\n",
    "#     total_mcc.append(mcc)\n",
    "    \n",
    "# mcc_cv = sum(total_mcc) / len(total_mcc)\n",
    "# mcc_cv"
   ]
  },
  {
   "cell_type": "code",
   "execution_count": 13,
   "id": "059b3f33",
   "metadata": {
    "execution": {
     "iopub.execute_input": "2024-08-17T08:08:36.054236Z",
     "iopub.status.busy": "2024-08-17T08:08:36.053765Z",
     "iopub.status.idle": "2024-08-17T08:08:36.060922Z",
     "shell.execute_reply": "2024-08-17T08:08:36.059109Z"
    },
    "papermill": {
     "duration": 0.019352,
     "end_time": "2024-08-17T08:08:36.064538",
     "exception": false,
     "start_time": "2024-08-17T08:08:36.045186",
     "status": "completed"
    },
    "tags": []
   },
   "outputs": [],
   "source": [
    "# from xgboost import XGBClassifier\n",
    "# from sklearn.metrics import make_scorer, matthews_corrcoef\n",
    "# from skopt import BayesSearchCV\n",
    "# from skopt.space import Real, Integer\n",
    "\n",
    "# search_spaces = {\n",
    "#     'depth': Integer(1, 12),\n",
    "#     'learning_rate': Real(0.01, 0.3, 'log-uniform'),\n",
    "#     'random_strength': Real(1e-9, 10, 'log-uniform'), # randomness for scoring splits\n",
    "#     'bagging_temperature': Real(0.0, 1.0), # settings of the Bayesian bootstrap\n",
    "#     'l2_leaf_reg': Integer(2, 100), # L2 regularization\n",
    "# }\n",
    "\n",
    "# # model = XGBClassifier(seed=42, param_grid=param_grid)\n",
    "# model = CatBoostClassifier(random_state=42, verbose=False)\n",
    "\n",
    "# grid_search = BayesSearchCV(estimator=model, search_spaces=search_spaces, \n",
    "#                             scoring='matthews_corrcoef', cv=3, verbose=3,\n",
    "#                             return_train_score=True)\n",
    "\n",
    "# grid_search.fit(X, y)\n",
    "# grid_search.best_params_"
   ]
  },
  {
   "cell_type": "markdown",
   "id": "6b5d7f7e",
   "metadata": {
    "papermill": {
     "duration": 0.006513,
     "end_time": "2024-08-17T08:08:36.078699",
     "exception": false,
     "start_time": "2024-08-17T08:08:36.072186",
     "status": "completed"
    },
    "tags": []
   },
   "source": [
    "# ***SUBMISSION***"
   ]
  },
  {
   "cell_type": "code",
   "execution_count": 14,
   "id": "8ff0b12e",
   "metadata": {
    "execution": {
     "iopub.execute_input": "2024-08-17T08:08:36.095067Z",
     "iopub.status.busy": "2024-08-17T08:08:36.093717Z",
     "iopub.status.idle": "2024-08-17T08:31:52.058203Z",
     "shell.execute_reply": "2024-08-17T08:31:52.056526Z"
    },
    "papermill": {
     "duration": 1395.981777,
     "end_time": "2024-08-17T08:31:52.067333",
     "exception": false,
     "start_time": "2024-08-17T08:08:36.085556",
     "status": "completed"
    },
    "tags": []
   },
   "outputs": [
    {
     "data": {
      "text/plain": [
       "<catboost.core.CatBoostClassifier at 0x7da41b3b64d0>"
      ]
     },
     "execution_count": 14,
     "metadata": {},
     "output_type": "execute_result"
    }
   ],
   "source": [
    "model.fit(X, y)"
   ]
  },
  {
   "cell_type": "code",
   "execution_count": 15,
   "id": "a4ed619e",
   "metadata": {
    "execution": {
     "iopub.execute_input": "2024-08-17T08:31:52.083362Z",
     "iopub.status.busy": "2024-08-17T08:31:52.082903Z",
     "iopub.status.idle": "2024-08-17T08:33:56.504295Z",
     "shell.execute_reply": "2024-08-17T08:33:56.502947Z"
    },
    "papermill": {
     "duration": 124.433038,
     "end_time": "2024-08-17T08:33:56.507288",
     "exception": false,
     "start_time": "2024-08-17T08:31:52.074250",
     "status": "completed"
    },
    "tags": []
   },
   "outputs": [],
   "source": [
    "pred_class = model.predict(test_sub)\n",
    "\n",
    "test['class'] = pred_class\n",
    "test['class'] = test['class'].apply(lambda x: 'e' if x == 0 else 'p')\n",
    "\n",
    "submission = test[['id', 'class']]"
   ]
  },
  {
   "cell_type": "code",
   "execution_count": 16,
   "id": "09f8ff27",
   "metadata": {
    "execution": {
     "iopub.execute_input": "2024-08-17T08:33:56.523786Z",
     "iopub.status.busy": "2024-08-17T08:33:56.523329Z",
     "iopub.status.idle": "2024-08-17T08:33:59.346864Z",
     "shell.execute_reply": "2024-08-17T08:33:59.345559Z"
    },
    "papermill": {
     "duration": 2.835579,
     "end_time": "2024-08-17T08:33:59.350252",
     "exception": false,
     "start_time": "2024-08-17T08:33:56.514673",
     "status": "completed"
    },
    "tags": []
   },
   "outputs": [],
   "source": [
    "submission.to_csv('/kaggle/working/VER7.csv', index=False)"
   ]
  }
 ],
 "metadata": {
  "kaggle": {
   "accelerator": "none",
   "dataSources": [
    {
     "databundleVersionId": 9045607,
     "sourceId": 76727,
     "sourceType": "competition"
    }
   ],
   "dockerImageVersionId": 30746,
   "isGpuEnabled": false,
   "isInternetEnabled": true,
   "language": "python",
   "sourceType": "notebook"
  },
  "kernelspec": {
   "display_name": "Python 3",
   "language": "python",
   "name": "python3"
  },
  "language_info": {
   "codemirror_mode": {
    "name": "ipython",
    "version": 3
   },
   "file_extension": ".py",
   "mimetype": "text/x-python",
   "name": "python",
   "nbconvert_exporter": "python",
   "pygments_lexer": "ipython3",
   "version": "3.10.13"
  },
  "papermill": {
   "default_parameters": {},
   "duration": 1627.654434,
   "end_time": "2024-08-17T08:34:02.285525",
   "environment_variables": {},
   "exception": null,
   "input_path": "__notebook__.ipynb",
   "output_path": "__notebook__.ipynb",
   "parameters": {},
   "start_time": "2024-08-17T08:06:54.631091",
   "version": "2.5.0"
  }
 },
 "nbformat": 4,
 "nbformat_minor": 5
}
