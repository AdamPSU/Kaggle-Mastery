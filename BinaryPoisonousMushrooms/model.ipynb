{
 "cells": [
  {
   "cell_type": "code",
   "execution_count": 1,
   "id": "86661b0c",
   "metadata": {
    "_cell_guid": "b1076dfc-b9ad-4769-8c92-a6c4dae69d19",
    "_kg_hide-input": true,
    "_kg_hide-output": true,
    "_uuid": "8f2839f25d086af736a60e9eeb907d3b93b6e0e5",
    "execution": {
     "iopub.execute_input": "2024-08-29T15:42:04.396555Z",
     "iopub.status.busy": "2024-08-29T15:42:04.396066Z",
     "iopub.status.idle": "2024-08-29T15:42:05.544745Z",
     "shell.execute_reply": "2024-08-29T15:42:05.543338Z"
    },
    "papermill": {
     "duration": 1.162149,
     "end_time": "2024-08-29T15:42:05.548912",
     "exception": false,
     "start_time": "2024-08-29T15:42:04.386763",
     "status": "completed"
    },
    "tags": []
   },
   "outputs": [
    {
     "name": "stdout",
     "output_type": "stream",
     "text": [
      "/kaggle/input/playground-series-s4e8/sample_submission.csv\n",
      "/kaggle/input/playground-series-s4e8/train.csv\n",
      "/kaggle/input/playground-series-s4e8/test.csv\n"
     ]
    }
   ],
   "source": [
    "import numpy as np # linear algebra\n",
    "import pandas as pd # data processing, CSV file I/O (e.g. pd.read_csv)\n",
    "\n",
    "import warnings\n",
    "warnings.filterwarnings('ignore')\n",
    "\n",
    "import os\n",
    "\n",
    "for dirname, _, filenames in os.walk('/kaggle/input'):\n",
    "    for filename in filenames:\n",
    "        print(os.path.join(dirname, filename))"
   ]
  },
  {
   "cell_type": "markdown",
   "id": "9a8bdde3",
   "metadata": {
    "papermill": {
     "duration": 0.007044,
     "end_time": "2024-08-29T15:42:05.564980",
     "exception": false,
     "start_time": "2024-08-29T15:42:05.557936",
     "status": "completed"
    },
    "tags": []
   },
   "source": [
    "Hi everyone! It's a little close to the end of the competition, and while my original intention was to make it to the top 15%, it looks like I didn't quite make the cut. Still, there is much to be happy about, as this competition proved to be an incredible learning experience. My solution fosters a voting ensemble of three models: XGBoost, CatBoost, and LightGBM. I am by no means an expert, so if you can point out any errors/flaws in my process, please let me know — I am  more than willing to take advice. "
   ]
  },
  {
   "cell_type": "code",
   "execution_count": 2,
   "id": "eb81ffdd",
   "metadata": {
    "_kg_hide-output": true,
    "execution": {
     "iopub.execute_input": "2024-08-29T15:42:05.582710Z",
     "iopub.status.busy": "2024-08-29T15:42:05.582080Z",
     "iopub.status.idle": "2024-08-29T15:42:23.356406Z",
     "shell.execute_reply": "2024-08-29T15:42:23.354514Z"
    },
    "papermill": {
     "duration": 17.786063,
     "end_time": "2024-08-29T15:42:23.359546",
     "exception": false,
     "start_time": "2024-08-29T15:42:05.573483",
     "status": "completed"
    },
    "tags": []
   },
   "outputs": [
    {
     "name": "stdout",
     "output_type": "stream",
     "text": [
      "Collecting ucimlrepo\r\n",
      "  Downloading ucimlrepo-0.0.7-py3-none-any.whl.metadata (5.5 kB)\r\n",
      "Requirement already satisfied: pandas>=1.0.0 in /opt/conda/lib/python3.10/site-packages (from ucimlrepo) (2.2.2)\r\n",
      "Requirement already satisfied: certifi>=2020.12.5 in /opt/conda/lib/python3.10/site-packages (from ucimlrepo) (2024.7.4)\r\n",
      "Requirement already satisfied: numpy>=1.22.4 in /opt/conda/lib/python3.10/site-packages (from pandas>=1.0.0->ucimlrepo) (1.26.4)\r\n",
      "Requirement already satisfied: python-dateutil>=2.8.2 in /opt/conda/lib/python3.10/site-packages (from pandas>=1.0.0->ucimlrepo) (2.9.0.post0)\r\n",
      "Requirement already satisfied: pytz>=2020.1 in /opt/conda/lib/python3.10/site-packages (from pandas>=1.0.0->ucimlrepo) (2023.3.post1)\r\n",
      "Requirement already satisfied: tzdata>=2022.7 in /opt/conda/lib/python3.10/site-packages (from pandas>=1.0.0->ucimlrepo) (2023.4)\r\n",
      "Requirement already satisfied: six>=1.5 in /opt/conda/lib/python3.10/site-packages (from python-dateutil>=2.8.2->pandas>=1.0.0->ucimlrepo) (1.16.0)\r\n",
      "Downloading ucimlrepo-0.0.7-py3-none-any.whl (8.0 kB)\r\n",
      "Installing collected packages: ucimlrepo\r\n",
      "Successfully installed ucimlrepo-0.0.7\r\n"
     ]
    }
   ],
   "source": [
    "!pip install ucimlrepo"
   ]
  },
  {
   "cell_type": "code",
   "execution_count": 3,
   "id": "09f08a68",
   "metadata": {
    "execution": {
     "iopub.execute_input": "2024-08-29T15:42:23.377427Z",
     "iopub.status.busy": "2024-08-29T15:42:23.376932Z",
     "iopub.status.idle": "2024-08-29T15:42:47.289839Z",
     "shell.execute_reply": "2024-08-29T15:42:47.288514Z"
    },
    "papermill": {
     "duration": 23.925888,
     "end_time": "2024-08-29T15:42:47.293189",
     "exception": false,
     "start_time": "2024-08-29T15:42:23.367301",
     "status": "completed"
    },
    "tags": []
   },
   "outputs": [],
   "source": [
    "from ucimlrepo import fetch_ucirepo \n",
    "\n",
    "original = fetch_ucirepo(id=848)['data']['original']\n",
    "\n",
    "train = pd.read_csv(\"/kaggle/input/playground-series-s4e8/train.csv\")\n",
    "test = pd.read_csv(\"/kaggle/input/playground-series-s4e8/test.csv\")\n",
    "test_id = test['id']\n",
    "\n",
    "train = train.drop('id', axis=1)\n",
    "test = test.drop('id', axis=1)"
   ]
  },
  {
   "cell_type": "markdown",
   "id": "95cb3e18",
   "metadata": {
    "papermill": {
     "duration": 0.007384,
     "end_time": "2024-08-29T15:42:47.309029",
     "exception": false,
     "start_time": "2024-08-29T15:42:47.301645",
     "status": "completed"
    },
    "tags": []
   },
   "source": [
    "# ***PREPROCESSING***\n",
    "\n",
    "My preprocessing takes a blends of strategies found in some of the top EDA notebooks. I combined the train and test set categories to promote label consistency, as it turns out the datasets weren't properly cleaned beforehand. Still, I believe there is merit in keeping unclean data in kaggle competitions; it closely mirrors inevitable human error that may occur in real datasets.\n",
    "\n",
    "Additionally, while I originally attempted to impute the mode for all missing columns, I (and some others) discovered that grouping these missing values into their own categories proved to be more beneficial for this competition. It may not have made the whole difference, but it made a difference nonetheless. \n",
    "\n",
    "Lastly, I took the liberty to convert categorical features into the 'category' datatype and float64 features into the 'float32' datatype in hopes of speeding things up in the longrun. I didn't measure the change in memory (and I should've), but I think this helped a tiny bit when hyperparameter tuning. "
   ]
  },
  {
   "cell_type": "code",
   "execution_count": 4,
   "id": "823b478e",
   "metadata": {
    "execution": {
     "iopub.execute_input": "2024-08-29T15:42:47.329505Z",
     "iopub.status.busy": "2024-08-29T15:42:47.329051Z",
     "iopub.status.idle": "2024-08-29T15:43:19.400487Z",
     "shell.execute_reply": "2024-08-29T15:43:19.399261Z"
    },
    "papermill": {
     "duration": 32.085428,
     "end_time": "2024-08-29T15:43:19.403721",
     "exception": false,
     "start_time": "2024-08-29T15:42:47.318293",
     "status": "completed"
    },
    "tags": []
   },
   "outputs": [],
   "source": [
    "def preprocess(train, test):\n",
    "    target = train['class']\n",
    "    train = train.drop('class', axis=1)\n",
    "    \n",
    "    combined = pd.concat([train, test], keys=['train', 'test'])\n",
    "    \n",
    "    cat_features = combined.select_dtypes(include='object').columns\n",
    "    float_features = combined.select_dtypes(include='float64').columns\n",
    "\n",
    "    for col in cat_features: \n",
    "        # https://www.kaggle.com/code/ambrosm/pss4e8-eda-which-makes-sense#Ensembling\n",
    "        valid_cat = original[col].unique().tolist()\n",
    "        combined.loc[~combined[col].isin(valid_cat), col] = np.nan\n",
    "        \n",
    "        combined[col] = combined[col].fillna('no bueno').astype('category')\n",
    "    \n",
    "    for col in float_features: \n",
    "        combined[col] = combined[col].astype('float32')\n",
    "        combined[col] = combined[col].fillna(combined[col].mean())\n",
    "        \n",
    "    new_train = combined.loc['train'].copy()\n",
    "    new_test = combined.loc['test'].copy()\n",
    "    \n",
    "    new_train['class'] = target\n",
    "    \n",
    "    return new_train, new_test\n",
    "\n",
    "train, test = preprocess(train, test)"
   ]
  },
  {
   "cell_type": "code",
   "execution_count": 5,
   "id": "f443bc24",
   "metadata": {
    "execution": {
     "iopub.execute_input": "2024-08-29T15:43:19.421356Z",
     "iopub.status.busy": "2024-08-29T15:43:19.420931Z",
     "iopub.status.idle": "2024-08-29T15:43:19.448183Z",
     "shell.execute_reply": "2024-08-29T15:43:19.446714Z"
    },
    "papermill": {
     "duration": 0.039308,
     "end_time": "2024-08-29T15:43:19.451192",
     "exception": false,
     "start_time": "2024-08-29T15:43:19.411884",
     "status": "completed"
    },
    "tags": []
   },
   "outputs": [],
   "source": [
    "X = train.drop(['class'], axis=1)\n",
    "y = train['class']"
   ]
  },
  {
   "cell_type": "markdown",
   "id": "c97a1660",
   "metadata": {
    "papermill": {
     "duration": 0.007851,
     "end_time": "2024-08-29T15:43:19.467211",
     "exception": false,
     "start_time": "2024-08-29T15:43:19.459360",
     "status": "completed"
    },
    "tags": []
   },
   "source": [
    "Here, we encode the response variable into what the machine can understand (0's and 1's) and one-hot encode the categorical features. "
   ]
  },
  {
   "cell_type": "code",
   "execution_count": 6,
   "id": "4e8eb191",
   "metadata": {
    "execution": {
     "iopub.execute_input": "2024-08-29T15:43:19.485644Z",
     "iopub.status.busy": "2024-08-29T15:43:19.484596Z",
     "iopub.status.idle": "2024-08-29T15:44:07.539779Z",
     "shell.execute_reply": "2024-08-29T15:44:07.538227Z"
    },
    "papermill": {
     "duration": 48.068256,
     "end_time": "2024-08-29T15:44:07.543405",
     "exception": false,
     "start_time": "2024-08-29T15:43:19.475149",
     "status": "completed"
    },
    "tags": []
   },
   "outputs": [],
   "source": [
    "from sklearn.preprocessing import OneHotEncoder, LabelEncoder\n",
    "from sklearn.compose import ColumnTransformer\n",
    "\n",
    "le = LabelEncoder()\n",
    "y = le.fit_transform(y)\n",
    "\n",
    "cat_features = X.select_dtypes(include='category').columns\n",
    "\n",
    "encoder = OneHotEncoder(drop='first', handle_unknown='ignore')\n",
    "transformer = ColumnTransformer([('encoder', encoder, cat_features)],\n",
    "                                  remainder='passthrough')\n",
    "\n",
    "X = transformer.fit_transform(X)\n",
    "test = transformer.transform(test)"
   ]
  },
  {
   "cell_type": "markdown",
   "id": "61fa5175",
   "metadata": {
    "papermill": {
     "duration": 0.008091,
     "end_time": "2024-08-29T15:44:07.559847",
     "exception": false,
     "start_time": "2024-08-29T15:44:07.551756",
     "status": "completed"
    },
    "tags": []
   },
   "source": [
    "I was pretty surprised and upset that I didn't discover this sooner, but it turns out that the MCC can be sped up quite considerably (one kaggler promised an ~ 8 second speedup) over sklearn's implementation of the metric. Not entirely sure what goes on in the sklearn side of things that makes this metric so much slower, but hey, it's not up to me. "
   ]
  },
  {
   "cell_type": "code",
   "execution_count": 7,
   "id": "5aba3e86",
   "metadata": {
    "execution": {
     "iopub.execute_input": "2024-08-29T15:44:07.577791Z",
     "iopub.status.busy": "2024-08-29T15:44:07.577309Z",
     "iopub.status.idle": "2024-08-29T15:44:07.703360Z",
     "shell.execute_reply": "2024-08-29T15:44:07.701878Z"
    },
    "papermill": {
     "duration": 0.138714,
     "end_time": "2024-08-29T15:44:07.706521",
     "exception": false,
     "start_time": "2024-08-29T15:44:07.567807",
     "status": "completed"
    },
    "tags": []
   },
   "outputs": [],
   "source": [
    "from sklearn.metrics import make_scorer\n",
    "\n",
    "# https://www.kaggle.com/competitions/playground-series-s4e8/discussion/528193\n",
    "def matthews_corrcoef_fast(y_true, y_pred):\n",
    "    return np.corrcoef(y_true, y_pred)[0,1]\n",
    "\n",
    "fast_mcc = make_scorer(matthews_corrcoef_fast)"
   ]
  },
  {
   "cell_type": "code",
   "execution_count": 8,
   "id": "64f17ccc",
   "metadata": {
    "execution": {
     "iopub.execute_input": "2024-08-29T15:44:07.724530Z",
     "iopub.status.busy": "2024-08-29T15:44:07.724087Z",
     "iopub.status.idle": "2024-08-29T15:44:07.750387Z",
     "shell.execute_reply": "2024-08-29T15:44:07.749096Z"
    },
    "papermill": {
     "duration": 0.038849,
     "end_time": "2024-08-29T15:44:07.753461",
     "exception": false,
     "start_time": "2024-08-29T15:44:07.714612",
     "status": "completed"
    },
    "tags": []
   },
   "outputs": [],
   "source": [
    "from sklearn.model_selection import train_test_split \n",
    "\n",
    "def split_fit_predict(model, X, y):\n",
    "    \"\"\"\n",
    "    Perform a simple train-test split, fit the model, and provide\n",
    "    an MCC. To be used in hyperparameter tuning.\n",
    "    \"\"\"\n",
    "    \n",
    "    X_train, X_test, y_train, y_test = train_test_split(X, y, test_size=0.2, random_state=42) \n",
    "    \n",
    "    model.fit(X_train, y_train)\n",
    "    y_pred = model.predict(X_test)\n",
    "    \n",
    "    mcc = matthews_corrcoef_fast(y_test, y_pred)\n",
    "    print(f'MCC: {mcc:.5f}' + ' '*8 + '-'*50) # Linebreak\n",
    "        \n",
    "    return mcc "
   ]
  },
  {
   "cell_type": "markdown",
   "id": "14a0290c",
   "metadata": {
    "papermill": {
     "duration": 0.008271,
     "end_time": "2024-08-29T15:44:07.771037",
     "exception": false,
     "start_time": "2024-08-29T15:44:07.762766",
     "status": "completed"
    },
    "tags": []
   },
   "source": [
    "# ***HYPERPARAMETER TUNING***\n",
    "\n",
    "As I mentioned, I am not an expert. For this competition, I pretty much learned all there is to know about the most common approaches for hyperparameter tuning. I cycled between sklearn's GridSearchCV and skopt's BayesSearchCV, but ultimately ended up with Optuna after a few recommendations. I've sampled the hyperparameters used for XGBoost below, but forks of this notebook ran in parallel for my XGB, CATB, and LGBM models. Hyperparameters for this model were selected to the best of my ability, but I admit I do not quite yet understand these models well enough to make informed decisions on the best parameters to tune. I'd like to thank @tilii7 for some help on this aspect of the competition."
   ]
  },
  {
   "cell_type": "code",
   "execution_count": 9,
   "id": "060f8f86",
   "metadata": {
    "execution": {
     "iopub.execute_input": "2024-08-29T15:44:07.790413Z",
     "iopub.status.busy": "2024-08-29T15:44:07.789972Z",
     "iopub.status.idle": "2024-08-29T15:44:07.797188Z",
     "shell.execute_reply": "2024-08-29T15:44:07.795761Z"
    },
    "papermill": {
     "duration": 0.020624,
     "end_time": "2024-08-29T15:44:07.800226",
     "exception": false,
     "start_time": "2024-08-29T15:44:07.779602",
     "status": "completed"
    },
    "tags": []
   },
   "outputs": [],
   "source": [
    "# import optuna\n",
    "# from xgboost import XGBClassifier\n",
    "\n",
    "# # https://www.kaggle.com/code/bextuychiev/no-bs-guide-to-hyperparameter-tuning-with-optuna\n",
    "# def objective(trial):\n",
    "#     params = {\n",
    "#             'n_estimators': trial.suggest_int('n_estimators', 100, 1000),\n",
    "#             'max_depth': trial.suggest_int('max_depth', 3, 20),\n",
    "#             'learning_rate': trial.suggest_float('learning_rate', 0.01, 0.3, log=True),\n",
    "#             'subsample': trial.suggest_float('subsample', 0.5, 1.0),\n",
    "#             'colsample_bytree': trial.suggest_float('colsample_bytree', 0.5, 1.0),\n",
    "#             'gamma': trial.suggest_float('gamma', 1e-8, 1.0, log=True),\n",
    "#             'lambda': trial.suggest_float('lambda', 1e-8, 10.0, log=True),\n",
    "#             'alpha': trial.suggest_float('alpha', 1e-8, 10.0, log=True),\n",
    "#             'scale_pos_weight': trial.suggest_float('scale_pos_weight', 1.0, 10.0, log=True)\n",
    "#         }\n",
    "\n",
    "#     model = XGBClassifier(seed=42, **params)\n",
    "#     mcc = split_fit_predict(model, X, y) \n",
    "    \n",
    "#     return mcc "
   ]
  },
  {
   "cell_type": "code",
   "execution_count": 10,
   "id": "3cbbd9d5",
   "metadata": {
    "execution": {
     "iopub.execute_input": "2024-08-29T15:44:07.818668Z",
     "iopub.status.busy": "2024-08-29T15:44:07.818185Z",
     "iopub.status.idle": "2024-08-29T15:44:07.824411Z",
     "shell.execute_reply": "2024-08-29T15:44:07.823027Z"
    },
    "papermill": {
     "duration": 0.019108,
     "end_time": "2024-08-29T15:44:07.827486",
     "exception": false,
     "start_time": "2024-08-29T15:44:07.808378",
     "status": "completed"
    },
    "tags": []
   },
   "outputs": [],
   "source": [
    "# study = optuna.create_study(direction='maximize')\n",
    "# study.optimize(objective, n_trials=1000, timeout=39600) # 11 hours\n",
    "# trial = study.best_trial\n",
    "\n",
    "# print(f\"Number of finished trials: {len(study.trials)}\")"
   ]
  },
  {
   "cell_type": "markdown",
   "id": "2b5eed27",
   "metadata": {
    "papermill": {
     "duration": 0.00778,
     "end_time": "2024-08-29T15:44:07.843462",
     "exception": false,
     "start_time": "2024-08-29T15:44:07.835682",
     "status": "completed"
    },
    "tags": []
   },
   "source": [
    "# ***ENSEMBLING***\n",
    "First, let's define a simple cross-validation function to test model performance. "
   ]
  },
  {
   "cell_type": "code",
   "execution_count": 11,
   "id": "9b6a157d",
   "metadata": {
    "execution": {
     "iopub.execute_input": "2024-08-29T15:44:07.863302Z",
     "iopub.status.busy": "2024-08-29T15:44:07.862725Z",
     "iopub.status.idle": "2024-08-29T15:44:07.872868Z",
     "shell.execute_reply": "2024-08-29T15:44:07.871271Z"
    },
    "papermill": {
     "duration": 0.024026,
     "end_time": "2024-08-29T15:44:07.876033",
     "exception": false,
     "start_time": "2024-08-29T15:44:07.852007",
     "status": "completed"
    },
    "tags": []
   },
   "outputs": [],
   "source": [
    "from sklearn.model_selection import StratifiedKFold\n",
    "\n",
    "skfolds = StratifiedKFold(n_splits=3, shuffle=True, random_state=42)\n",
    "\n",
    "def mcc_cv(model, X, y):\n",
    "    \"\"\"\n",
    "    Stratified 3-fold cross validation with MCC as the scoring\n",
    "    metric. Prints the CV number and MCC for each fold. \n",
    "    \"\"\"\n",
    "    mcc_sum = 0\n",
    "\n",
    "    for fold, (train_index, test_index) in enumerate(skfolds.split(X, y)): \n",
    "        X_train_folds, y_train_folds = X[train_index], y[train_index]\n",
    "        X_test_fold, y_test_fold = X[test_index], y[test_index]\n",
    "        \n",
    "        model.fit(X_train_folds, y_train_folds)\n",
    "        y_pred_fold = model.predict(X_test_fold)\n",
    "        \n",
    "        mcc = matthews_corrcoef_fast(y_test_fold, y_pred_fold)\n",
    "        \n",
    "        print(f\"CV: {fold+1}/3. MCC: {mcc}.\")\n",
    "        mcc_sum += mcc\n",
    "                    \n",
    "    return mcc_sum / 3"
   ]
  },
  {
   "cell_type": "code",
   "execution_count": 12,
   "id": "dfe15620",
   "metadata": {
    "_kg_hide-input": true,
    "execution": {
     "iopub.execute_input": "2024-08-29T15:44:07.894638Z",
     "iopub.status.busy": "2024-08-29T15:44:07.894156Z",
     "iopub.status.idle": "2024-08-29T15:44:07.905666Z",
     "shell.execute_reply": "2024-08-29T15:44:07.904259Z"
    },
    "papermill": {
     "duration": 0.024211,
     "end_time": "2024-08-29T15:44:07.908606",
     "exception": false,
     "start_time": "2024-08-29T15:44:07.884395",
     "status": "completed"
    },
    "tags": []
   },
   "outputs": [],
   "source": [
    "catb_params = {'iterations': 998,\n",
    "               'depth': 12,\n",
    "               'learning_rate': 0.027217341550328074,\n",
    "               'subsample': 0.9925314893125786,\n",
    "               'colsample_bylevel': 0.2013552770915636,\n",
    "               'min_child_samples': 58,\n",
    "               'reg_lambda': 0.03351906637892442,\n",
    "               'random_strength': 3.26894334350654e-06,\n",
    "               'scale_pos_weight': 1.0047296624414477,\n",
    "               'max_bin': 2029,\n",
    "               'grow_policy': 'SymmetricTree'}\n",
    "\n",
    "lgbm_params = {'n_estimators': 679, \n",
    "               'max_depth': 16,\n",
    "               'learning_rate': 0.07568390710874888,\n",
    "               'subsample': 0.3154861476124139,\n",
    "               'colsample_bytree': 0.590958978613878,\n",
    "               'min_child_samples': 40, \n",
    "               'reg_lambda': 2.8406954934626265, \n",
    "               'reg_alpha': 3.9253650491020436e-08, \n",
    "               'scale_pos_weight': 1.006404258824218, \n",
    "               'num_leaves': 731, \n",
    "               'feature_fraction': 0.2931010583859128, \n",
    "               'bagging_fraction': 0.9627359563866602, \n",
    "               'bagging_freq': 3,\n",
    "               'boosting_type': 'gbdt'}\n",
    "\n",
    "xgb_params = {'n_estimators': 866,\n",
    "              'max_depth': 20, \n",
    "              'learning_rate': 0.020293657731919768, \n",
    "              'subsample': 0.6918499150810423, \n",
    "              'colsample_bytree': 0.36422864453573944,\n",
    "              'gamma': 6.739821170460403e-07, \n",
    "              'lambda': 2.0780571409806596e-06, \n",
    "              'alpha': 0.8181170074617319, \n",
    "              'scale_pos_weight': 1.0498070510623436, \n",
    "              'max_bin': 1879,\n",
    "              'grow_policy': 'lossguide',\n",
    "              'tree_method': 'hist'}"
   ]
  },
  {
   "cell_type": "code",
   "execution_count": 13,
   "id": "f78991f9",
   "metadata": {
    "execution": {
     "iopub.execute_input": "2024-08-29T15:44:07.927905Z",
     "iopub.status.busy": "2024-08-29T15:44:07.927451Z",
     "iopub.status.idle": "2024-08-29T15:44:10.033285Z",
     "shell.execute_reply": "2024-08-29T15:44:10.031895Z"
    },
    "papermill": {
     "duration": 2.119375,
     "end_time": "2024-08-29T15:44:10.036368",
     "exception": false,
     "start_time": "2024-08-29T15:44:07.916993",
     "status": "completed"
    },
    "tags": []
   },
   "outputs": [],
   "source": [
    "from catboost import CatBoostClassifier\n",
    "from lightgbm import LGBMClassifier\n",
    "from xgboost import XGBClassifier\n",
    "\n",
    "# Construct the models for the vote ensemble\n",
    "catb = CatBoostClassifier(random_state = 42, verbose = False, **catb_params)\n",
    "xgb = XGBClassifier(seed=42, **xgb_params)\n",
    "lgbm = LGBMClassifier(random_state=42, verbose=-1, **lgbm_params)"
   ]
  },
  {
   "cell_type": "code",
   "execution_count": 14,
   "id": "cec8d762",
   "metadata": {
    "execution": {
     "iopub.execute_input": "2024-08-29T15:44:10.056132Z",
     "iopub.status.busy": "2024-08-29T15:44:10.055437Z",
     "iopub.status.idle": "2024-08-29T19:05:00.377265Z",
     "shell.execute_reply": "2024-08-29T19:05:00.375591Z"
    },
    "papermill": {
     "duration": 12050.347035,
     "end_time": "2024-08-29T19:05:00.392513",
     "exception": false,
     "start_time": "2024-08-29T15:44:10.045478",
     "status": "completed"
    },
    "tags": []
   },
   "outputs": [
    {
     "name": "stdout",
     "output_type": "stream",
     "text": [
      "CV: 1/3. MCC: 0.9846036760241795.\n",
      "CV: 2/3. MCC: 0.984782402397219.\n",
      "CV: 3/3. MCC: 0.9846647109427783.\n",
      "0.9846835964547256\n"
     ]
    }
   ],
   "source": [
    "from sklearn.ensemble import VotingClassifier\n",
    "\n",
    "gbm_ensemble = VotingClassifier(\n",
    "    estimators=[\n",
    "        ('xgb', xgb),\n",
    "        ('lgbm', lgbm),\n",
    "        ('catb', catb)\n",
    "    ]\n",
    ")\n",
    "\n",
    "mcc = mcc_cv(gbm_ensemble, X, y)\n",
    "print(mcc)"
   ]
  },
  {
   "cell_type": "markdown",
   "id": "68ded93f",
   "metadata": {
    "papermill": {
     "duration": 0.008518,
     "end_time": "2024-08-29T19:05:00.409717",
     "exception": false,
     "start_time": "2024-08-29T19:05:00.401199",
     "status": "completed"
    },
    "tags": []
   },
   "source": [
    "# ***SUBMISSION***"
   ]
  },
  {
   "cell_type": "code",
   "execution_count": 15,
   "id": "fac4ca22",
   "metadata": {
    "execution": {
     "iopub.execute_input": "2024-08-29T19:05:00.429379Z",
     "iopub.status.busy": "2024-08-29T19:05:00.428956Z",
     "iopub.status.idle": "2024-08-29T21:04:31.007115Z",
     "shell.execute_reply": "2024-08-29T21:04:31.003731Z"
    },
    "papermill": {
     "duration": 7170.593992,
     "end_time": "2024-08-29T21:04:31.012482",
     "exception": false,
     "start_time": "2024-08-29T19:05:00.418490",
     "status": "completed"
    },
    "tags": []
   },
   "outputs": [],
   "source": [
    "gbm_ensemble.fit(X, y)\n",
    "y_pred = gbm_ensemble.predict(test)\n",
    "\n",
    "submission = pd.DataFrame()\n",
    "submission['id'] = test_id\n",
    "submission['class'] = le.inverse_transform(y_pred)"
   ]
  },
  {
   "cell_type": "code",
   "execution_count": 16,
   "id": "c013a6f8",
   "metadata": {
    "execution": {
     "iopub.execute_input": "2024-08-29T21:04:31.036923Z",
     "iopub.status.busy": "2024-08-29T21:04:31.035630Z",
     "iopub.status.idle": "2024-08-29T21:04:34.025369Z",
     "shell.execute_reply": "2024-08-29T21:04:34.024099Z"
    },
    "papermill": {
     "duration": 3.005572,
     "end_time": "2024-08-29T21:04:34.029108",
     "exception": false,
     "start_time": "2024-08-29T21:04:31.023536",
     "status": "completed"
    },
    "tags": []
   },
   "outputs": [],
   "source": [
    "submission.to_csv('/kaggle/working/VOTING_ENSEMBLE.csv', index=False)"
   ]
  }
 ],
 "metadata": {
  "kaggle": {
   "accelerator": "none",
   "dataSources": [
    {
     "databundleVersionId": 9045607,
     "sourceId": 76727,
     "sourceType": "competition"
    }
   ],
   "dockerImageVersionId": 30746,
   "isGpuEnabled": false,
   "isInternetEnabled": true,
   "language": "python",
   "sourceType": "notebook"
  },
  "kernelspec": {
   "display_name": "Python 3",
   "language": "python",
   "name": "python3"
  },
  "language_info": {
   "codemirror_mode": {
    "name": "ipython",
    "version": 3
   },
   "file_extension": ".py",
   "mimetype": "text/x-python",
   "name": "python",
   "nbconvert_exporter": "python",
   "pygments_lexer": "ipython3",
   "version": "3.10.13"
  },
  "papermill": {
   "default_parameters": {},
   "duration": 19355.29686,
   "end_time": "2024-08-29T21:04:35.714337",
   "environment_variables": {},
   "exception": null,
   "input_path": "__notebook__.ipynb",
   "output_path": "__notebook__.ipynb",
   "parameters": {},
   "start_time": "2024-08-29T15:42:00.417477",
   "version": "2.5.0"
  }
 },
 "nbformat": 4,
 "nbformat_minor": 5
}
