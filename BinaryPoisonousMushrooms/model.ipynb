{
 "cells": [
  {
   "cell_type": "code",
   "execution_count": 1,
   "id": "c263c63d",
   "metadata": {
    "_cell_guid": "b1076dfc-b9ad-4769-8c92-a6c4dae69d19",
    "_uuid": "8f2839f25d086af736a60e9eeb907d3b93b6e0e5",
    "execution": {
     "iopub.execute_input": "2024-08-18T22:49:48.255831Z",
     "iopub.status.busy": "2024-08-18T22:49:48.254798Z",
     "iopub.status.idle": "2024-08-18T22:49:49.182966Z",
     "shell.execute_reply": "2024-08-18T22:49:49.181499Z"
    },
    "papermill": {
     "duration": 0.937117,
     "end_time": "2024-08-18T22:49:49.185411",
     "exception": false,
     "start_time": "2024-08-18T22:49:48.248294",
     "status": "completed"
    },
    "tags": []
   },
   "outputs": [
    {
     "name": "stdout",
     "output_type": "stream",
     "text": [
      "/kaggle/input/playground-series-s4e8/sample_submission.csv\n",
      "/kaggle/input/playground-series-s4e8/train.csv\n",
      "/kaggle/input/playground-series-s4e8/test.csv\n"
     ]
    }
   ],
   "source": [
    "import numpy as np # linear algebra\n",
    "import pandas as pd # data processing, CSV file I/O (e.g. pd.read_csv)\n",
    "\n",
    "import warnings\n",
    "warnings.filterwarnings('ignore')\n",
    "\n",
    "import os\n",
    "\n",
    "for dirname, _, filenames in os.walk('/kaggle/input'):\n",
    "    for filename in filenames:\n",
    "        print(os.path.join(dirname, filename))"
   ]
  },
  {
   "cell_type": "code",
   "execution_count": 2,
   "id": "fc089f8b",
   "metadata": {
    "execution": {
     "iopub.execute_input": "2024-08-18T22:49:49.196533Z",
     "iopub.status.busy": "2024-08-18T22:49:49.196033Z",
     "iopub.status.idle": "2024-08-18T22:50:09.050400Z",
     "shell.execute_reply": "2024-08-18T22:50:09.049122Z"
    },
    "papermill": {
     "duration": 19.862797,
     "end_time": "2024-08-18T22:50:09.052987",
     "exception": false,
     "start_time": "2024-08-18T22:49:49.190190",
     "status": "completed"
    },
    "tags": []
   },
   "outputs": [],
   "source": [
    "train = pd.read_csv(\"/kaggle/input/playground-series-s4e8/train.csv\")\n",
    "test = pd.read_csv(\"/kaggle/input/playground-series-s4e8/test.csv\")\n",
    "\n",
    "test_id = test['id']"
   ]
  },
  {
   "cell_type": "markdown",
   "id": "47e0f8ea",
   "metadata": {
    "papermill": {
     "duration": 0.004491,
     "end_time": "2024-08-18T22:50:09.062310",
     "exception": false,
     "start_time": "2024-08-18T22:50:09.057819",
     "status": "completed"
    },
    "tags": []
   },
   "source": [
    "# ***PREPROCESSING***"
   ]
  },
  {
   "cell_type": "code",
   "execution_count": 3,
   "id": "b1bf6a37",
   "metadata": {
    "execution": {
     "iopub.execute_input": "2024-08-18T22:50:09.073321Z",
     "iopub.status.busy": "2024-08-18T22:50:09.072925Z",
     "iopub.status.idle": "2024-08-18T22:50:35.172674Z",
     "shell.execute_reply": "2024-08-18T22:50:35.171304Z"
    },
    "papermill": {
     "duration": 26.109017,
     "end_time": "2024-08-18T22:50:35.176038",
     "exception": false,
     "start_time": "2024-08-18T22:50:09.067021",
     "status": "completed"
    },
    "tags": []
   },
   "outputs": [],
   "source": [
    "def preprocess(train, test):\n",
    "    target = train['class']\n",
    "    train = train.drop('class', axis=1)\n",
    "    \n",
    "    combined = pd.concat([train, test], keys=['train', 'test'])\n",
    "    cat_features = combined.select_dtypes(include='object').columns\n",
    "\n",
    "    for col in cat_features: \n",
    "        combined[col] = combined[col].fillna('missing').astype('category')\n",
    "        \n",
    "    new_train = combined.loc['train'].copy()\n",
    "    new_test = combined.loc['test'].copy()\n",
    "    \n",
    "    new_train['class'] = target\n",
    "    \n",
    "    return new_train, new_test\n",
    "\n",
    "train, test = preprocess(train, test)"
   ]
  },
  {
   "cell_type": "code",
   "execution_count": 4,
   "id": "2f41c18c",
   "metadata": {
    "execution": {
     "iopub.execute_input": "2024-08-18T22:50:35.192981Z",
     "iopub.status.busy": "2024-08-18T22:50:35.191896Z",
     "iopub.status.idle": "2024-08-18T22:50:35.232690Z",
     "shell.execute_reply": "2024-08-18T22:50:35.231484Z"
    },
    "papermill": {
     "duration": 0.051834,
     "end_time": "2024-08-18T22:50:35.235453",
     "exception": false,
     "start_time": "2024-08-18T22:50:35.183619",
     "status": "completed"
    },
    "tags": []
   },
   "outputs": [],
   "source": [
    "X = train.drop(['class', 'id'], axis=1)\n",
    "y = train['class']"
   ]
  },
  {
   "cell_type": "code",
   "execution_count": 5,
   "id": "618189dc",
   "metadata": {
    "execution": {
     "iopub.execute_input": "2024-08-18T22:50:35.246755Z",
     "iopub.status.busy": "2024-08-18T22:50:35.246333Z",
     "iopub.status.idle": "2024-08-18T22:50:37.056992Z",
     "shell.execute_reply": "2024-08-18T22:50:37.055898Z"
    },
    "papermill": {
     "duration": 1.819332,
     "end_time": "2024-08-18T22:50:37.059560",
     "exception": false,
     "start_time": "2024-08-18T22:50:35.240228",
     "status": "completed"
    },
    "tags": []
   },
   "outputs": [],
   "source": [
    "from sklearn.preprocessing import OneHotEncoder, LabelEncoder\n",
    "from sklearn.compose import ColumnTransformer\n",
    "\n",
    "cat_features = X.select_dtypes(include='category').columns\n",
    "\n",
    "encoder = OneHotEncoder(drop='first', handle_unknown='ignore')\n",
    "transformer = ColumnTransformer([('encoder', encoder, cat_features)],\n",
    "                                  remainder='passthrough')\n",
    "\n",
    "le = LabelEncoder()\n",
    "y = le.fit_transform(y)"
   ]
  },
  {
   "cell_type": "code",
   "execution_count": 6,
   "id": "652d89c7",
   "metadata": {
    "execution": {
     "iopub.execute_input": "2024-08-18T22:50:37.070587Z",
     "iopub.status.busy": "2024-08-18T22:50:37.069873Z",
     "iopub.status.idle": "2024-08-18T22:51:19.512376Z",
     "shell.execute_reply": "2024-08-18T22:51:19.510984Z"
    },
    "papermill": {
     "duration": 42.451106,
     "end_time": "2024-08-18T22:51:19.515351",
     "exception": false,
     "start_time": "2024-08-18T22:50:37.064245",
     "status": "completed"
    },
    "tags": []
   },
   "outputs": [],
   "source": [
    "X = transformer.fit_transform(X)\n",
    "test = transformer.transform(test)"
   ]
  },
  {
   "cell_type": "markdown",
   "id": "949c4651",
   "metadata": {
    "papermill": {
     "duration": 0.004384,
     "end_time": "2024-08-18T22:51:19.524617",
     "exception": false,
     "start_time": "2024-08-18T22:51:19.520233",
     "status": "completed"
    },
    "tags": []
   },
   "source": [
    "# ***HYPERPARAMETER TUNING***"
   ]
  },
  {
   "cell_type": "markdown",
   "id": "491a332b",
   "metadata": {
    "papermill": {
     "duration": 0.004251,
     "end_time": "2024-08-18T22:51:19.533620",
     "exception": false,
     "start_time": "2024-08-18T22:51:19.529369",
     "status": "completed"
    },
    "tags": []
   },
   "source": [
    "### ***XGBOOST***"
   ]
  },
  {
   "cell_type": "code",
   "execution_count": 7,
   "id": "99882c81",
   "metadata": {
    "execution": {
     "iopub.execute_input": "2024-08-18T22:51:19.545396Z",
     "iopub.status.busy": "2024-08-18T22:51:19.544320Z",
     "iopub.status.idle": "2024-08-18T22:51:20.285012Z",
     "shell.execute_reply": "2024-08-18T22:51:20.283641Z"
    },
    "papermill": {
     "duration": 0.749573,
     "end_time": "2024-08-18T22:51:20.287782",
     "exception": false,
     "start_time": "2024-08-18T22:51:19.538209",
     "status": "completed"
    },
    "tags": []
   },
   "outputs": [],
   "source": [
    "from xgboost import XGBClassifier\n",
    "\n",
    "from skopt import BayesSearchCV\n",
    "from skopt.space import Real, Integer\n",
    "\n",
    "search_spaces = {\n",
    "    'max_depth': Integer(1, 14),\n",
    "    'colsample_bytree': Real(0.1, 1),\n",
    "    'colsample_bylevel': Real(0.1, 1),\n",
    "    'learning_rate': Real(0.01, 0.3, 'log-uniform'),\n",
    "    'n_estimators': Integer(50, 1500),\n",
    "    'gamma': Real(1e-05, 1, 'log-uniform'),\n",
    "    'reg_lambda': Real(1e-05, 1e+03, 'log-uniform'),\n",
    "    'reg_alpha': Real(1e-05, 1e+03, 'log-uniform'),\n",
    "    'min_child_weight': Integer(1, 10),\n",
    "    'subsample': Real(0.5, 1)\n",
    "}\n",
    "\n",
    "xgb = XGBClassifier(seed=42, param_grid=search_spaces)\n",
    "bayes_search = BayesSearchCV(estimator=xgb, search_spaces=search_spaces, \n",
    "                            scoring='matthews_corrcoef', cv=3, verbose=3,\n",
    "                            return_train_score=True)\n",
    "\n",
    "# bayes_search.fit(X, y)\n",
    "# bayes_search.best_params_"
   ]
  },
  {
   "cell_type": "markdown",
   "id": "d885100b",
   "metadata": {
    "papermill": {
     "duration": 0.00442,
     "end_time": "2024-08-18T22:51:20.298045",
     "exception": false,
     "start_time": "2024-08-18T22:51:20.293625",
     "status": "completed"
    },
    "tags": []
   },
   "source": [
    "# ***MODEL PERFORMANCE***"
   ]
  },
  {
   "cell_type": "code",
   "execution_count": 8,
   "id": "d54e4b7e",
   "metadata": {
    "execution": {
     "iopub.execute_input": "2024-08-18T22:51:20.309459Z",
     "iopub.status.busy": "2024-08-18T22:51:20.309044Z",
     "iopub.status.idle": "2024-08-18T22:51:20.317721Z",
     "shell.execute_reply": "2024-08-18T22:51:20.316473Z"
    },
    "papermill": {
     "duration": 0.01737,
     "end_time": "2024-08-18T22:51:20.320197",
     "exception": false,
     "start_time": "2024-08-18T22:51:20.302827",
     "status": "completed"
    },
    "tags": []
   },
   "outputs": [],
   "source": [
    "from sklearn.model_selection import StratifiedKFold\n",
    "from sklearn.metrics import matthews_corrcoef\n",
    "\n",
    "folds = 3 \n",
    "skfolds = StratifiedKFold(n_splits=folds)\n",
    "\n",
    "def CV(model, X, y):\n",
    "    mcc_sum = 0\n",
    "    count = 0\n",
    "    \n",
    "    for train_index, test_index in skfolds.split(X, y): \n",
    "        X_train_folds, y_train_folds = X[train_index], y[train_index]\n",
    "        X_test_fold, y_test_fold = X[test_index], y[test_index]\n",
    "        \n",
    "        model.fit(X_train_folds, y_train_folds) \n",
    "        y_pred_fold = model.predict(X_test_fold)\n",
    "        \n",
    "        mcc = matthews_corrcoef(y_test_fold, y_pred_fold)\n",
    "        mcc_sum += mcc\n",
    "        count += 1\n",
    "\n",
    "        print(f\"Fold: {count}, mcc: {mcc}\")\n",
    "        \n",
    "    return mcc_sum / folds"
   ]
  },
  {
   "cell_type": "code",
   "execution_count": 9,
   "id": "9b62cd48",
   "metadata": {
    "execution": {
     "iopub.execute_input": "2024-08-18T22:51:20.331288Z",
     "iopub.status.busy": "2024-08-18T22:51:20.330855Z",
     "iopub.status.idle": "2024-08-18T22:51:20.345614Z",
     "shell.execute_reply": "2024-08-18T22:51:20.344425Z"
    },
    "papermill": {
     "duration": 0.023272,
     "end_time": "2024-08-18T22:51:20.348161",
     "exception": false,
     "start_time": "2024-08-18T22:51:20.324889",
     "status": "completed"
    },
    "tags": []
   },
   "outputs": [
    {
     "data": {
      "text/html": [
       "<style>#sk-container-id-1 {color: black;background-color: white;}#sk-container-id-1 pre{padding: 0;}#sk-container-id-1 div.sk-toggleable {background-color: white;}#sk-container-id-1 label.sk-toggleable__label {cursor: pointer;display: block;width: 100%;margin-bottom: 0;padding: 0.3em;box-sizing: border-box;text-align: center;}#sk-container-id-1 label.sk-toggleable__label-arrow:before {content: \"▸\";float: left;margin-right: 0.25em;color: #696969;}#sk-container-id-1 label.sk-toggleable__label-arrow:hover:before {color: black;}#sk-container-id-1 div.sk-estimator:hover label.sk-toggleable__label-arrow:before {color: black;}#sk-container-id-1 div.sk-toggleable__content {max-height: 0;max-width: 0;overflow: hidden;text-align: left;background-color: #f0f8ff;}#sk-container-id-1 div.sk-toggleable__content pre {margin: 0.2em;color: black;border-radius: 0.25em;background-color: #f0f8ff;}#sk-container-id-1 input.sk-toggleable__control:checked~div.sk-toggleable__content {max-height: 200px;max-width: 100%;overflow: auto;}#sk-container-id-1 input.sk-toggleable__control:checked~label.sk-toggleable__label-arrow:before {content: \"▾\";}#sk-container-id-1 div.sk-estimator input.sk-toggleable__control:checked~label.sk-toggleable__label {background-color: #d4ebff;}#sk-container-id-1 div.sk-label input.sk-toggleable__control:checked~label.sk-toggleable__label {background-color: #d4ebff;}#sk-container-id-1 input.sk-hidden--visually {border: 0;clip: rect(1px 1px 1px 1px);clip: rect(1px, 1px, 1px, 1px);height: 1px;margin: -1px;overflow: hidden;padding: 0;position: absolute;width: 1px;}#sk-container-id-1 div.sk-estimator {font-family: monospace;background-color: #f0f8ff;border: 1px dotted black;border-radius: 0.25em;box-sizing: border-box;margin-bottom: 0.5em;}#sk-container-id-1 div.sk-estimator:hover {background-color: #d4ebff;}#sk-container-id-1 div.sk-parallel-item::after {content: \"\";width: 100%;border-bottom: 1px solid gray;flex-grow: 1;}#sk-container-id-1 div.sk-label:hover label.sk-toggleable__label {background-color: #d4ebff;}#sk-container-id-1 div.sk-serial::before {content: \"\";position: absolute;border-left: 1px solid gray;box-sizing: border-box;top: 0;bottom: 0;left: 50%;z-index: 0;}#sk-container-id-1 div.sk-serial {display: flex;flex-direction: column;align-items: center;background-color: white;padding-right: 0.2em;padding-left: 0.2em;position: relative;}#sk-container-id-1 div.sk-item {position: relative;z-index: 1;}#sk-container-id-1 div.sk-parallel {display: flex;align-items: stretch;justify-content: center;background-color: white;position: relative;}#sk-container-id-1 div.sk-item::before, #sk-container-id-1 div.sk-parallel-item::before {content: \"\";position: absolute;border-left: 1px solid gray;box-sizing: border-box;top: 0;bottom: 0;left: 50%;z-index: -1;}#sk-container-id-1 div.sk-parallel-item {display: flex;flex-direction: column;z-index: 1;position: relative;background-color: white;}#sk-container-id-1 div.sk-parallel-item:first-child::after {align-self: flex-end;width: 50%;}#sk-container-id-1 div.sk-parallel-item:last-child::after {align-self: flex-start;width: 50%;}#sk-container-id-1 div.sk-parallel-item:only-child::after {width: 0;}#sk-container-id-1 div.sk-dashed-wrapped {border: 1px dashed gray;margin: 0 0.4em 0.5em 0.4em;box-sizing: border-box;padding-bottom: 0.4em;background-color: white;}#sk-container-id-1 div.sk-label label {font-family: monospace;font-weight: bold;display: inline-block;line-height: 1.2em;}#sk-container-id-1 div.sk-label-container {text-align: center;}#sk-container-id-1 div.sk-container {/* jupyter's `normalize.less` sets `[hidden] { display: none; }` but bootstrap.min.css set `[hidden] { display: none !important; }` so we also need the `!important` here to be able to override the default hidden behavior on the sphinx rendered scikit-learn.org. See: https://github.com/scikit-learn/scikit-learn/issues/21755 */display: inline-block !important;position: relative;}#sk-container-id-1 div.sk-text-repr-fallback {display: none;}</style><div id=\"sk-container-id-1\" class=\"sk-top-container\"><div class=\"sk-text-repr-fallback\"><pre>XGBClassifier(base_score=None, booster=None, callbacks=None,\n",
       "              colsample_bylevel=None, colsample_bynode=None,\n",
       "              colsample_bytree=0.3316064481783387, device=None,\n",
       "              early_stopping_rounds=None, enable_categorical=False,\n",
       "              eval_metric=None, feature_types=None,\n",
       "              gamma=0.00015261120814033454, grow_policy=None,\n",
       "              importance_type=None, interaction_constraints=None,\n",
       "              learning_rate=0.031261807252523, max_bin=None,\n",
       "              max_cat_threshold=None, max_cat_to_onehot=None,\n",
       "              max_delta_step=None, max_depth=12, max_leaves=None,\n",
       "              min_child_weight=None, missing=nan, monotone_constraints=None,\n",
       "              multi_strategy=None, n_estimators=515, n_jobs=None,\n",
       "              num_parallel_tree=None, random_state=None, ...)</pre><b>In a Jupyter environment, please rerun this cell to show the HTML representation or trust the notebook. <br />On GitHub, the HTML representation is unable to render, please try loading this page with nbviewer.org.</b></div><div class=\"sk-container\" hidden><div class=\"sk-item\"><div class=\"sk-estimator sk-toggleable\"><input class=\"sk-toggleable__control sk-hidden--visually\" id=\"sk-estimator-id-1\" type=\"checkbox\" checked><label for=\"sk-estimator-id-1\" class=\"sk-toggleable__label sk-toggleable__label-arrow\">XGBClassifier</label><div class=\"sk-toggleable__content\"><pre>XGBClassifier(base_score=None, booster=None, callbacks=None,\n",
       "              colsample_bylevel=None, colsample_bynode=None,\n",
       "              colsample_bytree=0.3316064481783387, device=None,\n",
       "              early_stopping_rounds=None, enable_categorical=False,\n",
       "              eval_metric=None, feature_types=None,\n",
       "              gamma=0.00015261120814033454, grow_policy=None,\n",
       "              importance_type=None, interaction_constraints=None,\n",
       "              learning_rate=0.031261807252523, max_bin=None,\n",
       "              max_cat_threshold=None, max_cat_to_onehot=None,\n",
       "              max_delta_step=None, max_depth=12, max_leaves=None,\n",
       "              min_child_weight=None, missing=nan, monotone_constraints=None,\n",
       "              multi_strategy=None, n_estimators=515, n_jobs=None,\n",
       "              num_parallel_tree=None, random_state=None, ...)</pre></div></div></div></div></div>"
      ],
      "text/plain": [
       "XGBClassifier(base_score=None, booster=None, callbacks=None,\n",
       "              colsample_bylevel=None, colsample_bynode=None,\n",
       "              colsample_bytree=0.3316064481783387, device=None,\n",
       "              early_stopping_rounds=None, enable_categorical=False,\n",
       "              eval_metric=None, feature_types=None,\n",
       "              gamma=0.00015261120814033454, grow_policy=None,\n",
       "              importance_type=None, interaction_constraints=None,\n",
       "              learning_rate=0.031261807252523, max_bin=None,\n",
       "              max_cat_threshold=None, max_cat_to_onehot=None,\n",
       "              max_delta_step=None, max_depth=12, max_leaves=None,\n",
       "              min_child_weight=None, missing=nan, monotone_constraints=None,\n",
       "              multi_strategy=None, n_estimators=515, n_jobs=None,\n",
       "              num_parallel_tree=None, random_state=None, ...)"
      ]
     },
     "execution_count": 9,
     "metadata": {},
     "output_type": "execute_result"
    }
   ],
   "source": [
    "params = {\n",
    "    'colsample_bytree': 0.3316064481783387,\n",
    "    'gamma': 0.00015261120814033454,\n",
    "    'learning_rate': 0.031261807252523,\n",
    "    'max_depth': 12,\n",
    "    'n_estimators': 515,\n",
    "    'reg_lambda': 0.029800874667296647,\n",
    "}\n",
    "\n",
    "xgboost = XGBClassifier(seed=42)\n",
    "xgboost.set_params(**params)"
   ]
  },
  {
   "cell_type": "code",
   "execution_count": 10,
   "id": "c338270d",
   "metadata": {
    "execution": {
     "iopub.execute_input": "2024-08-18T22:51:20.359977Z",
     "iopub.status.busy": "2024-08-18T22:51:20.359519Z",
     "iopub.status.idle": "2024-08-18T22:51:20.364406Z",
     "shell.execute_reply": "2024-08-18T22:51:20.363178Z"
    },
    "papermill": {
     "duration": 0.013552,
     "end_time": "2024-08-18T22:51:20.366831",
     "exception": false,
     "start_time": "2024-08-18T22:51:20.353279",
     "status": "completed"
    },
    "tags": []
   },
   "outputs": [],
   "source": [
    "# mcc_cv = CV(xgboost, X, y)\n",
    "# mcc_cv"
   ]
  },
  {
   "cell_type": "markdown",
   "id": "d8e8b69d",
   "metadata": {
    "papermill": {
     "duration": 0.004746,
     "end_time": "2024-08-18T22:51:20.376784",
     "exception": false,
     "start_time": "2024-08-18T22:51:20.372038",
     "status": "completed"
    },
    "tags": []
   },
   "source": [
    "# ***SUBMISSION***"
   ]
  },
  {
   "cell_type": "code",
   "execution_count": 11,
   "id": "3a9f284c",
   "metadata": {
    "execution": {
     "iopub.execute_input": "2024-08-18T22:51:20.388946Z",
     "iopub.status.busy": "2024-08-18T22:51:20.388535Z",
     "iopub.status.idle": "2024-08-18T22:56:37.742237Z",
     "shell.execute_reply": "2024-08-18T22:56:37.740610Z"
    },
    "papermill": {
     "duration": 317.36856,
     "end_time": "2024-08-18T22:56:37.750846",
     "exception": false,
     "start_time": "2024-08-18T22:51:20.382286",
     "status": "completed"
    },
    "tags": []
   },
   "outputs": [
    {
     "data": {
      "text/html": [
       "<style>#sk-container-id-2 {color: black;background-color: white;}#sk-container-id-2 pre{padding: 0;}#sk-container-id-2 div.sk-toggleable {background-color: white;}#sk-container-id-2 label.sk-toggleable__label {cursor: pointer;display: block;width: 100%;margin-bottom: 0;padding: 0.3em;box-sizing: border-box;text-align: center;}#sk-container-id-2 label.sk-toggleable__label-arrow:before {content: \"▸\";float: left;margin-right: 0.25em;color: #696969;}#sk-container-id-2 label.sk-toggleable__label-arrow:hover:before {color: black;}#sk-container-id-2 div.sk-estimator:hover label.sk-toggleable__label-arrow:before {color: black;}#sk-container-id-2 div.sk-toggleable__content {max-height: 0;max-width: 0;overflow: hidden;text-align: left;background-color: #f0f8ff;}#sk-container-id-2 div.sk-toggleable__content pre {margin: 0.2em;color: black;border-radius: 0.25em;background-color: #f0f8ff;}#sk-container-id-2 input.sk-toggleable__control:checked~div.sk-toggleable__content {max-height: 200px;max-width: 100%;overflow: auto;}#sk-container-id-2 input.sk-toggleable__control:checked~label.sk-toggleable__label-arrow:before {content: \"▾\";}#sk-container-id-2 div.sk-estimator input.sk-toggleable__control:checked~label.sk-toggleable__label {background-color: #d4ebff;}#sk-container-id-2 div.sk-label input.sk-toggleable__control:checked~label.sk-toggleable__label {background-color: #d4ebff;}#sk-container-id-2 input.sk-hidden--visually {border: 0;clip: rect(1px 1px 1px 1px);clip: rect(1px, 1px, 1px, 1px);height: 1px;margin: -1px;overflow: hidden;padding: 0;position: absolute;width: 1px;}#sk-container-id-2 div.sk-estimator {font-family: monospace;background-color: #f0f8ff;border: 1px dotted black;border-radius: 0.25em;box-sizing: border-box;margin-bottom: 0.5em;}#sk-container-id-2 div.sk-estimator:hover {background-color: #d4ebff;}#sk-container-id-2 div.sk-parallel-item::after {content: \"\";width: 100%;border-bottom: 1px solid gray;flex-grow: 1;}#sk-container-id-2 div.sk-label:hover label.sk-toggleable__label {background-color: #d4ebff;}#sk-container-id-2 div.sk-serial::before {content: \"\";position: absolute;border-left: 1px solid gray;box-sizing: border-box;top: 0;bottom: 0;left: 50%;z-index: 0;}#sk-container-id-2 div.sk-serial {display: flex;flex-direction: column;align-items: center;background-color: white;padding-right: 0.2em;padding-left: 0.2em;position: relative;}#sk-container-id-2 div.sk-item {position: relative;z-index: 1;}#sk-container-id-2 div.sk-parallel {display: flex;align-items: stretch;justify-content: center;background-color: white;position: relative;}#sk-container-id-2 div.sk-item::before, #sk-container-id-2 div.sk-parallel-item::before {content: \"\";position: absolute;border-left: 1px solid gray;box-sizing: border-box;top: 0;bottom: 0;left: 50%;z-index: -1;}#sk-container-id-2 div.sk-parallel-item {display: flex;flex-direction: column;z-index: 1;position: relative;background-color: white;}#sk-container-id-2 div.sk-parallel-item:first-child::after {align-self: flex-end;width: 50%;}#sk-container-id-2 div.sk-parallel-item:last-child::after {align-self: flex-start;width: 50%;}#sk-container-id-2 div.sk-parallel-item:only-child::after {width: 0;}#sk-container-id-2 div.sk-dashed-wrapped {border: 1px dashed gray;margin: 0 0.4em 0.5em 0.4em;box-sizing: border-box;padding-bottom: 0.4em;background-color: white;}#sk-container-id-2 div.sk-label label {font-family: monospace;font-weight: bold;display: inline-block;line-height: 1.2em;}#sk-container-id-2 div.sk-label-container {text-align: center;}#sk-container-id-2 div.sk-container {/* jupyter's `normalize.less` sets `[hidden] { display: none; }` but bootstrap.min.css set `[hidden] { display: none !important; }` so we also need the `!important` here to be able to override the default hidden behavior on the sphinx rendered scikit-learn.org. See: https://github.com/scikit-learn/scikit-learn/issues/21755 */display: inline-block !important;position: relative;}#sk-container-id-2 div.sk-text-repr-fallback {display: none;}</style><div id=\"sk-container-id-2\" class=\"sk-top-container\"><div class=\"sk-text-repr-fallback\"><pre>XGBClassifier(base_score=None, booster=None, callbacks=None,\n",
       "              colsample_bylevel=None, colsample_bynode=None,\n",
       "              colsample_bytree=0.3316064481783387, device=None,\n",
       "              early_stopping_rounds=None, enable_categorical=False,\n",
       "              eval_metric=None, feature_types=None,\n",
       "              gamma=0.00015261120814033454, grow_policy=None,\n",
       "              importance_type=None, interaction_constraints=None,\n",
       "              learning_rate=0.031261807252523, max_bin=None,\n",
       "              max_cat_threshold=None, max_cat_to_onehot=None,\n",
       "              max_delta_step=None, max_depth=12, max_leaves=None,\n",
       "              min_child_weight=None, missing=nan, monotone_constraints=None,\n",
       "              multi_strategy=None, n_estimators=515, n_jobs=None,\n",
       "              num_parallel_tree=None, random_state=None, ...)</pre><b>In a Jupyter environment, please rerun this cell to show the HTML representation or trust the notebook. <br />On GitHub, the HTML representation is unable to render, please try loading this page with nbviewer.org.</b></div><div class=\"sk-container\" hidden><div class=\"sk-item\"><div class=\"sk-estimator sk-toggleable\"><input class=\"sk-toggleable__control sk-hidden--visually\" id=\"sk-estimator-id-2\" type=\"checkbox\" checked><label for=\"sk-estimator-id-2\" class=\"sk-toggleable__label sk-toggleable__label-arrow\">XGBClassifier</label><div class=\"sk-toggleable__content\"><pre>XGBClassifier(base_score=None, booster=None, callbacks=None,\n",
       "              colsample_bylevel=None, colsample_bynode=None,\n",
       "              colsample_bytree=0.3316064481783387, device=None,\n",
       "              early_stopping_rounds=None, enable_categorical=False,\n",
       "              eval_metric=None, feature_types=None,\n",
       "              gamma=0.00015261120814033454, grow_policy=None,\n",
       "              importance_type=None, interaction_constraints=None,\n",
       "              learning_rate=0.031261807252523, max_bin=None,\n",
       "              max_cat_threshold=None, max_cat_to_onehot=None,\n",
       "              max_delta_step=None, max_depth=12, max_leaves=None,\n",
       "              min_child_weight=None, missing=nan, monotone_constraints=None,\n",
       "              multi_strategy=None, n_estimators=515, n_jobs=None,\n",
       "              num_parallel_tree=None, random_state=None, ...)</pre></div></div></div></div></div>"
      ],
      "text/plain": [
       "XGBClassifier(base_score=None, booster=None, callbacks=None,\n",
       "              colsample_bylevel=None, colsample_bynode=None,\n",
       "              colsample_bytree=0.3316064481783387, device=None,\n",
       "              early_stopping_rounds=None, enable_categorical=False,\n",
       "              eval_metric=None, feature_types=None,\n",
       "              gamma=0.00015261120814033454, grow_policy=None,\n",
       "              importance_type=None, interaction_constraints=None,\n",
       "              learning_rate=0.031261807252523, max_bin=None,\n",
       "              max_cat_threshold=None, max_cat_to_onehot=None,\n",
       "              max_delta_step=None, max_depth=12, max_leaves=None,\n",
       "              min_child_weight=None, missing=nan, monotone_constraints=None,\n",
       "              multi_strategy=None, n_estimators=515, n_jobs=None,\n",
       "              num_parallel_tree=None, random_state=None, ...)"
      ]
     },
     "execution_count": 11,
     "metadata": {},
     "output_type": "execute_result"
    }
   ],
   "source": [
    "xgboost.fit(X, y)"
   ]
  },
  {
   "cell_type": "code",
   "execution_count": 12,
   "id": "72238a67",
   "metadata": {
    "execution": {
     "iopub.execute_input": "2024-08-18T22:56:37.763937Z",
     "iopub.status.busy": "2024-08-18T22:56:37.762806Z",
     "iopub.status.idle": "2024-08-18T22:59:17.979197Z",
     "shell.execute_reply": "2024-08-18T22:59:17.977984Z"
    },
    "papermill": {
     "duration": 160.226077,
     "end_time": "2024-08-18T22:59:17.982124",
     "exception": false,
     "start_time": "2024-08-18T22:56:37.756047",
     "status": "completed"
    },
    "tags": []
   },
   "outputs": [],
   "source": [
    "y_pred = xgboost.predict(test)\n",
    "submission = pd.DataFrame()\n",
    "\n",
    "submission['id'] = test_id\n",
    "submission['class'] = le.inverse_transform(y_pred)"
   ]
  },
  {
   "cell_type": "code",
   "execution_count": 13,
   "id": "dcf3efe2",
   "metadata": {
    "execution": {
     "iopub.execute_input": "2024-08-18T22:59:17.995769Z",
     "iopub.status.busy": "2024-08-18T22:59:17.994815Z",
     "iopub.status.idle": "2024-08-18T22:59:19.569794Z",
     "shell.execute_reply": "2024-08-18T22:59:19.568627Z"
    },
    "papermill": {
     "duration": 1.584792,
     "end_time": "2024-08-18T22:59:19.572686",
     "exception": false,
     "start_time": "2024-08-18T22:59:17.987894",
     "status": "completed"
    },
    "tags": []
   },
   "outputs": [],
   "source": [
    "submission.to_csv('/kaggle/working/VER10.csv', index=False)"
   ]
  }
 ],
 "metadata": {
  "kaggle": {
   "accelerator": "none",
   "dataSources": [
    {
     "databundleVersionId": 9045607,
     "sourceId": 76727,
     "sourceType": "competition"
    }
   ],
   "dockerImageVersionId": 30746,
   "isGpuEnabled": false,
   "isInternetEnabled": true,
   "language": "python",
   "sourceType": "notebook"
  },
  "kernelspec": {
   "display_name": "Python 3",
   "language": "python",
   "name": "python3"
  },
  "language_info": {
   "codemirror_mode": {
    "name": "ipython",
    "version": 3
   },
   "file_extension": ".py",
   "mimetype": "text/x-python",
   "name": "python",
   "nbconvert_exporter": "python",
   "pygments_lexer": "ipython3",
   "version": "3.10.13"
  },
  "papermill": {
   "default_parameters": {},
   "duration": 574.978687,
   "end_time": "2024-08-18T22:59:20.303013",
   "environment_variables": {},
   "exception": null,
   "input_path": "__notebook__.ipynb",
   "output_path": "__notebook__.ipynb",
   "parameters": {},
   "start_time": "2024-08-18T22:49:45.324326",
   "version": "2.5.0"
  }
 },
 "nbformat": 4,
 "nbformat_minor": 5
}
