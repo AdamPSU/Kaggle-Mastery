{
 "cells": [
  {
   "cell_type": "code",
   "execution_count": 1,
   "id": "e6a597e5",
   "metadata": {
    "_cell_guid": "b1076dfc-b9ad-4769-8c92-a6c4dae69d19",
    "_uuid": "8f2839f25d086af736a60e9eeb907d3b93b6e0e5",
    "execution": {
     "iopub.execute_input": "2024-08-14T18:08:10.247960Z",
     "iopub.status.busy": "2024-08-14T18:08:10.247511Z",
     "iopub.status.idle": "2024-08-14T18:08:11.012564Z",
     "shell.execute_reply": "2024-08-14T18:08:11.011166Z"
    },
    "papermill": {
     "duration": 0.774812,
     "end_time": "2024-08-14T18:08:11.015270",
     "exception": false,
     "start_time": "2024-08-14T18:08:10.240458",
     "status": "completed"
    },
    "tags": []
   },
   "outputs": [
    {
     "name": "stdout",
     "output_type": "stream",
     "text": [
      "/kaggle/input/playground-series-s4e8/sample_submission.csv\n",
      "/kaggle/input/playground-series-s4e8/train.csv\n",
      "/kaggle/input/playground-series-s4e8/test.csv\n"
     ]
    }
   ],
   "source": [
    "import numpy as np # linear algebra\n",
    "import pandas as pd # data processing, CSV file I/O (e.g. pd.read_csv)\n",
    "\n",
    "import warnings\n",
    "warnings.filterwarnings('ignore')\n",
    "\n",
    "import os\n",
    "\n",
    "for dirname, _, filenames in os.walk('/kaggle/input'):\n",
    "    for filename in filenames:\n",
    "        print(os.path.join(dirname, filename))"
   ]
  },
  {
   "cell_type": "code",
   "execution_count": 2,
   "id": "a325c11e",
   "metadata": {
    "execution": {
     "iopub.execute_input": "2024-08-14T18:08:11.026933Z",
     "iopub.status.busy": "2024-08-14T18:08:11.026436Z",
     "iopub.status.idle": "2024-08-14T18:08:21.698123Z",
     "shell.execute_reply": "2024-08-14T18:08:21.696904Z"
    },
    "papermill": {
     "duration": 10.680397,
     "end_time": "2024-08-14T18:08:21.700762",
     "exception": false,
     "start_time": "2024-08-14T18:08:11.020365",
     "status": "completed"
    },
    "tags": []
   },
   "outputs": [],
   "source": [
    "train = pd.read_csv(\"/kaggle/input/playground-series-s4e8/train.csv\")"
   ]
  },
  {
   "cell_type": "code",
   "execution_count": 3,
   "id": "44ec9fa0",
   "metadata": {
    "execution": {
     "iopub.execute_input": "2024-08-14T18:08:21.712121Z",
     "iopub.status.busy": "2024-08-14T18:08:21.711763Z",
     "iopub.status.idle": "2024-08-14T18:08:27.828964Z",
     "shell.execute_reply": "2024-08-14T18:08:27.827811Z"
    },
    "papermill": {
     "duration": 6.125855,
     "end_time": "2024-08-14T18:08:27.831526",
     "exception": false,
     "start_time": "2024-08-14T18:08:21.705671",
     "status": "completed"
    },
    "tags": []
   },
   "outputs": [],
   "source": [
    "test = pd.read_csv(\"/kaggle/input/playground-series-s4e8/test.csv\")"
   ]
  },
  {
   "cell_type": "markdown",
   "id": "a3c3c954",
   "metadata": {
    "papermill": {
     "duration": 0.004346,
     "end_time": "2024-08-14T18:08:27.840661",
     "exception": false,
     "start_time": "2024-08-14T18:08:27.836315",
     "status": "completed"
    },
    "tags": []
   },
   "source": [
    "# ***PREPROCESSING***"
   ]
  },
  {
   "cell_type": "code",
   "execution_count": 4,
   "id": "8a9bb75b",
   "metadata": {
    "execution": {
     "iopub.execute_input": "2024-08-14T18:08:27.852244Z",
     "iopub.status.busy": "2024-08-14T18:08:27.851095Z",
     "iopub.status.idle": "2024-08-14T18:08:28.726892Z",
     "shell.execute_reply": "2024-08-14T18:08:28.725645Z"
    },
    "papermill": {
     "duration": 0.884237,
     "end_time": "2024-08-14T18:08:28.729527",
     "exception": false,
     "start_time": "2024-08-14T18:08:27.845290",
     "status": "completed"
    },
    "tags": []
   },
   "outputs": [],
   "source": [
    "features_to_drop = ['id']\n",
    "train = train.drop(features_to_drop, axis=1)"
   ]
  },
  {
   "cell_type": "code",
   "execution_count": 5,
   "id": "c3b5430d",
   "metadata": {
    "execution": {
     "iopub.execute_input": "2024-08-14T18:08:28.740607Z",
     "iopub.status.busy": "2024-08-14T18:08:28.740250Z",
     "iopub.status.idle": "2024-08-14T18:08:29.152456Z",
     "shell.execute_reply": "2024-08-14T18:08:29.151135Z"
    },
    "papermill": {
     "duration": 0.420736,
     "end_time": "2024-08-14T18:08:29.155098",
     "exception": false,
     "start_time": "2024-08-14T18:08:28.734362",
     "status": "completed"
    },
    "tags": []
   },
   "outputs": [],
   "source": [
    "test_sub = test.drop(features_to_drop, axis=1)"
   ]
  },
  {
   "cell_type": "code",
   "execution_count": 6,
   "id": "abb26f12",
   "metadata": {
    "execution": {
     "iopub.execute_input": "2024-08-14T18:08:29.166830Z",
     "iopub.status.busy": "2024-08-14T18:08:29.166014Z",
     "iopub.status.idle": "2024-08-14T18:08:30.391890Z",
     "shell.execute_reply": "2024-08-14T18:08:30.390718Z"
    },
    "papermill": {
     "duration": 1.234502,
     "end_time": "2024-08-14T18:08:30.394421",
     "exception": false,
     "start_time": "2024-08-14T18:08:29.159919",
     "status": "completed"
    },
    "tags": []
   },
   "outputs": [],
   "source": [
    "# Binarize the class labels\n",
    "train['class'] = train['class'].apply(lambda x: 0 if x == 'e' else 1)"
   ]
  },
  {
   "cell_type": "code",
   "execution_count": 7,
   "id": "853e1c92",
   "metadata": {
    "execution": {
     "iopub.execute_input": "2024-08-14T18:08:30.405760Z",
     "iopub.status.busy": "2024-08-14T18:08:30.405389Z",
     "iopub.status.idle": "2024-08-14T18:08:31.025037Z",
     "shell.execute_reply": "2024-08-14T18:08:31.023899Z"
    },
    "papermill": {
     "duration": 0.628335,
     "end_time": "2024-08-14T18:08:31.027608",
     "exception": false,
     "start_time": "2024-08-14T18:08:30.399273",
     "status": "completed"
    },
    "tags": []
   },
   "outputs": [],
   "source": [
    "X = train.drop('class', axis=1)\n",
    "y = train['class']"
   ]
  },
  {
   "cell_type": "code",
   "execution_count": 8,
   "id": "ce510bbc",
   "metadata": {
    "execution": {
     "iopub.execute_input": "2024-08-14T18:08:31.039075Z",
     "iopub.status.busy": "2024-08-14T18:08:31.038703Z",
     "iopub.status.idle": "2024-08-14T18:08:52.043345Z",
     "shell.execute_reply": "2024-08-14T18:08:52.042421Z"
    },
    "papermill": {
     "duration": 21.013483,
     "end_time": "2024-08-14T18:08:52.045899",
     "exception": false,
     "start_time": "2024-08-14T18:08:31.032416",
     "status": "completed"
    },
    "tags": []
   },
   "outputs": [],
   "source": [
    "cat = X.select_dtypes(include='object').columns.tolist()\n",
    "threshold = 5000\n",
    "\n",
    "for col in cat: \n",
    "    value_counts = X[col].value_counts()\n",
    "    labels = set(value_counts[value_counts > threshold].index)\n",
    "    \n",
    "    def preprocessor(x):\n",
    "        if x not in labels: \n",
    "            return 'other'\n",
    "        \n",
    "        return x \n",
    "    \n",
    "    X[col] = X[col].apply(preprocessor)\n",
    "    test_sub[col] = test_sub[col].apply(preprocessor)"
   ]
  },
  {
   "cell_type": "code",
   "execution_count": 9,
   "id": "eeea6a22",
   "metadata": {
    "execution": {
     "iopub.execute_input": "2024-08-14T18:08:52.057561Z",
     "iopub.status.busy": "2024-08-14T18:08:52.056647Z",
     "iopub.status.idle": "2024-08-14T18:09:01.750196Z",
     "shell.execute_reply": "2024-08-14T18:09:01.748970Z"
    },
    "papermill": {
     "duration": 9.702188,
     "end_time": "2024-08-14T18:09:01.752879",
     "exception": false,
     "start_time": "2024-08-14T18:08:52.050691",
     "status": "completed"
    },
    "tags": []
   },
   "outputs": [],
   "source": [
    "X = pd.get_dummies(X, columns=cat, drop_first=True)\n",
    "test_sub = pd.get_dummies(test_sub, columns=cat, drop_first=True)"
   ]
  },
  {
   "cell_type": "markdown",
   "id": "2d166326",
   "metadata": {
    "papermill": {
     "duration": 0.004585,
     "end_time": "2024-08-14T18:09:01.762482",
     "exception": false,
     "start_time": "2024-08-14T18:09:01.757897",
     "status": "completed"
    },
    "tags": []
   },
   "source": [
    "# ***MODEL PERFORMANCE***"
   ]
  },
  {
   "cell_type": "code",
   "execution_count": 10,
   "id": "fd6a975b",
   "metadata": {
    "execution": {
     "iopub.execute_input": "2024-08-14T18:09:01.773726Z",
     "iopub.status.busy": "2024-08-14T18:09:01.773382Z",
     "iopub.status.idle": "2024-08-14T18:09:17.162359Z",
     "shell.execute_reply": "2024-08-14T18:09:17.160951Z"
    },
    "papermill": {
     "duration": 15.398955,
     "end_time": "2024-08-14T18:09:17.166235",
     "exception": false,
     "start_time": "2024-08-14T18:09:01.767280",
     "status": "completed"
    },
    "tags": []
   },
   "outputs": [],
   "source": [
    "X = X.to_numpy()\n",
    "y = y.to_numpy()\n",
    "test_sub = test_sub.to_numpy()"
   ]
  },
  {
   "cell_type": "code",
   "execution_count": 11,
   "id": "7a7d02c0",
   "metadata": {
    "execution": {
     "iopub.execute_input": "2024-08-14T18:09:17.180145Z",
     "iopub.status.busy": "2024-08-14T18:09:17.179130Z",
     "iopub.status.idle": "2024-08-14T18:13:31.578512Z",
     "shell.execute_reply": "2024-08-14T18:13:31.577336Z"
    },
    "papermill": {
     "duration": 254.412936,
     "end_time": "2024-08-14T18:13:31.585605",
     "exception": false,
     "start_time": "2024-08-14T18:09:17.172669",
     "status": "completed"
    },
    "tags": []
   },
   "outputs": [
    {
     "data": {
      "text/plain": [
       "0.9837240496204706"
      ]
     },
     "execution_count": 11,
     "metadata": {},
     "output_type": "execute_result"
    }
   ],
   "source": [
    "from xgboost import XGBClassifier\n",
    "from sklearn.model_selection import StratifiedKFold\n",
    "from sklearn.metrics import matthews_corrcoef\n",
    "\n",
    "param_list = {'gamma':0.002797208830158843, 'learning_rate':0.2172811209648847, 'max_depth':11, 'reg_lambda':1.0}\n",
    "model = XGBClassifier() \n",
    "model.set_params(**param_list)\n",
    "\n",
    "folds = 3\n",
    "skfolds = StratifiedKFold(n_splits=folds)\n",
    "\n",
    "total_mcc = []\n",
    "\n",
    "for train_index, test_index in skfolds.split(X, y):\n",
    "    X_train_folds, y_train_folds = X[train_index], y[train_index]\n",
    "    X_test_folds, y_test_folds = X[test_index], y[test_index]\n",
    "    \n",
    "    model.fit(X_train_folds, y_train_folds)\n",
    "    y_pred_folds = model.predict(X_test_folds)\n",
    "    \n",
    "    mcc = matthews_corrcoef(y_test_folds, y_pred_folds)\n",
    "    total_mcc.append(mcc)\n",
    "    \n",
    "mcc_cv = sum(total_mcc) / len(total_mcc)\n",
    "mcc_cv"
   ]
  },
  {
   "cell_type": "code",
   "execution_count": 12,
   "id": "57ee66d4",
   "metadata": {
    "execution": {
     "iopub.execute_input": "2024-08-14T18:13:31.596795Z",
     "iopub.status.busy": "2024-08-14T18:13:31.596443Z",
     "iopub.status.idle": "2024-08-14T18:13:31.601421Z",
     "shell.execute_reply": "2024-08-14T18:13:31.600311Z"
    },
    "papermill": {
     "duration": 0.013505,
     "end_time": "2024-08-14T18:13:31.603817",
     "exception": false,
     "start_time": "2024-08-14T18:13:31.590312",
     "status": "completed"
    },
    "tags": []
   },
   "outputs": [],
   "source": [
    "# from xgboost import XGBClassifier\n",
    "# from sklearn.metrics import make_scorer, matthews_corrcoef\n",
    "# from skopt import BayesSearchCV\n",
    "# from skopt.space import Real, Integer\n",
    "\n",
    "# param_grid = {\n",
    "#     'max_depth': Integer(1, 12),\n",
    "#     'learning_rate': Real(1e-5, 1, prior = 'log-uniform'),\n",
    "#     'gamma': Real(1e-5, 1, prior = 'log-uniform'), \n",
    "#     'reg_lambda': Real(1e-5, 1, prior = 'log-uniform')\n",
    "# }\n",
    "\n",
    "# model = XGBClassifier(seed=42, param_grid=param_grid)\n",
    "\n",
    "# grid_search = BayesSearchCV(estimator=model, search_spaces=param_grid, scoring='matthews_corrcoef', cv=3, verbose=3,\n",
    "#                             return_train_score=True)\n",
    "\n",
    "# grid_search.fit(X, y)\n",
    "# grid_search.best_params_"
   ]
  },
  {
   "cell_type": "markdown",
   "id": "1637e43e",
   "metadata": {
    "papermill": {
     "duration": 0.004688,
     "end_time": "2024-08-14T18:13:31.613659",
     "exception": false,
     "start_time": "2024-08-14T18:13:31.608971",
     "status": "completed"
    },
    "tags": []
   },
   "source": [
    "# ***SUBMISSION***"
   ]
  },
  {
   "cell_type": "code",
   "execution_count": 13,
   "id": "84813a36",
   "metadata": {
    "execution": {
     "iopub.execute_input": "2024-08-14T18:13:31.625126Z",
     "iopub.status.busy": "2024-08-14T18:13:31.624699Z",
     "iopub.status.idle": "2024-08-14T18:15:18.473842Z",
     "shell.execute_reply": "2024-08-14T18:15:18.472672Z"
    },
    "papermill": {
     "duration": 106.862993,
     "end_time": "2024-08-14T18:15:18.481552",
     "exception": false,
     "start_time": "2024-08-14T18:13:31.618559",
     "status": "completed"
    },
    "tags": []
   },
   "outputs": [
    {
     "data": {
      "text/html": [
       "<style>#sk-container-id-1 {color: black;background-color: white;}#sk-container-id-1 pre{padding: 0;}#sk-container-id-1 div.sk-toggleable {background-color: white;}#sk-container-id-1 label.sk-toggleable__label {cursor: pointer;display: block;width: 100%;margin-bottom: 0;padding: 0.3em;box-sizing: border-box;text-align: center;}#sk-container-id-1 label.sk-toggleable__label-arrow:before {content: \"▸\";float: left;margin-right: 0.25em;color: #696969;}#sk-container-id-1 label.sk-toggleable__label-arrow:hover:before {color: black;}#sk-container-id-1 div.sk-estimator:hover label.sk-toggleable__label-arrow:before {color: black;}#sk-container-id-1 div.sk-toggleable__content {max-height: 0;max-width: 0;overflow: hidden;text-align: left;background-color: #f0f8ff;}#sk-container-id-1 div.sk-toggleable__content pre {margin: 0.2em;color: black;border-radius: 0.25em;background-color: #f0f8ff;}#sk-container-id-1 input.sk-toggleable__control:checked~div.sk-toggleable__content {max-height: 200px;max-width: 100%;overflow: auto;}#sk-container-id-1 input.sk-toggleable__control:checked~label.sk-toggleable__label-arrow:before {content: \"▾\";}#sk-container-id-1 div.sk-estimator input.sk-toggleable__control:checked~label.sk-toggleable__label {background-color: #d4ebff;}#sk-container-id-1 div.sk-label input.sk-toggleable__control:checked~label.sk-toggleable__label {background-color: #d4ebff;}#sk-container-id-1 input.sk-hidden--visually {border: 0;clip: rect(1px 1px 1px 1px);clip: rect(1px, 1px, 1px, 1px);height: 1px;margin: -1px;overflow: hidden;padding: 0;position: absolute;width: 1px;}#sk-container-id-1 div.sk-estimator {font-family: monospace;background-color: #f0f8ff;border: 1px dotted black;border-radius: 0.25em;box-sizing: border-box;margin-bottom: 0.5em;}#sk-container-id-1 div.sk-estimator:hover {background-color: #d4ebff;}#sk-container-id-1 div.sk-parallel-item::after {content: \"\";width: 100%;border-bottom: 1px solid gray;flex-grow: 1;}#sk-container-id-1 div.sk-label:hover label.sk-toggleable__label {background-color: #d4ebff;}#sk-container-id-1 div.sk-serial::before {content: \"\";position: absolute;border-left: 1px solid gray;box-sizing: border-box;top: 0;bottom: 0;left: 50%;z-index: 0;}#sk-container-id-1 div.sk-serial {display: flex;flex-direction: column;align-items: center;background-color: white;padding-right: 0.2em;padding-left: 0.2em;position: relative;}#sk-container-id-1 div.sk-item {position: relative;z-index: 1;}#sk-container-id-1 div.sk-parallel {display: flex;align-items: stretch;justify-content: center;background-color: white;position: relative;}#sk-container-id-1 div.sk-item::before, #sk-container-id-1 div.sk-parallel-item::before {content: \"\";position: absolute;border-left: 1px solid gray;box-sizing: border-box;top: 0;bottom: 0;left: 50%;z-index: -1;}#sk-container-id-1 div.sk-parallel-item {display: flex;flex-direction: column;z-index: 1;position: relative;background-color: white;}#sk-container-id-1 div.sk-parallel-item:first-child::after {align-self: flex-end;width: 50%;}#sk-container-id-1 div.sk-parallel-item:last-child::after {align-self: flex-start;width: 50%;}#sk-container-id-1 div.sk-parallel-item:only-child::after {width: 0;}#sk-container-id-1 div.sk-dashed-wrapped {border: 1px dashed gray;margin: 0 0.4em 0.5em 0.4em;box-sizing: border-box;padding-bottom: 0.4em;background-color: white;}#sk-container-id-1 div.sk-label label {font-family: monospace;font-weight: bold;display: inline-block;line-height: 1.2em;}#sk-container-id-1 div.sk-label-container {text-align: center;}#sk-container-id-1 div.sk-container {/* jupyter's `normalize.less` sets `[hidden] { display: none; }` but bootstrap.min.css set `[hidden] { display: none !important; }` so we also need the `!important` here to be able to override the default hidden behavior on the sphinx rendered scikit-learn.org. See: https://github.com/scikit-learn/scikit-learn/issues/21755 */display: inline-block !important;position: relative;}#sk-container-id-1 div.sk-text-repr-fallback {display: none;}</style><div id=\"sk-container-id-1\" class=\"sk-top-container\"><div class=\"sk-text-repr-fallback\"><pre>XGBClassifier(base_score=None, booster=None, callbacks=None,\n",
       "              colsample_bylevel=None, colsample_bynode=None,\n",
       "              colsample_bytree=None, device=None, early_stopping_rounds=None,\n",
       "              enable_categorical=False, eval_metric=None, feature_types=None,\n",
       "              gamma=0.002797208830158843, grow_policy=None,\n",
       "              importance_type=None, interaction_constraints=None,\n",
       "              learning_rate=0.2172811209648847, max_bin=None,\n",
       "              max_cat_threshold=None, max_cat_to_onehot=None,\n",
       "              max_delta_step=None, max_depth=11, max_leaves=None,\n",
       "              min_child_weight=None, missing=nan, monotone_constraints=None,\n",
       "              multi_strategy=None, n_estimators=None, n_jobs=None,\n",
       "              num_parallel_tree=None, random_state=None, ...)</pre><b>In a Jupyter environment, please rerun this cell to show the HTML representation or trust the notebook. <br />On GitHub, the HTML representation is unable to render, please try loading this page with nbviewer.org.</b></div><div class=\"sk-container\" hidden><div class=\"sk-item\"><div class=\"sk-estimator sk-toggleable\"><input class=\"sk-toggleable__control sk-hidden--visually\" id=\"sk-estimator-id-1\" type=\"checkbox\" checked><label for=\"sk-estimator-id-1\" class=\"sk-toggleable__label sk-toggleable__label-arrow\">XGBClassifier</label><div class=\"sk-toggleable__content\"><pre>XGBClassifier(base_score=None, booster=None, callbacks=None,\n",
       "              colsample_bylevel=None, colsample_bynode=None,\n",
       "              colsample_bytree=None, device=None, early_stopping_rounds=None,\n",
       "              enable_categorical=False, eval_metric=None, feature_types=None,\n",
       "              gamma=0.002797208830158843, grow_policy=None,\n",
       "              importance_type=None, interaction_constraints=None,\n",
       "              learning_rate=0.2172811209648847, max_bin=None,\n",
       "              max_cat_threshold=None, max_cat_to_onehot=None,\n",
       "              max_delta_step=None, max_depth=11, max_leaves=None,\n",
       "              min_child_weight=None, missing=nan, monotone_constraints=None,\n",
       "              multi_strategy=None, n_estimators=None, n_jobs=None,\n",
       "              num_parallel_tree=None, random_state=None, ...)</pre></div></div></div></div></div>"
      ],
      "text/plain": [
       "XGBClassifier(base_score=None, booster=None, callbacks=None,\n",
       "              colsample_bylevel=None, colsample_bynode=None,\n",
       "              colsample_bytree=None, device=None, early_stopping_rounds=None,\n",
       "              enable_categorical=False, eval_metric=None, feature_types=None,\n",
       "              gamma=0.002797208830158843, grow_policy=None,\n",
       "              importance_type=None, interaction_constraints=None,\n",
       "              learning_rate=0.2172811209648847, max_bin=None,\n",
       "              max_cat_threshold=None, max_cat_to_onehot=None,\n",
       "              max_delta_step=None, max_depth=11, max_leaves=None,\n",
       "              min_child_weight=None, missing=nan, monotone_constraints=None,\n",
       "              multi_strategy=None, n_estimators=None, n_jobs=None,\n",
       "              num_parallel_tree=None, random_state=None, ...)"
      ]
     },
     "execution_count": 13,
     "metadata": {},
     "output_type": "execute_result"
    }
   ],
   "source": [
    "model.fit(X, y)"
   ]
  },
  {
   "cell_type": "code",
   "execution_count": 14,
   "id": "b7b12f02",
   "metadata": {
    "execution": {
     "iopub.execute_input": "2024-08-14T18:15:18.493253Z",
     "iopub.status.busy": "2024-08-14T18:15:18.492815Z",
     "iopub.status.idle": "2024-08-14T18:15:34.731673Z",
     "shell.execute_reply": "2024-08-14T18:15:34.730437Z"
    },
    "papermill": {
     "duration": 16.247738,
     "end_time": "2024-08-14T18:15:34.734284",
     "exception": false,
     "start_time": "2024-08-14T18:15:18.486546",
     "status": "completed"
    },
    "tags": []
   },
   "outputs": [],
   "source": [
    "pred_class = model.predict(test_sub)\n",
    "\n",
    "test['class'] = pred_class\n",
    "test['class'] = test['class'].apply(lambda x: 'e' if x == 0 else 'p')\n",
    "\n",
    "submission = test[['id', 'class']]"
   ]
  },
  {
   "cell_type": "code",
   "execution_count": 15,
   "id": "e94f6f0f",
   "metadata": {
    "execution": {
     "iopub.execute_input": "2024-08-14T18:15:34.746261Z",
     "iopub.status.busy": "2024-08-14T18:15:34.745860Z",
     "iopub.status.idle": "2024-08-14T18:15:37.146489Z",
     "shell.execute_reply": "2024-08-14T18:15:37.145051Z"
    },
    "papermill": {
     "duration": 2.409623,
     "end_time": "2024-08-14T18:15:37.149205",
     "exception": false,
     "start_time": "2024-08-14T18:15:34.739582",
     "status": "completed"
    },
    "tags": []
   },
   "outputs": [],
   "source": [
    "submission.to_csv('/kaggle/working/VER5.csv', index=False)"
   ]
  }
 ],
 "metadata": {
  "kaggle": {
   "accelerator": "none",
   "dataSources": [
    {
     "databundleVersionId": 9045607,
     "sourceId": 76727,
     "sourceType": "competition"
    }
   ],
   "dockerImageVersionId": 30746,
   "isGpuEnabled": false,
   "isInternetEnabled": true,
   "language": "python",
   "sourceType": "notebook"
  },
  "kernelspec": {
   "display_name": "Python 3",
   "language": "python",
   "name": "python3"
  },
  "language_info": {
   "codemirror_mode": {
    "name": "ipython",
    "version": 3
   },
   "file_extension": ".py",
   "mimetype": "text/x-python",
   "name": "python",
   "nbconvert_exporter": "python",
   "pygments_lexer": "ipython3",
   "version": "3.10.13"
  },
  "papermill": {
   "default_parameters": {},
   "duration": 452.683003,
   "end_time": "2024-08-14T18:15:40.180994",
   "environment_variables": {},
   "exception": null,
   "input_path": "__notebook__.ipynb",
   "output_path": "__notebook__.ipynb",
   "parameters": {},
   "start_time": "2024-08-14T18:08:07.497991",
   "version": "2.5.0"
  }
 },
 "nbformat": 4,
 "nbformat_minor": 5
}
