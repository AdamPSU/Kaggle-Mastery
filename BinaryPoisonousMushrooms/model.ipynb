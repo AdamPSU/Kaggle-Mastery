{
 "cells": [
  {
   "cell_type": "code",
   "execution_count": 1,
   "id": "c61d7e88",
   "metadata": {
    "_cell_guid": "b1076dfc-b9ad-4769-8c92-a6c4dae69d19",
    "_uuid": "8f2839f25d086af736a60e9eeb907d3b93b6e0e5",
    "execution": {
     "iopub.execute_input": "2024-08-11T19:13:09.803181Z",
     "iopub.status.busy": "2024-08-11T19:13:09.802820Z",
     "iopub.status.idle": "2024-08-11T19:13:10.677930Z",
     "shell.execute_reply": "2024-08-11T19:13:10.676852Z"
    },
    "papermill": {
     "duration": 0.884207,
     "end_time": "2024-08-11T19:13:10.680590",
     "exception": false,
     "start_time": "2024-08-11T19:13:09.796383",
     "status": "completed"
    },
    "tags": []
   },
   "outputs": [
    {
     "name": "stdout",
     "output_type": "stream",
     "text": [
      "/kaggle/input/playground-series-s4e8/sample_submission.csv\n",
      "/kaggle/input/playground-series-s4e8/train.csv\n",
      "/kaggle/input/playground-series-s4e8/test.csv\n"
     ]
    }
   ],
   "source": [
    "import numpy as np # linear algebra\n",
    "import pandas as pd # data processing, CSV file I/O (e.g. pd.read_csv)\n",
    "\n",
    "import warnings\n",
    "warnings.filterwarnings('ignore')\n",
    "\n",
    "import os\n",
    "for dirname, _, filenames in os.walk('/kaggle/input'):\n",
    "    for filename in filenames:\n",
    "        print(os.path.join(dirname, filename))"
   ]
  },
  {
   "cell_type": "code",
   "execution_count": 2,
   "id": "cc7f0c36",
   "metadata": {
    "execution": {
     "iopub.execute_input": "2024-08-11T19:13:10.691861Z",
     "iopub.status.busy": "2024-08-11T19:13:10.691353Z",
     "iopub.status.idle": "2024-08-11T19:13:21.783947Z",
     "shell.execute_reply": "2024-08-11T19:13:21.782840Z"
    },
    "papermill": {
     "duration": 11.101113,
     "end_time": "2024-08-11T19:13:21.786700",
     "exception": false,
     "start_time": "2024-08-11T19:13:10.685587",
     "status": "completed"
    },
    "tags": []
   },
   "outputs": [],
   "source": [
    "train = pd.read_csv(\"/kaggle/input/playground-series-s4e8/train.csv\")"
   ]
  },
  {
   "cell_type": "code",
   "execution_count": 3,
   "id": "c157e89d",
   "metadata": {
    "execution": {
     "iopub.execute_input": "2024-08-11T19:13:21.798856Z",
     "iopub.status.busy": "2024-08-11T19:13:21.797941Z",
     "iopub.status.idle": "2024-08-11T19:13:27.891219Z",
     "shell.execute_reply": "2024-08-11T19:13:27.889834Z"
    },
    "papermill": {
     "duration": 6.10194,
     "end_time": "2024-08-11T19:13:27.893806",
     "exception": false,
     "start_time": "2024-08-11T19:13:21.791866",
     "status": "completed"
    },
    "tags": []
   },
   "outputs": [],
   "source": [
    "test = pd.read_csv(\"/kaggle/input/playground-series-s4e8/test.csv\")"
   ]
  },
  {
   "cell_type": "markdown",
   "id": "673c28d3",
   "metadata": {
    "papermill": {
     "duration": 0.004487,
     "end_time": "2024-08-11T19:13:27.903400",
     "exception": false,
     "start_time": "2024-08-11T19:13:27.898913",
     "status": "completed"
    },
    "tags": []
   },
   "source": [
    "# ***PREPROCESSING***"
   ]
  },
  {
   "cell_type": "code",
   "execution_count": 4,
   "id": "3cafbb83",
   "metadata": {
    "execution": {
     "iopub.execute_input": "2024-08-11T19:13:27.914554Z",
     "iopub.status.busy": "2024-08-11T19:13:27.913626Z",
     "iopub.status.idle": "2024-08-11T19:13:28.675356Z",
     "shell.execute_reply": "2024-08-11T19:13:28.674266Z"
    },
    "papermill": {
     "duration": 0.770166,
     "end_time": "2024-08-11T19:13:28.678044",
     "exception": false,
     "start_time": "2024-08-11T19:13:27.907878",
     "status": "completed"
    },
    "tags": []
   },
   "outputs": [],
   "source": [
    "features_to_drop = ['veil-type', 'does-bruise-or-bleed', 'has-ring', 'id']\n",
    "train = train.drop(features_to_drop, axis=1)"
   ]
  },
  {
   "cell_type": "code",
   "execution_count": 5,
   "id": "7d4a6856",
   "metadata": {
    "execution": {
     "iopub.execute_input": "2024-08-11T19:13:28.688945Z",
     "iopub.status.busy": "2024-08-11T19:13:28.688548Z",
     "iopub.status.idle": "2024-08-11T19:13:29.031426Z",
     "shell.execute_reply": "2024-08-11T19:13:29.030379Z"
    },
    "papermill": {
     "duration": 0.351358,
     "end_time": "2024-08-11T19:13:29.034061",
     "exception": false,
     "start_time": "2024-08-11T19:13:28.682703",
     "status": "completed"
    },
    "tags": []
   },
   "outputs": [],
   "source": [
    "test_sub = test.drop(features_to_drop, axis=1)"
   ]
  },
  {
   "cell_type": "code",
   "execution_count": 6,
   "id": "2c03bd5e",
   "metadata": {
    "execution": {
     "iopub.execute_input": "2024-08-11T19:13:29.045522Z",
     "iopub.status.busy": "2024-08-11T19:13:29.044582Z",
     "iopub.status.idle": "2024-08-11T19:13:29.555036Z",
     "shell.execute_reply": "2024-08-11T19:13:29.554109Z"
    },
    "papermill": {
     "duration": 0.518879,
     "end_time": "2024-08-11T19:13:29.557612",
     "exception": false,
     "start_time": "2024-08-11T19:13:29.038733",
     "status": "completed"
    },
    "tags": []
   },
   "outputs": [],
   "source": [
    "X = train.drop('class', axis=1)\n",
    "y = train['class']"
   ]
  },
  {
   "cell_type": "code",
   "execution_count": 7,
   "id": "6aef8504",
   "metadata": {
    "execution": {
     "iopub.execute_input": "2024-08-11T19:13:29.569079Z",
     "iopub.status.busy": "2024-08-11T19:13:29.568686Z",
     "iopub.status.idle": "2024-08-11T19:13:31.567699Z",
     "shell.execute_reply": "2024-08-11T19:13:31.566619Z"
    },
    "papermill": {
     "duration": 2.007982,
     "end_time": "2024-08-11T19:13:31.570203",
     "exception": false,
     "start_time": "2024-08-11T19:13:29.562221",
     "status": "completed"
    },
    "tags": []
   },
   "outputs": [],
   "source": [
    "from sklearn.pipeline import Pipeline \n",
    "from sklearn.impute import SimpleImputer\n",
    "from sklearn.compose import ColumnTransformer\n",
    "from sklearn.preprocessing import OneHotEncoder\n",
    "\n",
    "# Select numerical features \n",
    "num_features = X.select_dtypes(include='float64').columns\n",
    "# Select categorical features \n",
    "cat_features = X.select_dtypes(include='object').columns\n",
    "\n",
    "\n",
    "# Impute median to all numerical features \n",
    "num_pipeline = Pipeline(steps = [\n",
    "    (\"imputer\", SimpleImputer(strategy='median')),\n",
    "])\n",
    "\n",
    "# Impute most frequent category to all categorical features\n",
    "cat_pipeline = Pipeline(steps = [\n",
    "    (\"imputer\", SimpleImputer(strategy='most_frequent')),\n",
    "    (\"encoder\", OneHotEncoder(drop='first', min_frequency=300))\n",
    "])\n",
    "\n",
    "preprocessor = ColumnTransformer(\n",
    "    transformers=[\n",
    "        ('num', num_pipeline, num_features),\n",
    "        ('cat', cat_pipeline, cat_features)\n",
    "    ]\n",
    ")"
   ]
  },
  {
   "cell_type": "code",
   "execution_count": 8,
   "id": "ccfc575b",
   "metadata": {
    "execution": {
     "iopub.execute_input": "2024-08-11T19:13:31.580731Z",
     "iopub.status.busy": "2024-08-11T19:13:31.580340Z",
     "iopub.status.idle": "2024-08-11T19:14:25.721440Z",
     "shell.execute_reply": "2024-08-11T19:14:25.720238Z"
    },
    "papermill": {
     "duration": 54.149462,
     "end_time": "2024-08-11T19:14:25.724112",
     "exception": false,
     "start_time": "2024-08-11T19:13:31.574650",
     "status": "completed"
    },
    "tags": []
   },
   "outputs": [],
   "source": [
    "X = preprocessor.fit_transform(X)"
   ]
  },
  {
   "cell_type": "code",
   "execution_count": 9,
   "id": "931d1d5f",
   "metadata": {
    "execution": {
     "iopub.execute_input": "2024-08-11T19:14:25.735520Z",
     "iopub.status.busy": "2024-08-11T19:14:25.735131Z",
     "iopub.status.idle": "2024-08-11T19:15:01.620014Z",
     "shell.execute_reply": "2024-08-11T19:15:01.618869Z"
    },
    "papermill": {
     "duration": 35.893862,
     "end_time": "2024-08-11T19:15:01.622672",
     "exception": false,
     "start_time": "2024-08-11T19:14:25.728810",
     "status": "completed"
    },
    "tags": []
   },
   "outputs": [],
   "source": [
    "test_sub = preprocessor.fit_transform(test_sub)"
   ]
  },
  {
   "cell_type": "code",
   "execution_count": 10,
   "id": "16e33619",
   "metadata": {
    "execution": {
     "iopub.execute_input": "2024-08-11T19:15:01.633464Z",
     "iopub.status.busy": "2024-08-11T19:15:01.633079Z",
     "iopub.status.idle": "2024-08-11T19:15:01.637853Z",
     "shell.execute_reply": "2024-08-11T19:15:01.636637Z"
    },
    "papermill": {
     "duration": 0.012768,
     "end_time": "2024-08-11T19:15:01.640146",
     "exception": false,
     "start_time": "2024-08-11T19:15:01.627378",
     "status": "completed"
    },
    "tags": []
   },
   "outputs": [],
   "source": [
    "# ***MODEL PERFORMANCE***"
   ]
  },
  {
   "cell_type": "code",
   "execution_count": 11,
   "id": "7e8b1c1e",
   "metadata": {
    "execution": {
     "iopub.execute_input": "2024-08-11T19:15:01.651468Z",
     "iopub.status.busy": "2024-08-11T19:15:01.651060Z",
     "iopub.status.idle": "2024-08-11T19:18:30.124378Z",
     "shell.execute_reply": "2024-08-11T19:18:30.123193Z"
    },
    "papermill": {
     "duration": 208.482238,
     "end_time": "2024-08-11T19:18:30.127125",
     "exception": false,
     "start_time": "2024-08-11T19:15:01.644887",
     "status": "completed"
    },
    "tags": []
   },
   "outputs": [],
   "source": [
    "from sklearn.linear_model import LogisticRegression\n",
    "from sklearn.model_selection import StratifiedKFold\n",
    "from sklearn.metrics import matthews_corrcoef\n",
    "\n",
    "model = LogisticRegression() \n",
    "\n",
    "folds = 5\n",
    "skfolds = StratifiedKFold(n_splits=folds)\n",
    "\n",
    "total_mcc = []\n",
    "\n",
    "for train_index, test_index, in skfolds.split(X, y):\n",
    "    X_train_folds, y_train_folds = X[train_index], y[train_index]\n",
    "    X_test_folds, y_test_folds = X[test_index], y[test_index]\n",
    "    \n",
    "    model.fit(X_train_folds, y_train_folds)\n",
    "    y_pred_folds = model.predict(X_test_folds)\n",
    "    \n",
    "    mcc = matthews_corrcoef(y_test_folds, y_pred_folds)\n",
    "    total_mcc.append(mcc)"
   ]
  },
  {
   "cell_type": "code",
   "execution_count": 12,
   "id": "9c274b01",
   "metadata": {
    "execution": {
     "iopub.execute_input": "2024-08-11T19:18:30.139595Z",
     "iopub.status.busy": "2024-08-11T19:18:30.138821Z",
     "iopub.status.idle": "2024-08-11T19:18:30.146997Z",
     "shell.execute_reply": "2024-08-11T19:18:30.145920Z"
    },
    "papermill": {
     "duration": 0.016212,
     "end_time": "2024-08-11T19:18:30.149242",
     "exception": false,
     "start_time": "2024-08-11T19:18:30.133030",
     "status": "completed"
    },
    "tags": []
   },
   "outputs": [
    {
     "data": {
      "text/plain": [
       "0.6574105038961314"
      ]
     },
     "execution_count": 12,
     "metadata": {},
     "output_type": "execute_result"
    }
   ],
   "source": [
    "sum(total_mcc) / len(total_mcc)"
   ]
  },
  {
   "cell_type": "markdown",
   "id": "16ddccca",
   "metadata": {
    "papermill": {
     "duration": 0.004386,
     "end_time": "2024-08-11T19:18:30.158402",
     "exception": false,
     "start_time": "2024-08-11T19:18:30.154016",
     "status": "completed"
    },
    "tags": []
   },
   "source": [
    "# ***SUBMISSION***"
   ]
  },
  {
   "cell_type": "code",
   "execution_count": 13,
   "id": "08049ed3",
   "metadata": {
    "execution": {
     "iopub.execute_input": "2024-08-11T19:18:30.169468Z",
     "iopub.status.busy": "2024-08-11T19:18:30.169098Z",
     "iopub.status.idle": "2024-08-11T19:19:17.478826Z",
     "shell.execute_reply": "2024-08-11T19:19:17.477720Z"
    },
    "papermill": {
     "duration": 47.322912,
     "end_time": "2024-08-11T19:19:17.486011",
     "exception": false,
     "start_time": "2024-08-11T19:18:30.163099",
     "status": "completed"
    },
    "tags": []
   },
   "outputs": [
    {
     "data": {
      "text/html": [
       "<style>#sk-container-id-1 {color: black;background-color: white;}#sk-container-id-1 pre{padding: 0;}#sk-container-id-1 div.sk-toggleable {background-color: white;}#sk-container-id-1 label.sk-toggleable__label {cursor: pointer;display: block;width: 100%;margin-bottom: 0;padding: 0.3em;box-sizing: border-box;text-align: center;}#sk-container-id-1 label.sk-toggleable__label-arrow:before {content: \"▸\";float: left;margin-right: 0.25em;color: #696969;}#sk-container-id-1 label.sk-toggleable__label-arrow:hover:before {color: black;}#sk-container-id-1 div.sk-estimator:hover label.sk-toggleable__label-arrow:before {color: black;}#sk-container-id-1 div.sk-toggleable__content {max-height: 0;max-width: 0;overflow: hidden;text-align: left;background-color: #f0f8ff;}#sk-container-id-1 div.sk-toggleable__content pre {margin: 0.2em;color: black;border-radius: 0.25em;background-color: #f0f8ff;}#sk-container-id-1 input.sk-toggleable__control:checked~div.sk-toggleable__content {max-height: 200px;max-width: 100%;overflow: auto;}#sk-container-id-1 input.sk-toggleable__control:checked~label.sk-toggleable__label-arrow:before {content: \"▾\";}#sk-container-id-1 div.sk-estimator input.sk-toggleable__control:checked~label.sk-toggleable__label {background-color: #d4ebff;}#sk-container-id-1 div.sk-label input.sk-toggleable__control:checked~label.sk-toggleable__label {background-color: #d4ebff;}#sk-container-id-1 input.sk-hidden--visually {border: 0;clip: rect(1px 1px 1px 1px);clip: rect(1px, 1px, 1px, 1px);height: 1px;margin: -1px;overflow: hidden;padding: 0;position: absolute;width: 1px;}#sk-container-id-1 div.sk-estimator {font-family: monospace;background-color: #f0f8ff;border: 1px dotted black;border-radius: 0.25em;box-sizing: border-box;margin-bottom: 0.5em;}#sk-container-id-1 div.sk-estimator:hover {background-color: #d4ebff;}#sk-container-id-1 div.sk-parallel-item::after {content: \"\";width: 100%;border-bottom: 1px solid gray;flex-grow: 1;}#sk-container-id-1 div.sk-label:hover label.sk-toggleable__label {background-color: #d4ebff;}#sk-container-id-1 div.sk-serial::before {content: \"\";position: absolute;border-left: 1px solid gray;box-sizing: border-box;top: 0;bottom: 0;left: 50%;z-index: 0;}#sk-container-id-1 div.sk-serial {display: flex;flex-direction: column;align-items: center;background-color: white;padding-right: 0.2em;padding-left: 0.2em;position: relative;}#sk-container-id-1 div.sk-item {position: relative;z-index: 1;}#sk-container-id-1 div.sk-parallel {display: flex;align-items: stretch;justify-content: center;background-color: white;position: relative;}#sk-container-id-1 div.sk-item::before, #sk-container-id-1 div.sk-parallel-item::before {content: \"\";position: absolute;border-left: 1px solid gray;box-sizing: border-box;top: 0;bottom: 0;left: 50%;z-index: -1;}#sk-container-id-1 div.sk-parallel-item {display: flex;flex-direction: column;z-index: 1;position: relative;background-color: white;}#sk-container-id-1 div.sk-parallel-item:first-child::after {align-self: flex-end;width: 50%;}#sk-container-id-1 div.sk-parallel-item:last-child::after {align-self: flex-start;width: 50%;}#sk-container-id-1 div.sk-parallel-item:only-child::after {width: 0;}#sk-container-id-1 div.sk-dashed-wrapped {border: 1px dashed gray;margin: 0 0.4em 0.5em 0.4em;box-sizing: border-box;padding-bottom: 0.4em;background-color: white;}#sk-container-id-1 div.sk-label label {font-family: monospace;font-weight: bold;display: inline-block;line-height: 1.2em;}#sk-container-id-1 div.sk-label-container {text-align: center;}#sk-container-id-1 div.sk-container {/* jupyter's `normalize.less` sets `[hidden] { display: none; }` but bootstrap.min.css set `[hidden] { display: none !important; }` so we also need the `!important` here to be able to override the default hidden behavior on the sphinx rendered scikit-learn.org. See: https://github.com/scikit-learn/scikit-learn/issues/21755 */display: inline-block !important;position: relative;}#sk-container-id-1 div.sk-text-repr-fallback {display: none;}</style><div id=\"sk-container-id-1\" class=\"sk-top-container\"><div class=\"sk-text-repr-fallback\"><pre>LogisticRegression()</pre><b>In a Jupyter environment, please rerun this cell to show the HTML representation or trust the notebook. <br />On GitHub, the HTML representation is unable to render, please try loading this page with nbviewer.org.</b></div><div class=\"sk-container\" hidden><div class=\"sk-item\"><div class=\"sk-estimator sk-toggleable\"><input class=\"sk-toggleable__control sk-hidden--visually\" id=\"sk-estimator-id-1\" type=\"checkbox\" checked><label for=\"sk-estimator-id-1\" class=\"sk-toggleable__label sk-toggleable__label-arrow\">LogisticRegression</label><div class=\"sk-toggleable__content\"><pre>LogisticRegression()</pre></div></div></div></div></div>"
      ],
      "text/plain": [
       "LogisticRegression()"
      ]
     },
     "execution_count": 13,
     "metadata": {},
     "output_type": "execute_result"
    }
   ],
   "source": [
    "model.fit(X, y)"
   ]
  },
  {
   "cell_type": "code",
   "execution_count": 14,
   "id": "9360ac4c",
   "metadata": {
    "execution": {
     "iopub.execute_input": "2024-08-11T19:19:17.497528Z",
     "iopub.status.busy": "2024-08-11T19:19:17.497133Z",
     "iopub.status.idle": "2024-08-11T19:19:17.643309Z",
     "shell.execute_reply": "2024-08-11T19:19:17.642294Z"
    },
    "papermill": {
     "duration": 0.155025,
     "end_time": "2024-08-11T19:19:17.645965",
     "exception": false,
     "start_time": "2024-08-11T19:19:17.490940",
     "status": "completed"
    },
    "tags": []
   },
   "outputs": [],
   "source": [
    "pred_class = model.predict(test_sub)\n",
    "\n",
    "test['class'] = pred_class \n",
    "\n",
    "submission = test[['id', 'class']]"
   ]
  },
  {
   "cell_type": "code",
   "execution_count": 15,
   "id": "a82ff826",
   "metadata": {
    "execution": {
     "iopub.execute_input": "2024-08-11T19:19:17.658307Z",
     "iopub.status.busy": "2024-08-11T19:19:17.657915Z",
     "iopub.status.idle": "2024-08-11T19:19:19.206138Z",
     "shell.execute_reply": "2024-08-11T19:19:19.204850Z"
    },
    "papermill": {
     "duration": 1.55754,
     "end_time": "2024-08-11T19:19:19.208983",
     "exception": false,
     "start_time": "2024-08-11T19:19:17.651443",
     "status": "completed"
    },
    "tags": []
   },
   "outputs": [],
   "source": [
    "submission.to_csv('submission.csv', index=False)"
   ]
  }
 ],
 "metadata": {
  "kaggle": {
   "accelerator": "none",
   "dataSources": [
    {
     "databundleVersionId": 9045607,
     "sourceId": 76727,
     "sourceType": "competition"
    }
   ],
   "dockerImageVersionId": 30746,
   "isGpuEnabled": false,
   "isInternetEnabled": true,
   "language": "python",
   "sourceType": "notebook"
  },
  "kernelspec": {
   "display_name": "Python 3",
   "language": "python",
   "name": "python3"
  },
  "language_info": {
   "codemirror_mode": {
    "name": "ipython",
    "version": 3
   },
   "file_extension": ".py",
   "mimetype": "text/x-python",
   "name": "python",
   "nbconvert_exporter": "python",
   "pygments_lexer": "ipython3",
   "version": "3.10.13"
  },
  "papermill": {
   "default_parameters": {},
   "duration": 373.135501,
   "end_time": "2024-08-11T19:19:20.137985",
   "environment_variables": {},
   "exception": null,
   "input_path": "__notebook__.ipynb",
   "output_path": "__notebook__.ipynb",
   "parameters": {},
   "start_time": "2024-08-11T19:13:07.002484",
   "version": "2.5.0"
  }
 },
 "nbformat": 4,
 "nbformat_minor": 5
}
