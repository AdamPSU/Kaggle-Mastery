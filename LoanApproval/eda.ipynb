{
 "cells": [
  {
   "cell_type": "code",
   "execution_count": 1,
   "id": "a2af504f",
   "metadata": {
    "_cell_guid": "b1076dfc-b9ad-4769-8c92-a6c4dae69d19",
    "_uuid": "8f2839f25d086af736a60e9eeb907d3b93b6e0e5",
    "execution": {
     "iopub.execute_input": "2024-10-06T21:45:10.927380Z",
     "iopub.status.busy": "2024-10-06T21:45:10.926979Z",
     "iopub.status.idle": "2024-10-06T21:45:11.662648Z",
     "shell.execute_reply": "2024-10-06T21:45:11.661643Z"
    },
    "papermill": {
     "duration": 0.741834,
     "end_time": "2024-10-06T21:45:11.665034",
     "exception": false,
     "start_time": "2024-10-06T21:45:10.923200",
     "status": "completed"
    },
    "tags": []
   },
   "outputs": [],
   "source": [
    "import numpy as np \n",
    "import pandas as pd \n",
    "\n",
    "import os"
   ]
  },
  {
   "cell_type": "code",
   "execution_count": 2,
   "id": "5605e72b",
   "metadata": {
    "execution": {
     "iopub.execute_input": "2024-10-06T21:45:11.670579Z",
     "iopub.status.busy": "2024-10-06T21:45:11.669877Z",
     "iopub.status.idle": "2024-10-06T21:45:11.800420Z",
     "shell.execute_reply": "2024-10-06T21:45:11.799540Z"
    },
    "papermill": {
     "duration": 0.135553,
     "end_time": "2024-10-06T21:45:11.802715",
     "exception": false,
     "start_time": "2024-10-06T21:45:11.667162",
     "status": "completed"
    },
    "tags": []
   },
   "outputs": [],
   "source": [
    "train = pd.read_csv('/kaggle/input/playground-series-s4e10/train.csv')"
   ]
  },
  {
   "cell_type": "code",
   "execution_count": 3,
   "id": "80adb16f",
   "metadata": {
    "execution": {
     "iopub.execute_input": "2024-10-06T21:45:11.808689Z",
     "iopub.status.busy": "2024-10-06T21:45:11.807780Z",
     "iopub.status.idle": "2024-10-06T21:45:24.034663Z",
     "shell.execute_reply": "2024-10-06T21:45:24.033621Z"
    },
    "papermill": {
     "duration": 12.232352,
     "end_time": "2024-10-06T21:45:24.037097",
     "exception": false,
     "start_time": "2024-10-06T21:45:11.804745",
     "status": "completed"
    },
    "tags": []
   },
   "outputs": [
    {
     "name": "stdout",
     "output_type": "stream",
     "text": [
      "Collecting kavian\r\n",
      "  Downloading kavian-0.3.0-py3-none-any.whl.metadata (697 bytes)\r\n",
      "Requirement already satisfied: numpy in /opt/conda/lib/python3.10/site-packages (from kavian) (1.26.4)\r\n",
      "Requirement already satisfied: pandas in /opt/conda/lib/python3.10/site-packages (from kavian) (2.2.3)\r\n",
      "Requirement already satisfied: scikit-learn in /opt/conda/lib/python3.10/site-packages (from kavian) (1.2.2)\r\n",
      "Requirement already satisfied: rich in /opt/conda/lib/python3.10/site-packages (from kavian) (13.7.1)\r\n",
      "Requirement already satisfied: pytest in /opt/conda/lib/python3.10/site-packages (from kavian) (8.3.3)\r\n",
      "Requirement already satisfied: statsmodels in /opt/conda/lib/python3.10/site-packages (from kavian) (0.14.2)\r\n",
      "Requirement already satisfied: scipy in /opt/conda/lib/python3.10/site-packages (from kavian) (1.14.1)\r\n",
      "Requirement already satisfied: python-dateutil>=2.8.2 in /opt/conda/lib/python3.10/site-packages (from pandas->kavian) (2.9.0.post0)\r\n",
      "Requirement already satisfied: pytz>=2020.1 in /opt/conda/lib/python3.10/site-packages (from pandas->kavian) (2024.1)\r\n",
      "Requirement already satisfied: tzdata>=2022.7 in /opt/conda/lib/python3.10/site-packages (from pandas->kavian) (2024.1)\r\n",
      "Requirement already satisfied: iniconfig in /opt/conda/lib/python3.10/site-packages (from pytest->kavian) (2.0.0)\r\n",
      "Requirement already satisfied: packaging in /opt/conda/lib/python3.10/site-packages (from pytest->kavian) (21.3)\r\n",
      "Requirement already satisfied: pluggy<2,>=1.5 in /opt/conda/lib/python3.10/site-packages (from pytest->kavian) (1.5.0)\r\n",
      "Requirement already satisfied: exceptiongroup>=1.0.0rc8 in /opt/conda/lib/python3.10/site-packages (from pytest->kavian) (1.2.0)\r\n",
      "Requirement already satisfied: tomli>=1 in /opt/conda/lib/python3.10/site-packages (from pytest->kavian) (2.0.1)\r\n",
      "Requirement already satisfied: markdown-it-py>=2.2.0 in /opt/conda/lib/python3.10/site-packages (from rich->kavian) (3.0.0)\r\n",
      "Requirement already satisfied: pygments<3.0.0,>=2.13.0 in /opt/conda/lib/python3.10/site-packages (from rich->kavian) (2.18.0)\r\n",
      "Requirement already satisfied: joblib>=1.1.1 in /opt/conda/lib/python3.10/site-packages (from scikit-learn->kavian) (1.4.2)\r\n",
      "Requirement already satisfied: threadpoolctl>=2.0.0 in /opt/conda/lib/python3.10/site-packages (from scikit-learn->kavian) (3.5.0)\r\n",
      "Requirement already satisfied: patsy>=0.5.6 in /opt/conda/lib/python3.10/site-packages (from statsmodels->kavian) (0.5.6)\r\n",
      "Requirement already satisfied: mdurl~=0.1 in /opt/conda/lib/python3.10/site-packages (from markdown-it-py>=2.2.0->rich->kavian) (0.1.2)\r\n",
      "Requirement already satisfied: pyparsing!=3.0.5,>=2.0.2 in /opt/conda/lib/python3.10/site-packages (from packaging->pytest->kavian) (3.1.2)\r\n",
      "Requirement already satisfied: six in /opt/conda/lib/python3.10/site-packages (from patsy>=0.5.6->statsmodels->kavian) (1.16.0)\r\n",
      "Downloading kavian-0.3.0-py3-none-any.whl (17 kB)\r\n",
      "Installing collected packages: kavian\r\n",
      "Successfully installed kavian-0.3.0\r\n"
     ]
    }
   ],
   "source": [
    "!pip install kavian"
   ]
  },
  {
   "cell_type": "code",
   "execution_count": 4,
   "id": "91f2761f",
   "metadata": {
    "execution": {
     "iopub.execute_input": "2024-10-06T21:45:24.044698Z",
     "iopub.status.busy": "2024-10-06T21:45:24.043820Z",
     "iopub.status.idle": "2024-10-06T21:45:24.287042Z",
     "shell.execute_reply": "2024-10-06T21:45:24.286158Z"
    },
    "papermill": {
     "duration": 0.249243,
     "end_time": "2024-10-06T21:45:24.289025",
     "exception": false,
     "start_time": "2024-10-06T21:45:24.039782",
     "status": "completed"
    },
    "tags": []
   },
   "outputs": [
    {
     "name": "stdout",
     "output_type": "stream",
     "text": [
      "table size: 58645 • no. columns: 13 • memory usage: 17.77 MB\n"
     ]
    },
    {
     "data": {
      "text/html": [
       "<style type=\"text/css\">\n",
       "#T_9ce69 td {\n",
       "  border: 0.2px solid white;\n",
       "}\n",
       "#T_9ce69  th {\n",
       "  border: 0.2px solid white;\n",
       "}\n",
       "#T_9ce69_row0_col3, #T_9ce69_row0_col5, #T_9ce69_row1_col3, #T_9ce69_row2_col3, #T_9ce69_row3_col3, #T_9ce69_row4_col3, #T_9ce69_row5_col3, #T_9ce69_row6_col3, #T_9ce69_row7_col3, #T_9ce69_row8_col3, #T_9ce69_row9_col3, #T_9ce69_row10_col3, #T_9ce69_row11_col3, #T_9ce69_row12_col3 {\n",
       "  color: #ffffff;\n",
       "}\n",
       "#T_9ce69_row1_col5 {\n",
       "  color: #fcf294;\n",
       "}\n",
       "#T_9ce69_row2_col5 {\n",
       "  color: #fef8c5;\n",
       "}\n",
       "#T_9ce69_row3_col5 {\n",
       "  color: #fdf39d;\n",
       "}\n",
       "#T_9ce69_row4_col5 {\n",
       "  color: #fbee6b;\n",
       "}\n",
       "#T_9ce69_row5_col5, #T_9ce69_row9_col5, #T_9ce69_row12_col5 {\n",
       "  color: #e85440;\n",
       "}\n",
       "#T_9ce69_row6_col5 {\n",
       "  color: #fcf396;\n",
       "}\n",
       "#T_9ce69_row7_col5 {\n",
       "  color: #fefbe1;\n",
       "}\n",
       "#T_9ce69_row8_col5 {\n",
       "  color: #fefad2;\n",
       "}\n",
       "#T_9ce69_row10_col5 {\n",
       "  color: #fae55c;\n",
       "}\n",
       "#T_9ce69_row11_col5 {\n",
       "  color: #ec7446;\n",
       "}\n",
       "</style>\n",
       "<table id=\"T_9ce69\">\n",
       "  <thead>\n",
       "    <tr>\n",
       "      <th class=\"blank level0\" >&nbsp;</th>\n",
       "      <th id=\"T_9ce69_level0_col0\" class=\"col_heading level0 col0\" >Dtype</th>\n",
       "      <th id=\"T_9ce69_level0_col1\" class=\"col_heading level0 col1\" >Unique</th>\n",
       "      <th id=\"T_9ce69_level0_col2\" class=\"col_heading level0 col2\" >Null</th>\n",
       "      <th id=\"T_9ce69_level0_col3\" class=\"col_heading level0 col3\" >Null %</th>\n",
       "      <th id=\"T_9ce69_level0_col4\" class=\"col_heading level0 col4\" >Top</th>\n",
       "      <th id=\"T_9ce69_level0_col5\" class=\"col_heading level0 col5\" >Top %</th>\n",
       "    </tr>\n",
       "  </thead>\n",
       "  <tbody>\n",
       "    <tr>\n",
       "      <th id=\"T_9ce69_level0_row0\" class=\"row_heading level0 row0\" >id</th>\n",
       "      <td id=\"T_9ce69_row0_col0\" class=\"data row0 col0\" >int64</td>\n",
       "      <td id=\"T_9ce69_row0_col1\" class=\"data row0 col1\" >58645</td>\n",
       "      <td id=\"T_9ce69_row0_col2\" class=\"data row0 col2\" >0</td>\n",
       "      <td id=\"T_9ce69_row0_col3\" class=\"data row0 col3\" >0.00%</td>\n",
       "      <td id=\"T_9ce69_row0_col4\" class=\"data row0 col4\" >0</td>\n",
       "      <td id=\"T_9ce69_row0_col5\" class=\"data row0 col5\" >0.00%</td>\n",
       "    </tr>\n",
       "    <tr>\n",
       "      <th id=\"T_9ce69_level0_row1\" class=\"row_heading level0 row1\" >person_age</th>\n",
       "      <td id=\"T_9ce69_row1_col0\" class=\"data row1 col0\" >int64</td>\n",
       "      <td id=\"T_9ce69_row1_col1\" class=\"data row1 col1\" >53</td>\n",
       "      <td id=\"T_9ce69_row1_col2\" class=\"data row1 col2\" >0</td>\n",
       "      <td id=\"T_9ce69_row1_col3\" class=\"data row1 col3\" >0.00%</td>\n",
       "      <td id=\"T_9ce69_row1_col4\" class=\"data row1 col4\" >23</td>\n",
       "      <td id=\"T_9ce69_row1_col5\" class=\"data row1 col5\" >13.17%</td>\n",
       "    </tr>\n",
       "    <tr>\n",
       "      <th id=\"T_9ce69_level0_row2\" class=\"row_heading level0 row2\" >person_income</th>\n",
       "      <td id=\"T_9ce69_row2_col0\" class=\"data row2 col0\" >int64</td>\n",
       "      <td id=\"T_9ce69_row2_col1\" class=\"data row2 col1\" >2641</td>\n",
       "      <td id=\"T_9ce69_row2_col2\" class=\"data row2 col2\" >0</td>\n",
       "      <td id=\"T_9ce69_row2_col3\" class=\"data row2 col3\" >0.00%</td>\n",
       "      <td id=\"T_9ce69_row2_col4\" class=\"data row2 col4\" >60000</td>\n",
       "      <td id=\"T_9ce69_row2_col5\" class=\"data row2 col5\" >7.10%</td>\n",
       "    </tr>\n",
       "    <tr>\n",
       "      <th id=\"T_9ce69_level0_row3\" class=\"row_heading level0 row3\" >loan_amnt</th>\n",
       "      <td id=\"T_9ce69_row3_col0\" class=\"data row3 col0\" >int64</td>\n",
       "      <td id=\"T_9ce69_row3_col1\" class=\"data row3 col1\" >545</td>\n",
       "      <td id=\"T_9ce69_row3_col2\" class=\"data row3 col2\" >0</td>\n",
       "      <td id=\"T_9ce69_row3_col3\" class=\"data row3 col3\" >0.00%</td>\n",
       "      <td id=\"T_9ce69_row3_col4\" class=\"data row3 col4\" >10000</td>\n",
       "      <td id=\"T_9ce69_row3_col5\" class=\"data row3 col5\" >12.15%</td>\n",
       "    </tr>\n",
       "    <tr>\n",
       "      <th id=\"T_9ce69_level0_row4\" class=\"row_heading level0 row4\" >cb_person_cred_hist_length</th>\n",
       "      <td id=\"T_9ce69_row4_col0\" class=\"data row4 col0\" >int64</td>\n",
       "      <td id=\"T_9ce69_row4_col1\" class=\"data row4 col1\" >29</td>\n",
       "      <td id=\"T_9ce69_row4_col2\" class=\"data row4 col2\" >0</td>\n",
       "      <td id=\"T_9ce69_row4_col3\" class=\"data row4 col3\" >0.00%</td>\n",
       "      <td id=\"T_9ce69_row4_col4\" class=\"data row4 col4\" >3</td>\n",
       "      <td id=\"T_9ce69_row4_col5\" class=\"data row4 col5\" >18.26%</td>\n",
       "    </tr>\n",
       "    <tr>\n",
       "      <th id=\"T_9ce69_level0_row5\" class=\"row_heading level0 row5\" >loan_status</th>\n",
       "      <td id=\"T_9ce69_row5_col0\" class=\"data row5 col0\" >int64</td>\n",
       "      <td id=\"T_9ce69_row5_col1\" class=\"data row5 col1\" >2</td>\n",
       "      <td id=\"T_9ce69_row5_col2\" class=\"data row5 col2\" >0</td>\n",
       "      <td id=\"T_9ce69_row5_col3\" class=\"data row5 col3\" >0.00%</td>\n",
       "      <td id=\"T_9ce69_row5_col4\" class=\"data row5 col4\" >0</td>\n",
       "      <td id=\"T_9ce69_row5_col5\" class=\"data row5 col5\" >85.76%</td>\n",
       "    </tr>\n",
       "    <tr>\n",
       "      <th id=\"T_9ce69_level0_row6\" class=\"row_heading level0 row6\" >person_emp_length</th>\n",
       "      <td id=\"T_9ce69_row6_col0\" class=\"data row6 col0\" >float64</td>\n",
       "      <td id=\"T_9ce69_row6_col1\" class=\"data row6 col1\" >36</td>\n",
       "      <td id=\"T_9ce69_row6_col2\" class=\"data row6 col2\" >0</td>\n",
       "      <td id=\"T_9ce69_row6_col3\" class=\"data row6 col3\" >0.00%</td>\n",
       "      <td id=\"T_9ce69_row6_col4\" class=\"data row6 col4\" >0.000</td>\n",
       "      <td id=\"T_9ce69_row6_col5\" class=\"data row6 col5\" >12.94%</td>\n",
       "    </tr>\n",
       "    <tr>\n",
       "      <th id=\"T_9ce69_level0_row7\" class=\"row_heading level0 row7\" >loan_int_rate</th>\n",
       "      <td id=\"T_9ce69_row7_col0\" class=\"data row7 col0\" >float64</td>\n",
       "      <td id=\"T_9ce69_row7_col1\" class=\"data row7 col1\" >362</td>\n",
       "      <td id=\"T_9ce69_row7_col2\" class=\"data row7 col2\" >0</td>\n",
       "      <td id=\"T_9ce69_row7_col3\" class=\"data row7 col3\" >0.00%</td>\n",
       "      <td id=\"T_9ce69_row7_col4\" class=\"data row7 col4\" >10.990</td>\n",
       "      <td id=\"T_9ce69_row7_col5\" class=\"data row7 col5\" >3.72%</td>\n",
       "    </tr>\n",
       "    <tr>\n",
       "      <th id=\"T_9ce69_level0_row8\" class=\"row_heading level0 row8\" >loan_percent_income</th>\n",
       "      <td id=\"T_9ce69_row8_col0\" class=\"data row8 col0\" >float64</td>\n",
       "      <td id=\"T_9ce69_row8_col1\" class=\"data row8 col1\" >61</td>\n",
       "      <td id=\"T_9ce69_row8_col2\" class=\"data row8 col2\" >0</td>\n",
       "      <td id=\"T_9ce69_row8_col3\" class=\"data row8 col3\" >0.00%</td>\n",
       "      <td id=\"T_9ce69_row8_col4\" class=\"data row8 col4\" >0.100</td>\n",
       "      <td id=\"T_9ce69_row8_col5\" class=\"data row8 col5\" >5.54%</td>\n",
       "    </tr>\n",
       "    <tr>\n",
       "      <th id=\"T_9ce69_level0_row9\" class=\"row_heading level0 row9\" >person_home_ownership</th>\n",
       "      <td id=\"T_9ce69_row9_col0\" class=\"data row9 col0\" >object</td>\n",
       "      <td id=\"T_9ce69_row9_col1\" class=\"data row9 col1\" >4</td>\n",
       "      <td id=\"T_9ce69_row9_col2\" class=\"data row9 col2\" >0</td>\n",
       "      <td id=\"T_9ce69_row9_col3\" class=\"data row9 col3\" >0.00%</td>\n",
       "      <td id=\"T_9ce69_row9_col4\" class=\"data row9 col4\" >RENT</td>\n",
       "      <td id=\"T_9ce69_row9_col5\" class=\"data row9 col5\" >52.17%</td>\n",
       "    </tr>\n",
       "    <tr>\n",
       "      <th id=\"T_9ce69_level0_row10\" class=\"row_heading level0 row10\" >loan_intent</th>\n",
       "      <td id=\"T_9ce69_row10_col0\" class=\"data row10 col0\" >object</td>\n",
       "      <td id=\"T_9ce69_row10_col1\" class=\"data row10 col1\" >6</td>\n",
       "      <td id=\"T_9ce69_row10_col2\" class=\"data row10 col2\" >0</td>\n",
       "      <td id=\"T_9ce69_row10_col3\" class=\"data row10 col3\" >0.00%</td>\n",
       "      <td id=\"T_9ce69_row10_col4\" class=\"data row10 col4\" >EDUCATION</td>\n",
       "      <td id=\"T_9ce69_row10_col5\" class=\"data row10 col5\" >20.92%</td>\n",
       "    </tr>\n",
       "    <tr>\n",
       "      <th id=\"T_9ce69_level0_row11\" class=\"row_heading level0 row11\" >loan_grade</th>\n",
       "      <td id=\"T_9ce69_row11_col0\" class=\"data row11 col0\" >object</td>\n",
       "      <td id=\"T_9ce69_row11_col1\" class=\"data row11 col1\" >7</td>\n",
       "      <td id=\"T_9ce69_row11_col2\" class=\"data row11 col2\" >0</td>\n",
       "      <td id=\"T_9ce69_row11_col3\" class=\"data row11 col3\" >0.00%</td>\n",
       "      <td id=\"T_9ce69_row11_col4\" class=\"data row11 col4\" >A</td>\n",
       "      <td id=\"T_9ce69_row11_col5\" class=\"data row11 col5\" >35.78%</td>\n",
       "    </tr>\n",
       "    <tr>\n",
       "      <th id=\"T_9ce69_level0_row12\" class=\"row_heading level0 row12\" >cb_person_default_on_file</th>\n",
       "      <td id=\"T_9ce69_row12_col0\" class=\"data row12 col0\" >object</td>\n",
       "      <td id=\"T_9ce69_row12_col1\" class=\"data row12 col1\" >2</td>\n",
       "      <td id=\"T_9ce69_row12_col2\" class=\"data row12 col2\" >0</td>\n",
       "      <td id=\"T_9ce69_row12_col3\" class=\"data row12 col3\" >0.00%</td>\n",
       "      <td id=\"T_9ce69_row12_col4\" class=\"data row12 col4\" >N</td>\n",
       "      <td id=\"T_9ce69_row12_col5\" class=\"data row12 col5\" >85.16%</td>\n",
       "    </tr>\n",
       "  </tbody>\n",
       "</table>\n"
      ],
      "text/plain": [
       "<pandas.io.formats.style.Styler at 0x7b7fed0b02b0>"
      ]
     },
     "execution_count": 4,
     "metadata": {},
     "output_type": "execute_result"
    }
   ],
   "source": [
    "from kavian.eda.tabular import info, describe\n",
    "\n",
    "info(train)"
   ]
  }
 ],
 "metadata": {
  "kaggle": {
   "accelerator": "none",
   "dataSources": [
    {
     "databundleVersionId": 9709193,
     "sourceId": 84894,
     "sourceType": "competition"
    }
   ],
   "dockerImageVersionId": 30786,
   "isGpuEnabled": false,
   "isInternetEnabled": true,
   "language": "python",
   "sourceType": "notebook"
  },
  "kernelspec": {
   "display_name": "Python 3",
   "language": "python",
   "name": "python3"
  },
  "language_info": {
   "codemirror_mode": {
    "name": "ipython",
    "version": 3
   },
   "file_extension": ".py",
   "mimetype": "text/x-python",
   "name": "python",
   "nbconvert_exporter": "python",
   "pygments_lexer": "ipython3",
   "version": "3.10.14"
  },
  "papermill": {
   "default_parameters": {},
   "duration": 16.21447,
   "end_time": "2024-10-06T21:45:24.710040",
   "environment_variables": {},
   "exception": null,
   "input_path": "__notebook__.ipynb",
   "output_path": "__notebook__.ipynb",
   "parameters": {},
   "start_time": "2024-10-06T21:45:08.495570",
   "version": "2.6.0"
  }
 },
 "nbformat": 4,
 "nbformat_minor": 5
}
